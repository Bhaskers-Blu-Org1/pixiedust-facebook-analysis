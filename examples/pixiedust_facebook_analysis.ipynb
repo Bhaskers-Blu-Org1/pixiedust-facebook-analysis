{
 "cells": [
  {
   "cell_type": "markdown",
   "metadata": {
    "collapsed": true
   },
   "source": [
    "# Analyze Facebook Data Using IBM Watson and IBM Watson Studio\n",
    "\n",
    "This is a three-part notebook meant to show how anyone can enrich and analyze a combined dataset of unstructured and structured information with IBM Watson and IBM Watson Studio. For this example we are using a standard Facebook Analytics export which features texts from posts, articles and thumbnails, along with standard performance metrics such as likes, shares, and impressions. \n",
    "\n",
    "**Part I** will use the Natural Language Understanding and (optionally) Visual Recognition services from IBM Watson to enrich the Facebook posts, thumbnails, and articles by pulling out `Sentiment`, `Emotion`, `Entities`, `Keywords`, and `Images`. The end result of Part I will be additional features and metrics we can visualize in Part III. \n",
    "\n",
    "**Part II** will set up multiple pandas DataFrames that will contain the values, and metrics needed to find insights in the Part III tests and experiments.\n",
    "\n",
    "**Part III** will use charts to visualize the features that we discovered during enrichment and show how they correlate with customer impressions.\n",
    "\n",
    "\n",
    "#### You should only need to change data in the Setup portion of this notebook. All places where you see  <span style=\"color: red\"> User Input </span> is where you should be adding inputs. \n",
    "\n",
    "### Table of Contents\n",
    "\n",
    "### [**Part I - Enrich**](#part1)<br>\n",
    "1. [Setup](#setup)<br>\n",
    "   1.1 [Install Watson Developer Cloud and BeautifulSoup Packages](#setup1)<br>\n",
    "   1.2 [Install PixieDust](#pixie)<br> \n",
    "   1.3 [Restart Kernel](#restart)<br> \n",
    "   1.4 [Import Packages and Libraries](#setup2)<br>\n",
    "   1.5 [Add Service Credentials From IBM Cloud for Watson Services](#setup3)<br>\n",
    "2. [Load Data](#load)<br>\n",
    "   2.1 [Load Data From Cloud Object Storage as a pandas DataFrame](#load1)<br>\n",
    "   2.2 [Set Variables](#load2)<br>\n",
    "3. [Prepare Data](#prepare)<br>\n",
    "   3.1 [Data Cleansing with Python](#prepare1)<br>\n",
    "   3.2 [Beautiful Soup to Extract Thumbnails and Extented Links](#prepare2)<br>\n",
    "4. [Enrich Data](#enrich)<br>\n",
    "   4.1 [NLU for Post Text](#nlupost)<br>\n",
    "   4.2 [NLU for Thumbnail Text](#nlutn)<br>\n",
    "   4.3 [NLU for Article Text](#nlulink)<br>\n",
    "   4.4 [Visual Recognition](#visual)<br>\n",
    "5. [Write Data](#write)<br>\n",
    "   5.1 [Convert DataFrame to new CSV](#write1)<br>\n",
    "   5.2 [Write Data to Cloud Object Storage](#write2)<br>\n",
    "    \n",
    "### [**Part II - Data Preparation**](#part2)<br>\n",
    "1. [Prepare Data](#prepare)<br>\n",
    "   1.1 [Create Multiple DataFrames for Visualizations](#visualizations)<br>\n",
    "   1.2 [Create a Consolidated Sentiment and Emotion DataFrame](#tone)<br>\n",
    "   1.3 [Create a Consolidated Keyword DataFrame](#keyword)<br>\n",
    "   1.4 [Create a Consolidated Entity DataFrame](#entity)<br>\n",
    "  \n",
    "### [**Part III - Analyze**](#part3)<br>\n",
    "\n",
    "1. [Setup](#2setup)<br> \n",
    "    1.1 [Assign Variables](#2setup2)<br>\n",
    "2. [Visualize Data](#2visual)<br>\n",
    "    2.1 [Run PixieDust Visualization Library with Display() API](#2visual1)\n"
   ]
  },
  {
   "cell_type": "markdown",
   "metadata": {},
   "source": [
    "# <a id=\"part1\"></a>Part I - Enrich\n",
    "\n",
    "## <a id=\"setup\"></a>1. Setup\n",
    "To prepare your environment, you need to install some packages and enter credentials for the Watson services.\n",
    "\n",
    "### <a id=\"setup1\"></a> 1.1 Install Latest Watson Developer Cloud and Beautiful Soup Packages\n",
    "You need to install these packages:\n",
    " - [Watson APIs Python SDK](https://github.com/watson-developer-cloud/python-sdk): a client library for Watson services.\n",
    " - <a href=\"https://www.crummy.com/software/BeautifulSoup/bs4/doc/\" target=\"_blank\" rel=\"noopener noreferrer\">Beautiful Soup</a>: a library to parse data from HTML for enriching the Facebook data.\n",
    " - <a href=\"https://ibm-cds-labs.github.io/pixiedust/\" target=\"_blank\" rel=\"noopener noreferrer\">PixieDust</a>: a library to visualize the data. \n",
    "\n",
    "Install the Watson Python SDK package:"
   ]
  },
  {
   "cell_type": "code",
   "execution_count": 1,
   "metadata": {},
   "outputs": [],
   "source": [
    "!pip -q install --user --no-warn-script-location ibm-watson==4.3.0"
   ]
  },
  {
   "cell_type": "markdown",
   "metadata": {},
   "source": [
    "Install the Beautiful Soup package:"
   ]
  },
  {
   "cell_type": "code",
   "execution_count": 2,
   "metadata": {},
   "outputs": [],
   "source": [
    "!pip -q install --user beautifulsoup4==4.8.2"
   ]
  },
  {
   "cell_type": "markdown",
   "metadata": {},
   "source": [
    "<a id=\"pixie\"></a>\n",
    "### 1.2 Install PixieDust Library"
   ]
  },
  {
   "cell_type": "code",
   "execution_count": 3,
   "metadata": {},
   "outputs": [],
   "source": [
    "!pip -q install --user --no-warn-script-location --upgrade pixiedust==1.1.14"
   ]
  },
  {
   "cell_type": "markdown",
   "metadata": {},
   "source": [
    "<a id=\"restart\"></a>\n",
    "### 1.3 Restart Kernel\n",
    "> Required after installs/upgrades only.\n",
    "\n",
    "If any libraries were just installed or upgraded, <span style=\"color: red\">restart the kernel</span> before continuing. After this has been done once, you might want to comment out the `!pip install` lines above for cleaner output and a faster \"Run All\"."
   ]
  },
  {
   "cell_type": "markdown",
   "metadata": {},
   "source": [
    "<a id=\"setup2\"></a>\n",
    "### 1.4 Import Packages and Libraries\n",
    "> Tip: To check if you have a package installed, open a new cell and write: `help(<package-name>)`."
   ]
  },
  {
   "cell_type": "code",
   "execution_count": 4,
   "metadata": {},
   "outputs": [],
   "source": [
    "import json\n",
    "import sys\n",
    "\n",
    "from ibm_watson import NaturalLanguageUnderstandingV1\n",
    "from ibm_watson import VisualRecognitionV3\n",
    "from ibm_cloud_sdk_core.authenticators import IAMAuthenticator\n",
    "from ibm_watson.natural_language_understanding_v1 import Features, EntitiesOptions, KeywordsOptions, EmotionOptions, SentimentOptions\n",
    "\n",
    "import operator\n",
    "from functools import reduce\n",
    "from io import StringIO\n",
    "import numpy as np\n",
    "from bs4 import BeautifulSoup as bs\n",
    "from operator import itemgetter\n",
    "from os.path import join, dirname\n",
    "import pandas as pd\n",
    "import numpy as np\n",
    "import requests\n",
    "\n",
    "# Suppress some pandas warnings\n",
    "pd.options.mode.chained_assignment = None  # default='warn'\n",
    "# Suppress SSL warnings\n",
    "requests.packages.urllib3.disable_warnings()"
   ]
  },
  {
   "cell_type": "markdown",
   "metadata": {},
   "source": [
    "<a id='setup3'></a>\n",
    "### 1.5 Add Service Credentials From IBM Cloud for Watson Services\n",
    "Edit the following cell to provide your credentials for Watson and Natural Language Understanding and Visual Recognition.\n",
    "\n",
    "You must create a Watson Natural Language Understanding service and, optionally, a Watson Visual Recognition service on [IBM Cloud](https://cloud.ibm.com/).\n",
    "\n",
    "1. Create a service for [Natural Language Understanding (NLU)](https://cloud.ibm.com/catalog/services/natural-language-understanding). \n",
    "1. Create a service for [Visual Recognition](https://cloud.ibm.com/catalog/services/visual-recognition).\n",
    "1. Insert API keys and URLs in the following cell.\n",
    "1. Run the cell.\n",
    "\n",
    "###  <span style=\"color: red\"> _User Input_</span> "
   ]
  },
  {
   "cell_type": "code",
   "execution_count": 6,
   "metadata": {},
   "outputs": [],
   "source": [
    "# @hidden_cell\n",
    "\n",
    "# Watson Natural Language Understanding (NLU)\n",
    "# NATURAL_LANGUAGE_UNDERSTANDING_API_KEY = ''\n",
    "# NATURAL_LANGUAGE_UNDERSTANDING_URL = ''\n",
    "\n",
    "# Watson Visual Recognition\n",
    "VISUAL_RECOGNITION_API_KEY = ''\n",
    "VISUAL_RECOGNITION_URL = ''\n"
   ]
  },
  {
   "cell_type": "code",
   "execution_count": 24,
   "metadata": {},
   "outputs": [
    {
     "name": "stdout",
     "output_type": "stream",
     "text": [
      "Skipping Visual Recognition\n"
     ]
    }
   ],
   "source": [
    "# Create the Watson clients\n",
    "\n",
    "nlu_auth = IAMAuthenticator(NATURAL_LANGUAGE_UNDERSTANDING_API_KEY)\n",
    "nlu = NaturalLanguageUnderstandingV1(version='2020-03-09',\n",
    "                                     authenticator=nlu_auth)\n",
    "nlu.set_service_url(NATURAL_LANGUAGE_UNDERSTANDING_URL)\n",
    "\n",
    "visual_recognition = False  # Making visrec optional.\n",
    "if VISUAL_RECOGNITION_API_KEY and VISUAL_RECOGNITION_URL:\n",
    "    vr_auth = IAMAuthenticator(VISUAL_RECOGNITION_API_KEY)\n",
    "    visual_recognition = VisualRecognitionV3(version='2019-03-09',\n",
    "                                             authenticator=vr_auth)\n",
    "    visual_recognition.set_service_url(VISUAL_RECOGNITION_URL)\n",
    "else:\n",
    "    print(\"Skipping Visual Recognition\")"
   ]
  },
  {
   "cell_type": "markdown",
   "metadata": {},
   "source": [
    "\n",
    "## <a id='load'></a>2. Load Data\n",
    "The data you'll analyzing is a sample of a standard export of the Facebook Insights Post information from the <a href=\"https://www.facebook.com/ibmwatson/\" target=\"_blank\" rel=\"noopener noreferrer\">IBM Watson Facebook page</a>. Engagement metrics such as clicks, impressions, and so on, are altered and do not reflect actual post performance data. The data is on the Watson Studio community page.\n",
    "\n",
    "### 2.1 Load the data as a pandas DataFrame\n",
    "\n",
    "To get the data and load it into a pandas DataFrame:\n",
    "\n",
    "1. Load the file by clicking the **Find and Add Data** icon and then dragging and dropping the file onto the pane or browsing for the file. The data is stored in the object storage container that is associated with your project.\n",
    "1. Click in the next cell and then choose **Insert to code > pandas DataFrame** from below the file name and then run the cell. Change the inserted variable name to `df_data_1`\n",
    "\n",
    "###  <span style=\"color: red\"> _User Input_</span> "
   ]
  },
  {
   "cell_type": "code",
   "execution_count": 8,
   "metadata": {},
   "outputs": [
    {
     "data": {
      "text/html": [
       "<div>\n",
       "<style scoped>\n",
       "    .dataframe tbody tr th:only-of-type {\n",
       "        vertical-align: middle;\n",
       "    }\n",
       "\n",
       "    .dataframe tbody tr th {\n",
       "        vertical-align: top;\n",
       "    }\n",
       "\n",
       "    .dataframe thead th {\n",
       "        text-align: right;\n",
       "    }\n",
       "</style>\n",
       "<table border=\"1\" class=\"dataframe\">\n",
       "  <thead>\n",
       "    <tr style=\"text-align: right;\">\n",
       "      <th></th>\n",
       "      <th>Post ID</th>\n",
       "      <th>Permalink</th>\n",
       "      <th>Post Message</th>\n",
       "      <th>Type</th>\n",
       "      <th>Countries</th>\n",
       "      <th>Languages</th>\n",
       "      <th>Posted</th>\n",
       "      <th>Audience Targeting</th>\n",
       "      <th>Lifetime Post Total Reach</th>\n",
       "      <th>Lifetime Post organic reach</th>\n",
       "      <th>...</th>\n",
       "      <th>Lifetime Matched Audience Targeting Consumptions by Type - other clicks</th>\n",
       "      <th>Lifetime Matched Audience Targeting Consumptions by Type - link clicks</th>\n",
       "      <th>Lifetime Matched Audience Targeting Consumptions by Type - photo view</th>\n",
       "      <th>Lifetime Matched Audience Targeting Consumptions by Type - video play</th>\n",
       "      <th>Lifetime Negative Feedback from Users by Type - hide_all_clicks</th>\n",
       "      <th>Lifetime Negative Feedback from Users by Type - hide_clicks</th>\n",
       "      <th>Lifetime Negative Feedback from Users by Type - report_spam_clicks</th>\n",
       "      <th>Lifetime Negative Feedback by Type - hide_all_clicks</th>\n",
       "      <th>Lifetime Negative Feedback by Type - hide_clicks</th>\n",
       "      <th>Lifetime Negative Feedback by Type - report_spam_clicks</th>\n",
       "    </tr>\n",
       "  </thead>\n",
       "  <tbody>\n",
       "    <tr>\n",
       "      <th>0</th>\n",
       "      <td>NaN</td>\n",
       "      <td>NaN</td>\n",
       "      <td>NaN</td>\n",
       "      <td>NaN</td>\n",
       "      <td>NaN</td>\n",
       "      <td>NaN</td>\n",
       "      <td>NaN</td>\n",
       "      <td>NaN</td>\n",
       "      <td>Lifetime: The number of people who had your Pa...</td>\n",
       "      <td>Lifetime: The number of people who had your Pa...</td>\n",
       "      <td>...</td>\n",
       "      <td>Lifetime: The number of clicks anywhere in the...</td>\n",
       "      <td>NaN</td>\n",
       "      <td>NaN</td>\n",
       "      <td>NaN</td>\n",
       "      <td>Lifetime: The number of times people have give...</td>\n",
       "      <td>NaN</td>\n",
       "      <td>NaN</td>\n",
       "      <td>Lifetime: The number of people who have given ...</td>\n",
       "      <td>NaN</td>\n",
       "      <td>NaN</td>\n",
       "    </tr>\n",
       "    <tr>\n",
       "      <th>1</th>\n",
       "      <td>187446750783_10156099244995784</td>\n",
       "      <td>https://www.facebook.com/ibmwatson/posts/10156...</td>\n",
       "      <td>In 2018, IBM has made significant strides towa...</td>\n",
       "      <td>Link</td>\n",
       "      <td>NaN</td>\n",
       "      <td>NaN</td>\n",
       "      <td>12/26/18 9:22</td>\n",
       "      <td></td>\n",
       "      <td>13560</td>\n",
       "      <td>13560</td>\n",
       "      <td>...</td>\n",
       "      <td>53</td>\n",
       "      <td>84.0</td>\n",
       "      <td>NaN</td>\n",
       "      <td>NaN</td>\n",
       "      <td>3</td>\n",
       "      <td>4.0</td>\n",
       "      <td>NaN</td>\n",
       "      <td>3</td>\n",
       "      <td>4.0</td>\n",
       "      <td>NaN</td>\n",
       "    </tr>\n",
       "    <tr>\n",
       "      <th>2</th>\n",
       "      <td>187446750783_10156082794855784</td>\n",
       "      <td>https://www.facebook.com/ibmwatson/posts/10156...</td>\n",
       "      <td>Available now on IBM Cloud and Cloud Private, ...</td>\n",
       "      <td>Photo</td>\n",
       "      <td>NaN</td>\n",
       "      <td>NaN</td>\n",
       "      <td>12/18/18 7:15</td>\n",
       "      <td></td>\n",
       "      <td>7837</td>\n",
       "      <td>7837</td>\n",
       "      <td>...</td>\n",
       "      <td>25</td>\n",
       "      <td>17.0</td>\n",
       "      <td>47.0</td>\n",
       "      <td>NaN</td>\n",
       "      <td>4</td>\n",
       "      <td>NaN</td>\n",
       "      <td>NaN</td>\n",
       "      <td>4</td>\n",
       "      <td>NaN</td>\n",
       "      <td>NaN</td>\n",
       "    </tr>\n",
       "    <tr>\n",
       "      <th>3</th>\n",
       "      <td>187446750783_10156079731075784</td>\n",
       "      <td>https://www.facebook.com/ibmwatson/posts/10156...</td>\n",
       "      <td>A year in review in AI: https://ibm.co/2QAlo29</td>\n",
       "      <td>Link</td>\n",
       "      <td>NaN</td>\n",
       "      <td>NaN</td>\n",
       "      <td>12/16/18 14:54</td>\n",
       "      <td></td>\n",
       "      <td>10727</td>\n",
       "      <td>10727</td>\n",
       "      <td>...</td>\n",
       "      <td>39</td>\n",
       "      <td>129.0</td>\n",
       "      <td>NaN</td>\n",
       "      <td>NaN</td>\n",
       "      <td>3</td>\n",
       "      <td>4.0</td>\n",
       "      <td>NaN</td>\n",
       "      <td>3</td>\n",
       "      <td>4.0</td>\n",
       "      <td>NaN</td>\n",
       "    </tr>\n",
       "    <tr>\n",
       "      <th>4</th>\n",
       "      <td>187446750783_10156067568775784</td>\n",
       "      <td>https://www.facebook.com/ibmwatson/posts/10156...</td>\n",
       "      <td>IBM Watson</td>\n",
       "      <td>SharedVideo</td>\n",
       "      <td>NaN</td>\n",
       "      <td>NaN</td>\n",
       "      <td>12/10/18 14:06</td>\n",
       "      <td></td>\n",
       "      <td>7937</td>\n",
       "      <td>7937</td>\n",
       "      <td>...</td>\n",
       "      <td>191</td>\n",
       "      <td>80.0</td>\n",
       "      <td>NaN</td>\n",
       "      <td>NaN</td>\n",
       "      <td>1</td>\n",
       "      <td>4.0</td>\n",
       "      <td>NaN</td>\n",
       "      <td>1</td>\n",
       "      <td>4.0</td>\n",
       "      <td>NaN</td>\n",
       "    </tr>\n",
       "  </tbody>\n",
       "</table>\n",
       "<p>5 rows × 54 columns</p>\n",
       "</div>"
      ],
      "text/plain": [
       "                          Post ID  \\\n",
       "0                             NaN   \n",
       "1  187446750783_10156099244995784   \n",
       "2  187446750783_10156082794855784   \n",
       "3  187446750783_10156079731075784   \n",
       "4  187446750783_10156067568775784   \n",
       "\n",
       "                                           Permalink  \\\n",
       "0                                                NaN   \n",
       "1  https://www.facebook.com/ibmwatson/posts/10156...   \n",
       "2  https://www.facebook.com/ibmwatson/posts/10156...   \n",
       "3  https://www.facebook.com/ibmwatson/posts/10156...   \n",
       "4  https://www.facebook.com/ibmwatson/posts/10156...   \n",
       "\n",
       "                                        Post Message         Type  Countries  \\\n",
       "0                                                NaN          NaN        NaN   \n",
       "1  In 2018, IBM has made significant strides towa...         Link        NaN   \n",
       "2  Available now on IBM Cloud and Cloud Private, ...        Photo        NaN   \n",
       "3     A year in review in AI: https://ibm.co/2QAlo29         Link        NaN   \n",
       "4                                         IBM Watson  SharedVideo        NaN   \n",
       "\n",
       "   Languages          Posted Audience Targeting  \\\n",
       "0        NaN             NaN                NaN   \n",
       "1        NaN   12/26/18 9:22                      \n",
       "2        NaN   12/18/18 7:15                      \n",
       "3        NaN  12/16/18 14:54                      \n",
       "4        NaN  12/10/18 14:06                      \n",
       "\n",
       "                           Lifetime Post Total Reach  \\\n",
       "0  Lifetime: The number of people who had your Pa...   \n",
       "1                                              13560   \n",
       "2                                               7837   \n",
       "3                                              10727   \n",
       "4                                               7937   \n",
       "\n",
       "                         Lifetime Post organic reach  ...  \\\n",
       "0  Lifetime: The number of people who had your Pa...  ...   \n",
       "1                                              13560  ...   \n",
       "2                                               7837  ...   \n",
       "3                                              10727  ...   \n",
       "4                                               7937  ...   \n",
       "\n",
       "  Lifetime Matched Audience Targeting Consumptions by Type - other clicks  \\\n",
       "0  Lifetime: The number of clicks anywhere in the...                        \n",
       "1                                                 53                        \n",
       "2                                                 25                        \n",
       "3                                                 39                        \n",
       "4                                                191                        \n",
       "\n",
       "  Lifetime Matched Audience Targeting Consumptions by Type - link clicks  \\\n",
       "0                                                NaN                       \n",
       "1                                               84.0                       \n",
       "2                                               17.0                       \n",
       "3                                              129.0                       \n",
       "4                                               80.0                       \n",
       "\n",
       "  Lifetime Matched Audience Targeting Consumptions by Type - photo view  \\\n",
       "0                                                NaN                      \n",
       "1                                                NaN                      \n",
       "2                                               47.0                      \n",
       "3                                                NaN                      \n",
       "4                                                NaN                      \n",
       "\n",
       "  Lifetime Matched Audience Targeting Consumptions by Type - video play  \\\n",
       "0                                                NaN                      \n",
       "1                                                NaN                      \n",
       "2                                                NaN                      \n",
       "3                                                NaN                      \n",
       "4                                                NaN                      \n",
       "\n",
       "  Lifetime Negative Feedback from Users by Type - hide_all_clicks  \\\n",
       "0  Lifetime: The number of times people have give...                \n",
       "1                                                  3                \n",
       "2                                                  4                \n",
       "3                                                  3                \n",
       "4                                                  1                \n",
       "\n",
       "  Lifetime Negative Feedback from Users by Type - hide_clicks  \\\n",
       "0                                                NaN            \n",
       "1                                                4.0            \n",
       "2                                                NaN            \n",
       "3                                                4.0            \n",
       "4                                                4.0            \n",
       "\n",
       "  Lifetime Negative Feedback from Users by Type - report_spam_clicks  \\\n",
       "0                                                NaN                   \n",
       "1                                                NaN                   \n",
       "2                                                NaN                   \n",
       "3                                                NaN                   \n",
       "4                                                NaN                   \n",
       "\n",
       "  Lifetime Negative Feedback by Type - hide_all_clicks  \\\n",
       "0  Lifetime: The number of people who have given ...     \n",
       "1                                                  3     \n",
       "2                                                  4     \n",
       "3                                                  3     \n",
       "4                                                  1     \n",
       "\n",
       "  Lifetime Negative Feedback by Type - hide_clicks  \\\n",
       "0                                              NaN   \n",
       "1                                              4.0   \n",
       "2                                              NaN   \n",
       "3                                              4.0   \n",
       "4                                              4.0   \n",
       "\n",
       "  Lifetime Negative Feedback by Type - report_spam_clicks  \n",
       "0                                                NaN       \n",
       "1                                                NaN       \n",
       "2                                                NaN       \n",
       "3                                                NaN       \n",
       "4                                                NaN       \n",
       "\n",
       "[5 rows x 54 columns]"
      ]
     },
     "execution_count": 8,
     "metadata": {},
     "output_type": "execute_result"
    }
   ],
   "source": [
    "# **Insert to code > pandas DataFrame**\n",
    "import types\n",
    "import pandas as pd\n",
    "from botocore.client import Config\n",
    "import ibm_boto3\n",
    "\n",
    "def __iter__(self): return 0\n",
    "\n",
    "# @hidden_cell\n",
    "# The following code accesses a file in your IBM Cloud Object Storage. It includes your credentials.\n",
    "# You might want to remove those credentials before you share the notebook.\n",
    "client_6df6ee2db273492088c84211214e9bb6 = ibm_boto3.client(service_name='s3',\n",
    "    ibm_api_key_id='ltNRBEOrYOlruzOIor4IlltxWVfcvWqPomIQ6LOi8fvQ',\n",
    "    ibm_auth_endpoint=\"https://iam.ng.bluemix.net/oidc/token\",\n",
    "    config=Config(signature_version='oauth'),\n",
    "    endpoint_url='https://s3-api.us-geo.objectstorage.service.networklayer.com')\n",
    "\n",
    "body = client_6df6ee2db273492088c84211214e9bb6.get_object(Bucket='facebooksentiment-donotdelete-pr-hm77jd1loj2wvx',Key='example_facebook_data.csv')['Body']\n",
    "# add missing __iter__ method, so pandas accepts body as file-like object\n",
    "if not hasattr(body, \"__iter__\"): body.__iter__ = types.MethodType( __iter__, body )\n",
    "\n",
    "df_data_3 = pd.read_csv(body)\n",
    "df_data_3.head()\n"
   ]
  },
  {
   "cell_type": "markdown",
   "metadata": {},
   "source": [
    "### <a id='load2'></a>2.2 Set variables\n",
    "You need to set these variables:\n",
    " - The name of the DataFrame\n",
    " - Your credentials for the source file\n",
    " - A file name for the enriched DataFrame\n",
    " \n",
    "Define a variable, `df`, for the DataFrame that you just created. If necessary, change the original DataFrame name to match the one you created."
   ]
  },
  {
   "cell_type": "code",
   "execution_count": 9,
   "metadata": {},
   "outputs": [],
   "source": [
    "# Make sure this uses the variable above. The number will vary in the inserted code.\n",
    "try:\n",
    "    df = df_data_3\n",
    "except NameError as e:\n",
    "    print('Error: Setup is incorrect or incomplete.\\n')\n",
    "    print('Follow the instructions to insert the pandas DataFrame above, and edit to')\n",
    "    print('make the generated df_data_# variable match the variable used here.')\n",
    "    raise"
   ]
  },
  {
   "cell_type": "markdown",
   "metadata": {},
   "source": [
    "**Select the cell below and place your cursor on an empty line below the comment.** \n",
    "Put in the credentials for the file you want to enrich by clicking on the 10/01 (upper right), then click `Insert to code` under the file you want to enrich, and choose `Insert Credentials`.\n",
    "\n",
    "**Change the inserted variable name to `credentials_1`**\n",
    "\n",
    "###  <span style=\"color: red\"> _User Input_</span> "
   ]
  },
  {
   "cell_type": "code",
   "execution_count": 10,
   "metadata": {},
   "outputs": [],
   "source": [
    "# insert credentials for file - Change to credentials_1\n",
    "# @hidden_cell\n",
    "# The following code contains the credentials for a file in your IBM Cloud Object Storage.\n",
    "# You might want to remove those credentials before you share your notebook.\n",
    "credentials_2 = {\n",
    "    'IAM_SERVICE_ID': 'iam-ServiceId-c1663f4d-9b8a-4211-aeaf-e296c6aa9eca',\n",
    "    'IBM_API_KEY_ID': 'ltNRBEOrYOlruzOIor4IlltxWVfcvWqPomIQ6LOi8fvQ',\n",
    "    'ENDPOINT': 'https://s3-api.us-geo.objectstorage.service.networklayer.com',\n",
    "    'IBM_AUTH_ENDPOINT': 'https://iam.ng.bluemix.net/oidc/token',\n",
    "    'BUCKET': 'facebooksentiment-donotdelete-pr-hm77jd1loj2wvx',\n",
    "    'FILE': 'example_facebook_data.csv'\n",
    "}\n"
   ]
  },
  {
   "cell_type": "code",
   "execution_count": 11,
   "metadata": {},
   "outputs": [],
   "source": [
    "# Make sure this uses the variable above. The number will vary in the inserted code.\n",
    "try:\n",
    "    credentials = credentials_2\n",
    "except NameError as e:\n",
    "    print('Error: Setup is incorrect or incomplete.\\n')\n",
    "    print('Follow the instructions to insert the file credentials above, and edit to')\n",
    "    print('make the generated credentials_# variable match the variable used here.')\n",
    "    raise"
   ]
  },
  {
   "cell_type": "markdown",
   "metadata": {},
   "source": [
    "<a id='prepare'></a>\n",
    "## 3. Prepare Data\n",
    "You'll prepare the data by cleansing it and extracting the URLs. Many of the posts contain both text and a URL. The first task is to separate URLs from the text so that they can be analyzed separately. Then you need to get thumbnails for the photos and links, and convert any shortened URLs to full URLs."
   ]
  },
  {
   "cell_type": "markdown",
   "metadata": {},
   "source": [
    "<a id='prepare1'></a>\n",
    "###  3.1 Data Cleansing with Python\n",
    "Renaming columns, removing noticeable noise in the data, pulling out URLs and appending to a new column to run through NLU.\n",
    "\n",
    "To cleanse the data, you'll rename a column and add a column with the URLs that were embedded in the post. \n",
    "\n",
    "Change the name of the `Post Message` column to `Text`:"
   ]
  },
  {
   "cell_type": "code",
   "execution_count": 12,
   "metadata": {},
   "outputs": [],
   "source": [
    "df.rename(columns={'Post Message': 'Text'}, inplace=True)"
   ]
  },
  {
   "cell_type": "code",
   "execution_count": 13,
   "metadata": {},
   "outputs": [],
   "source": [
    "# Drop the rows that have NaN for the text.\n",
    "df.dropna(subset=['Text'], inplace=True)"
   ]
  },
  {
   "cell_type": "markdown",
   "metadata": {},
   "source": [
    "Use the `str.partition` function to remove strings that contain \"http\" and \"www\" from the `Text` column and save them in new DataFrames, then add all web addresses to a new `Link` column in the original DataFrame. This process captures all web addresses: https, http, and www."
   ]
  },
  {
   "cell_type": "code",
   "execution_count": 14,
   "metadata": {},
   "outputs": [],
   "source": [
    "df_http = df[\"Text\"].str.partition(\"http\")\n",
    "df_www = df[\"Text\"].str.partition(\"www\")\n",
    "\n",
    "# Combine delimiters with actual links\n",
    "df_http[\"Link\"] = df_http[1].map(str) + df_http[2]\n",
    "df_www[\"Link1\"] = df_www[1].map(str) + df_www[2]\n",
    "\n",
    "# Include only Link columns\n",
    "df_http.drop(df_http.columns[0:3], axis=1, inplace = True)\n",
    "df_www.drop(df_www.columns[0:3], axis=1, inplace = True)\n",
    "\n",
    "# Merge http and www DataFrames\n",
    "dfmerge = pd.concat([df_http, df_www], axis=1)\n",
    "\n",
    "# The following steps will allow you to merge data columns from the left to the right\n",
    "dfmerge = dfmerge.apply(lambda x: x.str.strip()).replace('', np.nan)\n",
    "\n",
    "# Use fillna to fill any blanks with the Link1 column\n",
    "dfmerge[\"Link\"].fillna(dfmerge[\"Link1\"], inplace = True)\n",
    "\n",
    "# Delete Link1 (www column)\n",
    "dfmerge.drop(\"Link1\", axis=1, inplace = True)\n",
    "\n",
    "# Combine Link data frame\n",
    "df = pd.concat([dfmerge,df], axis = 1)\n",
    "\n",
    "# Make sure text column is a string\n",
    "df[\"Text\"] = df[\"Text\"].astype(\"str\")\n",
    "\n",
    "# Strip links from Text column\n",
    "df['Text'] = df['Text'].apply(lambda x: x.split('http')[0])\n",
    "df['Text'] = df['Text'].apply(lambda x: x.split('www')[0])"
   ]
  },
  {
   "cell_type": "markdown",
   "metadata": {},
   "source": [
    "### <a id='prepare2'></a> 3.2 Extract thumbnails and extended links\n",
    "\n",
    "A standard Facebook export does not provide the thumbnail that usually summarizes the link or photo associated with each post. Use the Beautiful Soup library to go into the HTML of the post and extract the thumbnail text:"
   ]
  },
  {
   "cell_type": "code",
   "execution_count": 15,
   "metadata": {},
   "outputs": [],
   "source": [
    "# Change links from objects to strings\n",
    "for link in df.Link:\n",
    "    df.Link.to_string()\n",
    "\n",
    "piclinks = []\n",
    "description = []\n",
    "for url in df[\"Link\"]:\n",
    "    if pd.isnull(url):\n",
    "        piclinks.append(\"\")\n",
    "        description.append(\"\")\n",
    "        continue\n",
    "        \n",
    "    try:\n",
    "        # Skip certificate check with verify=False.\n",
    "        # Don't do this if your urls are not secure.\n",
    "        page3 = requests.get(url, verify=False)\n",
    "        if page3.status_code != requests.codes.ok:\n",
    "            piclinks.append(\"\")\n",
    "            description.append(\"\")\n",
    "            continue\n",
    "    except Exception as e:\n",
    "        print(\"Skipping url %s: %s\" % (url, e))\n",
    "        piclinks.append(\"\")\n",
    "        description.append(\"\")\n",
    "        continue\n",
    "        \n",
    "    soup3 = bs(page3.text,\"lxml\")\n",
    "    \n",
    "    pic = soup3.find('meta', property =\"og:image\")\n",
    "    if pic:\n",
    "        piclinks.append(pic[\"content\"])\n",
    "    else: \n",
    "        piclinks.append(\"\")\n",
    "    \n",
    "    content = None\n",
    "    desc = soup3.find(attrs={'name':'Description'})\n",
    "    if desc:\n",
    "        content = desc['content']\n",
    "    if not content or content == 'null':\n",
    "        # Try again with lowercase description\n",
    "        desc = soup3.find(attrs={'name':'description'})\n",
    "        if desc:\n",
    "            content = desc['content']\n",
    "    if not content or content == 'null':\n",
    "        description.append(\"\")\n",
    "    else:\n",
    "        description.append(content)\n",
    "            \n",
    "# Save thumbnail descriptions to df in a column titled 'Thumbnails'\n",
    "df[\"Thumbnails\"] = description\n",
    "# Save image links to df in a column titled 'Image'\n",
    "df[\"Image\"] = piclinks"
   ]
  },
  {
   "cell_type": "markdown",
   "metadata": {},
   "source": [
    "Convert shortened links to full links.\n",
    "Use requests module to pull extended links. This is only necessary if the Facebook page uses different links than the articles themselves. For this example we are using IBM Watson's Facebook export which uses an IBM link. \n"
   ]
  },
  {
   "cell_type": "code",
   "execution_count": 16,
   "metadata": {},
   "outputs": [],
   "source": [
    "shortlink = df[\"Link\"]\n",
    "extendedlink = []\n",
    "\n",
    "for link in shortlink:\n",
    "    if isinstance(link, float):  # Float is not a URL, probably NaN.\n",
    "        extendedlink.append('')\n",
    "    else:\n",
    "        try:\n",
    "            extended_link = requests.Session().head(link, allow_redirects=True).url\n",
    "            extendedlink.append(extended_link)\n",
    "        except Exception as e:\n",
    "            print(\"Skipping link %s: %s\" % (link, e))\n",
    "            extendedlink.append('')\n",
    "\n",
    "df[\"Extended Links\"] = extendedlink"
   ]
  },
  {
   "cell_type": "markdown",
   "metadata": {},
   "source": [
    "<a id='enrich'></a> \n",
    "## 4. Enrichment Time!\n",
    "<a id='nlupost'></a>\n",
    "###  4.1 NLU for the Post Text\n",
    "The following script is an example of how to use Natural Language Understanding to iterate through each post and extract enrichment features for future analysis.\n",
    "\n",
    "For this example, we are looking at the `Text` column in our DataFrame, which contains the text of each post. NLU can also iterate through a column of URLs, or other freeform text. There's a list within a list for the Keywords and Entities features to allow gathering multiple entities and keywords from each piece of text.\n",
    "\n",
    "Each extracted feature is appended to the DataFrame in a new column that's defined at the end of the script. If you want to run this same script for the other columns, set the loop iterable to the column name, if you are using URLs, change the `text=response` parameter to `url=response`, and update the new column names as necessary. "
   ]
  },
  {
   "cell_type": "code",
   "execution_count": 17,
   "metadata": {},
   "outputs": [],
   "source": [
    "# Define the list of features to get enrichment values for entities, keywords, emotion and sentiment\n",
    "features = Features(entities=EntitiesOptions(), keywords=KeywordsOptions(), emotion=EmotionOptions(), sentiment=SentimentOptions())\n",
    "\n",
    "overallSentimentScore = []\n",
    "overallSentimentType = []\n",
    "highestEmotion = []\n",
    "highestEmotionScore = []\n",
    "kywords = []\n",
    "entities = []\n",
    "\n",
    "# Go through every response and enrich the text using NLU.\n",
    "for text in df['Text']:\n",
    "  if not text:\n",
    "    # print(\"Text is empty\")\n",
    "    overallSentimentScore.append('0')\n",
    "    overallSentimentType.append('0')\n",
    "    highestEmotion.append(\"\")\n",
    "    highestEmotionScore.append(\"\")\n",
    "    kywords.append(\"\")\n",
    "    entities.append(\"\")\n",
    "    continue\n",
    "  else:\n",
    "    # We are assuming English to avoid errors when the language cannot be detected.\n",
    "    enriched_json = nlu.analyze(text=text, features=features, language='en').get_result()\n",
    "\n",
    "    # Get the SENTIMENT score and type\n",
    "    if 'sentiment' in enriched_json:\n",
    "        if('score' in enriched_json['sentiment'][\"document\"]):\n",
    "            overallSentimentScore.append(enriched_json[\"sentiment\"][\"document\"][\"score\"])\n",
    "        else:\n",
    "            overallSentimentScore.append('0')\n",
    "\n",
    "        if('label' in enriched_json['sentiment'][\"document\"]):\n",
    "            overallSentimentType.append(enriched_json[\"sentiment\"][\"document\"][\"label\"])\n",
    "        else:\n",
    "            overallSentimentType.append('0')\n",
    "    else:\n",
    "        overallSentimentScore.append('0')\n",
    "        overallSentimentType.append('0')\n",
    "\n",
    "    # Read the EMOTIONS into a dict and get the key (emotion) with maximum value\n",
    "    if 'emotion' in enriched_json:\n",
    "        me = max(enriched_json[\"emotion\"][\"document\"][\"emotion\"].items(), key=operator.itemgetter(1))[0]\n",
    "        highestEmotion.append(me)\n",
    "        highestEmotionScore.append(enriched_json[\"emotion\"][\"document\"][\"emotion\"][me])\n",
    "    else:\n",
    "        highestEmotion.append(\"\")\n",
    "        highestEmotionScore.append(\"\")\n",
    "\n",
    "    # Iterate and get KEYWORDS with a confidence of over 70%\n",
    "    if 'keywords' in enriched_json:\n",
    "        tmpkw = []\n",
    "        for kw in enriched_json['keywords']:\n",
    "            if(float(kw[\"relevance\"]) >= 0.7):\n",
    "                tmpkw.append(kw[\"text\"])\n",
    "        # Convert multiple keywords in a list to a string and append the string\n",
    "        kywords.append(', '.join(tmpkw))\n",
    "    else:\n",
    "        kywords.append(\"\")\n",
    "            \n",
    "    # Iterate and get Entities with a confidence of over 30%\n",
    "    if 'entities' in enriched_json:\n",
    "        tmpent = []\n",
    "        for ent in enriched_json['entities']: \n",
    "            if(float(ent[\"relevance\"]) >= 0.3):\n",
    "                tmpent.append(ent[\"type\"])\n",
    " \n",
    "        # Convert multiple entities in a list to a string and append the string\n",
    "        entities.append(', '.join(tmpent))\n",
    "    else:\n",
    "        entities.append(\"\")\n",
    "    \n",
    "# Create columns from the list and append to the DataFrame\n",
    "if highestEmotion:\n",
    "    df['TextHighestEmotion'] = highestEmotion\n",
    "if highestEmotionScore:\n",
    "    df['TextHighestEmotionScore'] = highestEmotionScore\n",
    "\n",
    "if overallSentimentType:\n",
    "    df['TextOverallSentimentType'] = overallSentimentType\n",
    "if overallSentimentScore:\n",
    "    df['TextOverallSentimentScore'] = overallSentimentScore\n",
    "\n",
    "df['TextKeywords'] = kywords\n",
    "df['TextEntities'] = entities"
   ]
  },
  {
   "cell_type": "markdown",
   "metadata": {},
   "source": [
    "After we extract all of the Keywords and Entities from each Post, we have columns with multiple Keywords and Entities separated by commas. For our Analysis in Part II, we also wanted the top Keyword and Entity for each Post. Because of this, we added two new columns to capture the `MaxTextKeyword` and `MaxTextEntity`."
   ]
  },
  {
   "cell_type": "code",
   "execution_count": 18,
   "metadata": {},
   "outputs": [],
   "source": [
    "# Choose first of Keywords, Concepts, Entities\n",
    "df[\"MaxTextKeywords\"] = df[\"TextKeywords\"].apply(lambda x: x.split(',')[0])\n",
    "df[\"MaxTextEntity\"] = df[\"TextEntities\"].apply(lambda x: x.split(',')[0])"
   ]
  },
  {
   "cell_type": "markdown",
   "metadata": {},
   "source": [
    "<a id='nlutn'></a>\n",
    "###  4.2 NLU for Thumbnail Text\n",
    "\n",
    "We will repeat the same process for Thumbnails and Article Text."
   ]
  },
  {
   "cell_type": "code",
   "execution_count": 19,
   "metadata": {},
   "outputs": [],
   "source": [
    "# Define the list of features to get enrichment values for entities, keywords, emotion and sentiment\n",
    "features = Features(entities=EntitiesOptions(), keywords=KeywordsOptions(), emotion=EmotionOptions(), sentiment=SentimentOptions())\n",
    "\n",
    "overallSentimentScore = []\n",
    "overallSentimentType = []\n",
    "highestEmotion = []\n",
    "highestEmotionScore = []\n",
    "kywords = []\n",
    "entities = []\n",
    "\n",
    "# Go through every response and enrich the text using NLU.\n",
    "for text in df['Thumbnails']:\n",
    "    if not text:\n",
    "        overallSentimentScore.append(' ')\n",
    "        overallSentimentType.append(' ')\n",
    "        highestEmotion.append(' ')\n",
    "        highestEmotionScore.append(' ')\n",
    "        kywords.append(' ')\n",
    "        entities.append(' ')\n",
    "        continue\n",
    "\n",
    "    enriched_json = nlu.analyze(text=text, features=features, language='en').get_result()\n",
    "\n",
    "    # Get the SENTIMENT score and type\n",
    "    if 'sentiment' in enriched_json:\n",
    "        if('score' in enriched_json['sentiment'][\"document\"]):\n",
    "            overallSentimentScore.append(enriched_json[\"sentiment\"][\"document\"][\"score\"])\n",
    "        else:\n",
    "            overallSentimentScore.append(\"\")\n",
    "\n",
    "        if('label' in enriched_json['sentiment'][\"document\"]):\n",
    "            overallSentimentType.append(enriched_json[\"sentiment\"][\"document\"][\"label\"])\n",
    "        else:\n",
    "            overallSentimentType.append(\"\")\n",
    "\n",
    "    # Read the EMOTIONS into a dict and get the key (emotion) with maximum value\n",
    "    if 'emotion' in enriched_json:\n",
    "        me = max(enriched_json[\"emotion\"][\"document\"][\"emotion\"].items(), key=operator.itemgetter(1))[0]\n",
    "        highestEmotion.append(me)\n",
    "        highestEmotionScore.append(enriched_json[\"emotion\"][\"document\"][\"emotion\"][me])\n",
    "\n",
    "    else:\n",
    "        highestEmotion.append(\"\")\n",
    "        highestEmotionScore.append(\"\")\n",
    "\n",
    "    # Iterate and get KEYWORDS with a confidence of over 70%\n",
    "    if 'keywords' in enriched_json:\n",
    "        tmpkw = []\n",
    "        for kw in enriched_json['keywords']:\n",
    "            if(float(kw[\"relevance\"]) >= 0.7):\n",
    "                tmpkw.append(kw[\"text\"])\n",
    "        # Convert multiple keywords in a list to a string and append the string\n",
    "        kywords.append(', '.join(tmpkw))\n",
    "     \n",
    "    # Iterate and get Entities with a confidence of over 30%\n",
    "    if 'entities' in enriched_json:\n",
    "        tmpent = []\n",
    "        for ent in enriched_json['entities']:              \n",
    "            if(float(ent[\"relevance\"]) >= 0.3):\n",
    "                tmpent.append(ent[\"type\"])\n",
    "        # Convert multiple entities in a list to a string and append the string\n",
    "        entities.append(', '.join(tmpent))\n",
    "    else:\n",
    "        entities.append(\"\")     \n",
    "  \n",
    "# Create columns from the list and append to the DataFrame\n",
    "if highestEmotion:\n",
    "    df['ThumbnailHighestEmotion'] = highestEmotion\n",
    "if highestEmotionScore:\n",
    "    df['ThumbnailHighestEmotionScore'] = highestEmotionScore\n",
    "\n",
    "if overallSentimentType:\n",
    "    df['ThumbnailOverallSentimentType'] = overallSentimentType\n",
    "if overallSentimentScore:\n",
    "    df['ThumbnailOverallSentimentScore'] = overallSentimentScore\n",
    "\n",
    "df['ThumbnailKeywords'] = kywords\n",
    "df['ThumbnailEntities'] = entities"
   ]
  },
  {
   "cell_type": "markdown",
   "metadata": {},
   "source": [
    " Add two new columns to capture the `MaxThumbnailKeyword` and `MaxThumbnailEntity`:"
   ]
  },
  {
   "cell_type": "code",
   "execution_count": 20,
   "metadata": {},
   "outputs": [],
   "source": [
    "# Set 'Max' to first one from keywords and entities lists\n",
    "df[\"MaxThumbnailKeywords\"] = df[\"ThumbnailKeywords\"].apply(lambda x: x.split(',')[0])\n",
    "df[\"MaxThumbnailEntity\"] = df[\"ThumbnailEntities\"].apply(lambda x: x.split(',')[0])"
   ]
  },
  {
   "cell_type": "markdown",
   "metadata": {},
   "source": [
    "<a id='nlulink'></a> \n",
    "### 4.3 NLU for Article Text"
   ]
  },
  {
   "cell_type": "code",
   "execution_count": 21,
   "metadata": {},
   "outputs": [
    {
     "name": "stderr",
     "output_type": "stream",
     "text": [
      "ERROR:root:Could not fetch URL: Target server returned error\n",
      "Traceback (most recent call last):\n",
      "  File \"/home/dsxuser/.local/lib/python3.6/site-packages/ibm_cloud_sdk_core/base_service.py\", line 229, in send\n",
      "    response.status_code, error_message, http_response=response)\n",
      "ibm_cloud_sdk_core.api_exception.ApiException: Error: Could not fetch URL: Target server returned error, Code: 400 , X-global-transaction-id: a6d00c44e7f4a55d2d74fdd8cd494d70\n"
     ]
    },
    {
     "name": "stdout",
     "output_type": "stream",
     "text": [
      "Skipping url https://www.ibm.com/events/think/watch/replay/113754265/: Error: Could not fetch URL: Target server returned error, Code: 400 , X-global-transaction-id: a6d00c44e7f4a55d2d74fdd8cd494d70\n"
     ]
    }
   ],
   "source": [
    "# Define the list of features to get enrichment values for entities, keywords, emotion and sentiment\n",
    "features = Features(entities=EntitiesOptions(), keywords=KeywordsOptions(), emotion=EmotionOptions(), sentiment=SentimentOptions())\n",
    "\n",
    "overallSentimentScore = []\n",
    "overallSentimentType = []\n",
    "highestEmotion = []\n",
    "highestEmotionScore = []\n",
    "kywords = []\n",
    "entities = []\n",
    "article_text = []\n",
    "        \n",
    "# Go through every response and enrich the article using NLU\n",
    "for url in df['Extended Links']:\n",
    "    if not url:\n",
    "        overallSentimentScore.append(' ')\n",
    "        overallSentimentType.append(' ')\n",
    "        highestEmotion.append(' ')\n",
    "        highestEmotionScore.append(' ')\n",
    "        kywords.append(' ')\n",
    "        entities.append(' ')\n",
    "        article_text.append(' ')\n",
    "        continue\n",
    "\n",
    "    # Run links through NLU to get entities, keywords, emotion and sentiment.\n",
    "    # Use return_analyzed_text to extract text for Tone Analyzer to use.\n",
    "    \n",
    "    try:\n",
    "        enriched_json = nlu.analyze(url=url,\n",
    "                                features=features,\n",
    "                                language='en',\n",
    "                                return_analyzed_text=True).get_result()\n",
    "        article_text.append(enriched_json[\"analyzed_text\"])\n",
    "    except Exception as e:\n",
    "        print(\"Skipping url %s: %s\" % (url, e))\n",
    "        overallSentimentScore.append(' ')\n",
    "        overallSentimentType.append(' ')\n",
    "        highestEmotion.append(' ')\n",
    "        highestEmotionScore.append(' ')\n",
    "        kywords.append(' ')\n",
    "        entities.append(' ')\n",
    "        article_text.append(' ')\n",
    "        continue\n",
    "      \n",
    "    \n",
    "    \n",
    "\n",
    "    # Get the SENTIMENT score and type\n",
    "    if 'sentiment' in enriched_json:\n",
    "        if('score' in enriched_json['sentiment'][\"document\"]):\n",
    "            overallSentimentScore.append(enriched_json[\"sentiment\"][\"document\"][\"score\"])\n",
    "        else:\n",
    "            overallSentimentScore.append('None')\n",
    "\n",
    "        if('label' in enriched_json['sentiment'][\"document\"]):\n",
    "            overallSentimentType.append(enriched_json[\"sentiment\"][\"document\"][\"label\"])\n",
    "        else:\n",
    "            overallSentimentType.append('')\n",
    "\n",
    "    # Read the EMOTIONS into a dict and get the key (emotion) with maximum value\n",
    "    if 'emotion' in enriched_json:\n",
    "        me = max(enriched_json[\"emotion\"][\"document\"][\"emotion\"].items(), key=operator.itemgetter(1))[0]\n",
    "        highestEmotion.append(me)\n",
    "        highestEmotionScore.append(enriched_json[\"emotion\"][\"document\"][\"emotion\"][me])\n",
    "\n",
    "    else:\n",
    "        highestEmotion.append('')\n",
    "        highestEmotionScore.append('')\n",
    "\n",
    "    # Iterate and get KEYWORDS with a confidence of over 70%\n",
    "    if 'keywords' in enriched_json:\n",
    "        tmpkw = []\n",
    "        for kw in enriched_json['keywords']:\n",
    "            if(float(kw[\"relevance\"]) >= 0.7):\n",
    "                tmpkw.append(kw[\"text\"])\n",
    "        # Convert multiple keywords in a list to a string and append the string\n",
    "        kywords.append(', '.join(tmpkw))\n",
    "    else: \n",
    "        kywords.append(\"\")\n",
    "            \n",
    "    # Iterate and get Entities with a confidence of over 30%\n",
    "    if 'entities' in enriched_json:\n",
    "        tmpent = []\n",
    "        for ent in enriched_json['entities']:               \n",
    "            if(float(ent[\"relevance\"]) >= 0.3):\n",
    "                tmpent.append(ent[\"type\"])\n",
    "        # Convert multiple entities in a list to a string and append the string\n",
    "        entities.append(', '.join(tmpent))\n",
    "    else:\n",
    "        entities.append(\"\")\n",
    "    \n",
    "# Create columns from the list and append to the DataFrame\n",
    "if highestEmotion:\n",
    "    df['LinkHighestEmotion'] = highestEmotion\n",
    "if highestEmotionScore:\n",
    "    df['LinkHighestEmotionScore'] = highestEmotionScore\n",
    "\n",
    "if overallSentimentType:\n",
    "    df['LinkOverallSentimentType'] = overallSentimentType\n",
    "if overallSentimentScore:\n",
    "    df['LinkOverallSentimentScore'] = overallSentimentScore\n",
    "\n",
    "df['LinkKeywords'] = kywords\n",
    "df['LinkEntities'] = entities\n",
    "df['Article Text'] = article_text"
   ]
  },
  {
   "cell_type": "markdown",
   "metadata": {},
   "source": [
    "Add two new columns to capture the `MaxLinkKeyword` and `MaxLinkEntity`:"
   ]
  },
  {
   "cell_type": "code",
   "execution_count": 22,
   "metadata": {},
   "outputs": [],
   "source": [
    "# Set 'Max' to first one from keywords and entities lists\n",
    "df[\"MaxLinkKeywords\"] = df[\"LinkKeywords\"].apply(lambda x: x.split(',')[0])\n",
    "df[\"MaxLinkEntity\"] = df[\"LinkEntities\"].apply(lambda x: x.split(',')[0])"
   ]
  },
  {
   "cell_type": "markdown",
   "metadata": {},
   "source": [
    "<a id='visual'></a> \n",
    "### 4.4 Visual Recognition\n",
    "Below uses Visual Recognition to classify the thumbnail images.\n",
    "\n",
    "> NOTE: When using the **free tier** of Visual Recognition, _classify_ has a limit of 250 images per day."
   ]
  },
  {
   "cell_type": "code",
   "execution_count": 25,
   "metadata": {},
   "outputs": [],
   "source": [
    "if visual_recognition:\n",
    "    piclinks = df[\"Image\"]\n",
    "\n",
    "    picclass = []\n",
    "    piccolor = []\n",
    "    pictype1 = []\n",
    "    pictype2 = []\n",
    "    pictype3 = []\n",
    "\n",
    "    for pic in piclinks:\n",
    "        if not pic or pic == 'default-img':\n",
    "            picclass.append(' ')\n",
    "            piccolor.append(' ')\n",
    "            pictype1.append(' ')\n",
    "            pictype2.append(' ')\n",
    "            pictype3.append(' ')\n",
    "            continue\n",
    "\n",
    "        classes = []\n",
    "        enriched_json = {}\n",
    "        try:\n",
    "            enriched_json = visual_recognition.classify(url=pic).get_result()\n",
    "        except Exception as e:\n",
    "            print(\"Skipping url %s: %s\" % (pic, e))\n",
    "\n",
    "        if 'error' in enriched_json:\n",
    "            print(enriched_json['error'])\n",
    "        if 'images' in enriched_json and 'classifiers' in enriched_json['images'][0]:\n",
    "            classes = enriched_json['images'][0][\"classifiers\"][0][\"classes\"]\n",
    "\n",
    "        color1 = None\n",
    "        class1 = None\n",
    "        type_hierarchy1 = None\n",
    "\n",
    "        for iclass in classes:\n",
    "            # Grab the first color, first class, and first type hierarchy.\n",
    "            # Note: Usually you'd filter by 'score' too.\n",
    "            if not type_hierarchy1 and 'type_hierarchy' in iclass:\n",
    "                type_hierarchy1 = iclass['type_hierarchy']\n",
    "            if not class1:\n",
    "                class1 = iclass['class']\n",
    "            if not color1 and iclass['class'].endswith(' color'):\n",
    "                color1 = iclass['class'][:-len(' color')]\n",
    "            if type_hierarchy1 and class1 and color1:\n",
    "                # We are only using 1 of each per image. When we have all 3, break.\n",
    "                break\n",
    "\n",
    "        picclass.append(class1 or ' ')\n",
    "        piccolor.append(color1 or ' ')\n",
    "        type_split = (type_hierarchy1 or '/ / / ').split('/')\n",
    "        pictype1.append(type_split[1] if len(type_split) > 1 else '-')\n",
    "        pictype2.append(type_split[2] if len(type_split) > 2 else '- ')\n",
    "        pictype3.append(type_split[3] if len(type_split) > 3 else '-')\n",
    "\n",
    "    df[\"Image Color\"] = piccolor\n",
    "    df[\"Image Class\"] = picclass\n",
    "    df[\"Image Type\"] = pictype1\n",
    "    df[\"Image Subtype\"] = pictype2\n",
    "    df[\"Image Subtype2\"] = pictype3"
   ]
  },
  {
   "cell_type": "markdown",
   "metadata": {},
   "source": [
    " <a id='write'></a>\n",
    "## Enrichment is now COMPLETE!\n",
    "<a id='write1'></a> \n",
    "Save a copy of the enriched DataFrame as a file in Cloud Object Storage. To run the upload_file function we first need to create a variable that contains our credentials we created in section 2.2. No user input is required as we already have all of the information we need. To upload the file to COS simply run the next two cells."
   ]
  },
  {
   "cell_type": "code",
   "execution_count": 26,
   "metadata": {},
   "outputs": [],
   "source": [
    "cos = ibm_boto3.client(service_name='s3',\n",
    "    ibm_api_key_id=credentials['IBM_API_KEY_ID'],\n",
    "    ibm_service_instance_id=credentials['IAM_SERVICE_ID'],\n",
    "    ibm_auth_endpoint=credentials['IBM_AUTH_ENDPOINT'],\n",
    "    config=Config(signature_version='oauth'),\n",
    "    endpoint_url=credentials['ENDPOINT'])"
   ]
  },
  {
   "cell_type": "code",
   "execution_count": 27,
   "metadata": {},
   "outputs": [],
   "source": [
    "# Build the enriched file name from the original filename.\n",
    "localfilename = 'enriched_' + credentials['FILE']\n",
    "\n",
    "# Write a CSV file from the enriched pandas DataFrame.\n",
    "df.to_csv(localfilename, index=False)\n",
    "\n",
    "# Use the above put_file method with credentials to put the file in Object Storage.\n",
    "cos.upload_file(localfilename, Bucket=credentials['BUCKET'],Key=localfilename)"
   ]
  },
  {
   "cell_type": "code",
   "execution_count": 28,
   "metadata": {},
   "outputs": [],
   "source": [
    "# If you want to use the enriched local file, you can read it back in.\n",
    "# This might be handy if you already enriched and just want to re-run\n",
    "# from this cell and below. Uncomment the following line.\n",
    "\n",
    "# df = pd.read_csv(localfilename)"
   ]
  },
  {
   "cell_type": "markdown",
   "metadata": {},
   "source": [
    "<a id=\"part2\"></a> \n",
    "# Part II - Data Preparation\n",
    "<a id='prepare'></a>\n",
    "## 1. Prepare Data\n",
    " <a id='visualizations'></a>\n",
    "### 1.1 Prepare Multiple DataFrames for Visualizations\n",
    "Before we can create the separate tables for each Watson feature we need to organize and reformat the data. First, we need to determine which data points are tied to metrics. Second, we need to make sure make sure each metric is numeric. _(This is necessary for PixieDust in Part III)_"
   ]
  },
  {
   "cell_type": "code",
   "execution_count": 29,
   "metadata": {},
   "outputs": [],
   "source": [
    "# Put the lifetime metrics in a list\n",
    "metrics = [metric for metric in df.columns.values.tolist() if 'Lifetime' in metric]"
   ]
  },
  {
   "cell_type": "markdown",
   "metadata": {},
   "source": [
    "<a id='tone'></a> \n",
    "### 1.2 Create a Consolidated Sentiment and Emotion DataFrame\n",
    "You'll create a DataFrame for the sentiment and emotion of the post text and a DataFrame for the sentiment and emotion of the article text. Then you'll combine them into one DataFrame.\n"
   ]
  },
  {
   "cell_type": "markdown",
   "metadata": {},
   "source": [
    "#### Post Sentiment and Emotion DataFrame"
   ]
  },
  {
   "cell_type": "code",
   "execution_count": 30,
   "metadata": {},
   "outputs": [],
   "source": [
    "# Create a list with only Post sentiment and emotion values\n",
    "post_tones = [\"Text\",\"TextHighestEmotion\", \"TextHighestEmotionScore\", \"TextOverallSentimentType\", \"TextOverallSentimentScore\"]\n",
    "\n",
    "# Append DataFrame with these metrics\n",
    "post_tones.extend(metrics)\n",
    "\n",
    "# Create a new DataFrame with metrics and sentiment and emotion\n",
    "df_post_tones = df[post_tones]\n",
    "\n",
    "# Determine which tone values are suppose to be numeric and ensure they are numeric. \n",
    "post_numeric_values = [\"TextHighestEmotionScore\", \"TextOverallSentimentScore\"]\n",
    "for i in post_numeric_values:\n",
    "    df_post_tones[i] = pd.to_numeric(df_post_tones[i], errors='coerce')\n",
    "\n",
    "# Make all metrics numeric\n",
    "for i in metrics:\n",
    "    df_post_tones[i] = pd.to_numeric(df_post_tones[i], errors='coerce')\n",
    "\n",
    "# Add in a column to distinguish what portion the enrichment was happening \n",
    "df_post_tones[\"Type\"] = \"Post\""
   ]
  },
  {
   "cell_type": "markdown",
   "metadata": {},
   "source": [
    "#### Article Sentiment and Emotion DataFrame"
   ]
  },
  {
   "cell_type": "code",
   "execution_count": 31,
   "metadata": {},
   "outputs": [],
   "source": [
    "# Create a list with only Article sentiment and emotion values\n",
    "article_tones = [\"Text\", \"LinkHighestEmotion\", \"LinkHighestEmotionScore\", \"LinkOverallSentimentType\", \"LinkOverallSentimentScore\"]\n",
    "\n",
    "# Append DataFrame with these metrics\n",
    "article_tones.extend(metrics)\n",
    "\n",
    "# Create a new DataFrame with metrics and sentiment and emotion\n",
    "df_article_tones = df[article_tones]\n",
    "\n",
    "# Determine which values are suppose to be numeric and ensure they are numeric. \n",
    "art_numeric_values = [\"LinkHighestEmotionScore\", \"LinkOverallSentimentScore\"]\n",
    "for i in art_numeric_values:\n",
    "    df_article_tones[i] = pd.to_numeric(df_article_tones[i], errors='coerce')\n",
    "    \n",
    "# Make all metrics numeric\n",
    "for i in metrics:\n",
    "    df_article_tones[i] = pd.to_numeric(df_article_tones[i], errors='coerce')\n",
    "\n",
    "# Add in a column to distinguish what portion the enrichment was happening \n",
    "df_article_tones[\"Type\"] = \"Article\""
   ]
  },
  {
   "cell_type": "markdown",
   "metadata": {},
   "source": [
    "#### Combine Post and Article DataFrames to Make DataFrame with Sentiment and Emotion"
   ]
  },
  {
   "cell_type": "code",
   "execution_count": 32,
   "metadata": {},
   "outputs": [],
   "source": [
    "# First make the Column Headers the same\n",
    "df_post_tones.rename(columns={\"TextHighestEmotion\":\"Emotion\",\n",
    "                              \"TextHighestEmotionScore\":\"Emotion Score\",\n",
    "                              \"TextOverallSentimentType\": \"Sentiment\",\n",
    "                              \"TextOverallSentimentScore\": \"Sentiment Score\"\n",
    "                             },\n",
    "                     inplace=True)\n",
    "\n",
    "df_article_tones.rename(columns={\"LinkHighestEmotion\":\"Emotion\",\n",
    "                                 \"LinkHighestEmotionScore\":\"Emotion Score\",\n",
    "                                 \"LinkOverallSentimentType\": \"Sentiment\",\n",
    "                                 \"LinkOverallSentimentScore\": \"Sentiment Score\"\n",
    "                                },\n",
    "                        inplace=True)\n",
    "\n",
    "# Combine into one data frame\n",
    "df_tones = pd.concat([df_post_tones, df_article_tones])"
   ]
  },
  {
   "cell_type": "markdown",
   "metadata": {},
   "source": [
    " <a id='keyword'></a> \n",
    "### 1.3 Create a Consolidated Keyword DataFrame\n",
    "You'll create DataFrames for the keywords of the article text, the thumbnail text, and the post text. Then you'll combine them into one DataFrame."
   ]
  },
  {
   "cell_type": "markdown",
   "metadata": {},
   "source": [
    " #### Article Keyword DataFrame "
   ]
  },
  {
   "cell_type": "code",
   "execution_count": 33,
   "metadata": {},
   "outputs": [],
   "source": [
    "# Create a list with only Article Keywords\n",
    "article_keywords = [\"Text\", \"MaxLinkKeywords\"]\n",
    "\n",
    "# Append DataFrame with these metrics\n",
    "article_keywords.extend(metrics)\n",
    "\n",
    "# Create a new DataFrame with keywords and metrics\n",
    "df_article_keywords = df[article_keywords]\n",
    "\n",
    "# Make all metrics numeric\n",
    "for i in metrics:\n",
    "    df_article_keywords[i] = pd.to_numeric(df_article_keywords[i], errors='coerce')\n",
    "\n",
    "# Drop NA Values in Keywords Column\n",
    "df_article_keywords['MaxLinkKeywords'].replace(' ', np.nan, inplace=True)\n",
    "df_article_keywords.dropna(subset=['MaxLinkKeywords'], inplace=True)\n",
    "\n",
    "# Add in a column to distinguish what portion the enrichment was happening \n",
    "df_article_keywords[\"Type\"] = \"Article\""
   ]
  },
  {
   "cell_type": "markdown",
   "metadata": {},
   "source": [
    "#### Thumbnail Keyword DataFrame "
   ]
  },
  {
   "cell_type": "code",
   "execution_count": 34,
   "metadata": {},
   "outputs": [],
   "source": [
    "# Create a list with only Thumbnail Keywords\n",
    "thumbnail_keywords = [\"Text\", \"MaxThumbnailKeywords\"]\n",
    "\n",
    "# Append DataFrame with these metrics\n",
    "thumbnail_keywords.extend(metrics)\n",
    "\n",
    "# Create a new DataFrame with keywords and metrics\n",
    "df_thumbnail_keywords = df[thumbnail_keywords]\n",
    "\n",
    "# Make all metrics numeric\n",
    "for i in metrics:\n",
    "    df_thumbnail_keywords[i] = pd.to_numeric(df_thumbnail_keywords[i], errors='coerce')\n",
    "    \n",
    "# Drop NA Values in Keywords Column\n",
    "df_thumbnail_keywords['MaxThumbnailKeywords'].replace(' ', np.nan, inplace=True)\n",
    "df_thumbnail_keywords.dropna(subset=['MaxThumbnailKeywords'], inplace=True)\n",
    "\n",
    "# Add in a column to distinguish what portion the enrichment was happening \n",
    "df_thumbnail_keywords[\"Type\"] = \"Thumbnails\""
   ]
  },
  {
   "cell_type": "markdown",
   "metadata": {},
   "source": [
    "#### Post Keyword DataFrame "
   ]
  },
  {
   "cell_type": "code",
   "execution_count": 35,
   "metadata": {},
   "outputs": [],
   "source": [
    "# Create a list with only Thumbnail Keywords\n",
    "post_keywords = [\"Text\", \"MaxTextKeywords\"]\n",
    "\n",
    "# Append DataFrame with these metrics\n",
    "post_keywords.extend(metrics)\n",
    "\n",
    "# Create a new DataFrame with keywords and metrics\n",
    "df_post_keywords = df[post_keywords]\n",
    "\n",
    "# Make all metrics numeric\n",
    "for i in metrics:\n",
    "    df_post_keywords[i] = pd.to_numeric(df_post_keywords[i], errors='coerce')\n",
    "    \n",
    "# Drop NA Values in Keywords Column\n",
    "df_post_keywords['MaxTextKeywords'].replace(' ', np.nan, inplace=True)\n",
    "df_post_keywords.dropna(subset=['MaxTextKeywords'], inplace=True)\n",
    "\n",
    "# Add in a column to distinguish what portion the enrichment was happening \n",
    "df_post_keywords[\"Type\"] = \"Posts\""
   ]
  },
  {
   "cell_type": "markdown",
   "metadata": {},
   "source": [
    "#### Combine Post, Thumbnail, and Article DataFrames to Make One Keywords DataFrame"
   ]
  },
  {
   "cell_type": "code",
   "execution_count": 36,
   "metadata": {},
   "outputs": [],
   "source": [
    "# First make the column headers the same\n",
    "df_post_keywords.rename(columns={\"MaxTextKeywords\": \"Keywords\"}, inplace=True)\n",
    "df_thumbnail_keywords.rename(columns={\"MaxThumbnailKeywords\":\"Keywords\"}, inplace=True)\n",
    "df_article_keywords.rename(columns={\"MaxLinkKeywords\":\"Keywords\"}, inplace=True)\n",
    "\n",
    "# Combine into one data frame\n",
    "df_keywords = pd.concat([df_post_keywords, df_thumbnail_keywords, df_article_keywords])\n",
    "\n",
    "# Discard posts with lower total reach to make charting easier\n",
    "df_keywords = df_keywords[df_keywords[\"Lifetime Post Total Reach\"] > 20000]\n"
   ]
  },
  {
   "cell_type": "markdown",
   "metadata": {},
   "source": [
    "<a id='entity'></a>\n",
    "###  1.4 Create a Consolidated Entity DataFrame\n",
    "You'll create DataFrames for the entities of the article text, the thumbnail text, and the post text. Then you'll combine them into one DataFrame."
   ]
  },
  {
   "cell_type": "markdown",
   "metadata": {},
   "source": [
    "#### Article Entity DataFrame "
   ]
  },
  {
   "cell_type": "code",
   "execution_count": 37,
   "metadata": {},
   "outputs": [],
   "source": [
    "# Create a list with only Article Keywords\n",
    "article_entities = [\"Text\", \"MaxLinkEntity\"]\n",
    "\n",
    "# Append DataFrame with these metrics\n",
    "article_entities.extend(metrics)\n",
    "\n",
    "# Create a new DataFrame with keywords and metrics\n",
    "df_article_entities = df[article_entities]\n",
    "    \n",
    "# Make all metrics numeric\n",
    "for i in metrics:\n",
    "    df_article_entities[i] = pd.to_numeric(df_article_entities[i], errors='coerce')\n",
    "    \n",
    "# Drop NA Values in Keywords Column\n",
    "df_article_entities['MaxLinkEntity'] = df[\"MaxLinkEntity\"].replace(r'\\s+', np.nan, regex=True)\n",
    "df_article_entities.dropna(subset=['MaxLinkEntity'], inplace=True)\n",
    "\n",
    "# Add in a column to distinguish what portion the enrichment was happening \n",
    "df_article_entities[\"Type\"] = \"Article\""
   ]
  },
  {
   "cell_type": "markdown",
   "metadata": {},
   "source": [
    "#### Thumbnail Entity DataFrame"
   ]
  },
  {
   "cell_type": "code",
   "execution_count": 38,
   "metadata": {},
   "outputs": [],
   "source": [
    "# Create a list with only Thumbnail Keywords\n",
    "thumbnail_entities = [\"Text\", \"MaxThumbnailEntity\"]\n",
    "\n",
    "# Append DataFrame with these metrics\n",
    "thumbnail_entities.extend(metrics)\n",
    "\n",
    "# Create a new DataFrame with keywords and metrics\n",
    "df_thumbnail_entities = df[thumbnail_entities]\n",
    "\n",
    "# Make all metrics numeric\n",
    "for i in metrics:\n",
    "    df_thumbnail_entities[i] = pd.to_numeric(df_thumbnail_entities[i], errors='coerce')\n",
    "    \n",
    "# Drop NA Values in Keywords Column\n",
    "df_thumbnail_entities['MaxThumbnailEntity'] = df_thumbnail_entities['MaxThumbnailEntity'].replace(r'\\s+', np.nan, regex=True)\n",
    "df_thumbnail_entities.dropna(subset=['MaxThumbnailEntity'], inplace=True)\n",
    "\n",
    "# Add in a column to distinguish what portion the enrichment was happening \n",
    "df_thumbnail_entities[\"Type\"] = \"Thumbnails\""
   ]
  },
  {
   "cell_type": "markdown",
   "metadata": {},
   "source": [
    "#### Post Entity DataFrame"
   ]
  },
  {
   "cell_type": "code",
   "execution_count": 39,
   "metadata": {},
   "outputs": [],
   "source": [
    "# Create a list with only Thumbnail Keywords\n",
    "post_entities = [\"Text\", \"MaxTextEntity\"]\n",
    "\n",
    "# Append DataFrame with these metrics\n",
    "post_entities.extend(metrics)\n",
    "\n",
    "# Create a new DataFrame with keywords and metrics\n",
    "df_post_entities = df[post_entities]\n",
    "\n",
    "# Make all metrics numeric\n",
    "for i in metrics:\n",
    "    df_post_entities[i] = pd.to_numeric(df_post_entities[i], errors='coerce')\n",
    "    \n",
    "# Drop NA Values in Keywords Column\n",
    "df_post_entities['MaxTextEntity'] = df_post_entities['MaxTextEntity'].replace(r'\\s+', np.nan, regex=True)\n",
    "df_post_entities.dropna(subset=['MaxTextEntity'], inplace=True)\n",
    "\n",
    "# Add in a column to distinguish what portion the enrichment was happening \n",
    "df_post_entities[\"Type\"] = \"Posts\""
   ]
  },
  {
   "cell_type": "markdown",
   "metadata": {},
   "source": [
    "#### Combine Post, Thumbnail, and Article DataFrames to Make One Entity DataFrame"
   ]
  },
  {
   "cell_type": "code",
   "execution_count": 40,
   "metadata": {},
   "outputs": [],
   "source": [
    "# First make the column headers the same\n",
    "df_post_entities.rename(columns={\"MaxTextEntity\": \"Entities\"}, inplace=True)\n",
    "\n",
    "df_thumbnail_entities.rename(columns={\"MaxThumbnailEntity\":\"Entities\"}, inplace=True)\n",
    "\n",
    "df_article_entities.rename(columns={\"MaxLinkEntity\":\"Entities\"}, inplace=True)\n",
    "\n",
    "# Combine into one data frame\n",
    "df_entities = pd.concat([df_post_entities, df_thumbnail_entities, df_article_entities])\n",
    "\n",
    "df_entities[\"Entities\"] = df_entities[\"Entities\"].replace('', np.nan)\n",
    "df_entities.dropna(subset=[\"Entities\"], inplace=True)"
   ]
  },
  {
   "cell_type": "markdown",
   "metadata": {},
   "source": [
    "<a id='image_dataframe'></a>\n",
    "###  1.5 Create a Consolidated Image DataFrame"
   ]
  },
  {
   "cell_type": "markdown",
   "metadata": {},
   "source": [
    "#### Combine Metrics with Type Hierarchy, Class and Color to Make One Image DataFrame"
   ]
  },
  {
   "cell_type": "code",
   "execution_count": 42,
   "metadata": {},
   "outputs": [],
   "source": [
    "if visual_recognition:\n",
    "    # Create a list with only Visual Recognition columns\n",
    "    pic_keywords = ['Image Type', 'Image Subtype', 'Image Subtype2', 'Image Class', 'Image Color']\n",
    "\n",
    "    # Append DataFrame with these metrics\n",
    "    pic_keywords.extend(metrics)\n",
    "\n",
    "    # Create a new DataFrame with keywords and metrics\n",
    "    df_pic_keywords = df[pic_keywords]\n",
    "\n",
    "    # Make all metrics numeric\n",
    "    for i in metrics:\n",
    "        df_pic_keywords[i] = pd.to_numeric(df_pic_keywords[i], errors='coerce')\n",
    "\n",
    "    # Discard posts with lower total reach to make charting easier\n",
    "    df_pic_keywords = df_pic_keywords[df_pic_keywords[\"Lifetime Post Total Reach\"] > 15000]"
   ]
  },
  {
   "cell_type": "markdown",
   "metadata": {},
   "source": [
    "<a id=\"part3\"></a> \n",
    "# Part III\n",
    "<a id='2setup'></a> \n",
    "## 1. Setup\n",
    "<a id='2setup2'></a>\n",
    "###  1.1 Assign Variables\n",
    "Assign new DataFrames to variables. "
   ]
  },
  {
   "cell_type": "code",
   "execution_count": 43,
   "metadata": {},
   "outputs": [],
   "source": [
    "entities = df_entities\n",
    "tones = df_tones\n",
    "keywords = df_keywords"
   ]
  },
  {
   "cell_type": "markdown",
   "metadata": {},
   "source": [
    "<a id='2visual'></a>\n",
    "##  2. Visualize Data\n",
    "<a id='2visual1'></a> \n",
    "### 2.1 Run PixieDust Visualization Library with Display() API\n",
    "PixieDust lets you visualize your data in just a few clicks using the display() API. You can find more info at https://pixiedust.github.io/pixiedust/displayapi.html."
   ]
  },
  {
   "cell_type": "markdown",
   "metadata": {},
   "source": [
    "#### We can use a pie chart to identify how lifetime engagement was broken up by sentiment. \n",
    "\n",
    "Click on the `Options` button to change the chart.  Here are some things to try:\n",
    "* Add *Type* to make the breakdown show *Post* or *Article*.\n",
    "* Show *Emotion* intead of *Sentiment* (or both).\n",
    "* Try a different metric."
   ]
  },
  {
   "cell_type": "code",
   "execution_count": 44,
   "metadata": {},
   "outputs": [
    {
     "name": "stdout",
     "output_type": "stream",
     "text": [
      "Pixiedust database opened successfully\n",
      "Table VERSION_TRACKER created successfully\n",
      "Table METRICS_TRACKER created successfully\n",
      "\n",
      "Share anonymous install statistics? (opt-out instructions)\n",
      "\n",
      "PixieDust will record metadata on its environment the next time the package is installed or updated. The data is anonymized and aggregated to help plan for future releases, and records only the following values:\n",
      "\n",
      "{\n",
      "   \"data_sent\": currentDate,\n",
      "   \"runtime\": \"python\",\n",
      "   \"application_version\": currentPixiedustVersion,\n",
      "   \"space_id\": nonIdentifyingUniqueId,\n",
      "   \"config\": {\n",
      "       \"repository_id\": \"https://github.com/ibm-watson-data-lab/pixiedust\",\n",
      "       \"target_runtimes\": [\"Data Science Experience\"],\n",
      "       \"event_id\": \"web\",\n",
      "       \"event_organizer\": \"dev-journeys\"\n",
      "   }\n",
      "}\n",
      "You can opt out by calling pixiedust.optOut() in a new cell.\n"
     ]
    },
    {
     "data": {
      "text/html": [
       "\n",
       "        <div style=\"margin:10px\">\n",
       "            <a href=\"https://github.com/ibm-watson-data-lab/pixiedust\" target=\"_new\">\n",
       "                <img src=\"https://github.com/ibm-watson-data-lab/pixiedust/raw/master/docs/_static/pd_icon32.png\" style=\"float:left;margin-right:10px\"/>\n",
       "            </a>\n",
       "            <span>Pixiedust version 1.1.14</span>\n",
       "        </div>\n",
       "        "
      ],
      "text/plain": [
       "<IPython.core.display.HTML object>"
      ]
     },
     "metadata": {},
     "output_type": "display_data"
    },
    {
     "name": "stdout",
     "output_type": "stream",
     "text": [
      "Pixiedust runtime updated. Please restart kernel\n",
      "Table USER_PREFERENCES created successfully\n",
      "Table service_connections created successfully\n"
     ]
    },
    {
     "data": {
      "text/html": [
       "<div>Warning: You are not running the latest version of PixieDust. Current is 1.1.14, Latest is 1.1.18</div>"
      ],
      "text/plain": [
       "<IPython.core.display.HTML object>"
      ]
     },
     "metadata": {},
     "output_type": "display_data"
    },
    {
     "data": {
      "text/html": [
       "\n",
       "                <div>Please copy and run the following command in a new cell to upgrade: <span style=\"background-color:#ececec;font-family:monospace;padding:0 5px\">!pip install --user --upgrade pixiedust</span></div>\n",
       "            "
      ],
      "text/plain": [
       "<IPython.core.display.HTML object>"
      ]
     },
     "metadata": {},
     "output_type": "display_data"
    },
    {
     "data": {
      "text/html": [
       "<div>Please restart kernel after upgrading.</div>"
      ],
      "text/plain": [
       "<IPython.core.display.HTML object>"
      ]
     },
     "metadata": {},
     "output_type": "display_data"
    }
   ],
   "source": [
    "import pixiedust"
   ]
  },
  {
   "cell_type": "code",
   "execution_count": 45,
   "metadata": {
    "pixiedust": {
     "displayParams": {
      "aggregation": "SUM",
      "chartsize": "70",
      "charttype": "stacked",
      "clusterby": "Type",
      "handlerId": "pieChart",
      "keyFields": "Emotion",
      "legend": "true",
      "mpld3": "false",
      "orientation": "horizontal",
      "rendererId": "matplotlib",
      "rowCount": "100",
      "sortby": "Values DESC",
      "title": "Lifetime Engaged Users by Emotion",
      "valueFields": "Lifetime Engaged Users",
      "ylabel": "true"
     }
    }
   },
   "outputs": [
    {
     "data": {
      "text/html": [
       "<style type=\"text/css\">.pd_warning{display:none;}</style><div class=\"pd_warning\"><em>Hey, there's something awesome here! To see it, open this notebook outside GitHub, in a viewer like Jupyter</em></div>\n",
       "        <div class=\"pd_save is-viewer-good\" style=\"padding-right:10px;text-align: center;line-height:initial !important;font-size: xx-large;font-weight: 500;color: coral;\">\n",
       "            Lifetime Engaged Users by Emotion\n",
       "        </div>\n",
       "    <div id=\"chartFigure59790808\" class=\"pd_save is-viewer-good\" style=\"overflow-x:auto\">\n",
       "            \n",
       "                    \n",
       "                            <center><img style=\"max-width:initial !important\" src=\"data:image/png;base64,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\" class=\"pd_save\"></center>\n",
       "                        \n",
       "                    \n",
       "                \n",
       "        </div>"
      ],
      "text/plain": [
       "<IPython.core.display.HTML object>"
      ]
     },
     "metadata": {},
     "output_type": "display_data"
    }
   ],
   "source": [
    "display(tones)"
   ]
  },
  {
   "cell_type": "markdown",
   "metadata": {},
   "source": [
    "#### Now let's look at the same statistics as a bar chart.\n",
    "\n",
    "It is the same line of code. Use the `Edit Metadata` button to see how PixieDust knows to show us a bar chart. If you don't have a button use the menu and select `View > Cell Toolbar > Edit Metadata`.\n",
    "\n",
    "A bar chart is better at showing more information. We added `Cluster By: Type` so we already see numbers for posts and articles. Notice what the chart tells you. Most of our articles and posts are `positive`. But what sentiment really engages more users?  Click on `Options` and try this:\n",
    "\n",
    "* Change the aggregation to `AVG`.\n",
    "\n",
    "What sentiment leads to higher average engagement?\n"
   ]
  },
  {
   "cell_type": "code",
   "execution_count": 47,
   "metadata": {
    "pixiedust": {
     "displayParams": {
      "aggregation": "SUM",
      "chartsize": "70",
      "charttype": "stacked",
      "clusterby": "Type",
      "handlerId": "barChart",
      "keyFields": "Sentiment",
      "legend": "true",
      "orientation": "horizontal",
      "rendererId": "matplotlib",
      "rowCount": "100",
      "sortby": "Values DESC",
      "title": "Lifetime Engaged Users by Sentiment",
      "valueFields": "Lifetime Engaged Users"
     }
    },
    "scrolled": false
   },
   "outputs": [
    {
     "data": {
      "text/html": [
       "<style type=\"text/css\">.pd_warning{display:none;}</style><div class=\"pd_warning\"><em>Hey, there's something awesome here! To see it, open this notebook outside GitHub, in a viewer like Jupyter</em></div>\n",
       "        <div class=\"pd_save is-viewer-good\" style=\"padding-right:10px;text-align: center;line-height:initial !important;font-size: xx-large;font-weight: 500;color: coral;\">\n",
       "            Lifetime Engaged Users by Sentiment\n",
       "        </div>\n",
       "    <div id=\"chartFigurec1a49fe1\" class=\"pd_save is-viewer-good\" style=\"overflow-x:auto\">\n",
       "            \n",
       "                    \n",
       "                            <center><img style=\"max-width:initial !important\" src=\"data:image/png;base64,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\" class=\"pd_save\"></center>\n",
       "                        \n",
       "                    \n",
       "                \n",
       "        </div>"
      ],
      "text/plain": [
       "<IPython.core.display.HTML object>"
      ]
     },
     "metadata": {},
     "output_type": "display_data"
    }
   ],
   "source": [
    "display(tones)"
   ]
  },
  {
   "cell_type": "markdown",
   "metadata": {},
   "source": [
    "#### Now let's look at the entities that were detected by Natural Language Understanding.\n",
    "\n",
    "The following bar chart shows the entities that were detected. This time we are stacking negative feedback and \"likes\" to get a picture of the kind of feedback the entities were getting. We chose a horizontal, stacked bar chart with descending values for a little variety.\n",
    "\n",
    "* Try a different renderer and see what you get."
   ]
  },
  {
   "cell_type": "code",
   "execution_count": 48,
   "metadata": {
    "pixiedust": {
     "displayParams": {
      "aggregation": "SUM",
      "chartsize": "70",
      "charttype": "stacked",
      "handlerId": "barChart",
      "keyFields": "Entities",
      "orientation": "horizontal",
      "rendererId": "matplotlib",
      "rowCount": "100",
      "sortby": "Values DESC",
      "title": "Entities in Posts and Articles",
      "valueFields": "Lifetime Post Stories by action type - like,Lifetime Negative Feedback from Users"
     }
    },
    "scrolled": false
   },
   "outputs": [
    {
     "data": {
      "text/html": [
       "<style type=\"text/css\">.pd_warning{display:none;}</style><div class=\"pd_warning\"><em>Hey, there's something awesome here! To see it, open this notebook outside GitHub, in a viewer like Jupyter</em></div>\n",
       "        <div class=\"pd_save is-viewer-good\" style=\"padding-right:10px;text-align: center;line-height:initial !important;font-size: xx-large;font-weight: 500;color: coral;\">\n",
       "            Entities in Posts and Articles\n",
       "        </div>\n",
       "    <div id=\"chartFigure29dd6534\" class=\"pd_save is-viewer-good\" style=\"overflow-x:auto\">\n",
       "            \n",
       "                    \n",
       "                            <center><img style=\"max-width:initial !important\" src=\"data:image/png;base64,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\" class=\"pd_save\"></center>\n",
       "                        \n",
       "                    \n",
       "                \n",
       "        </div>"
      ],
      "text/plain": [
       "<IPython.core.display.HTML object>"
      ]
     },
     "metadata": {},
     "output_type": "display_data"
    }
   ],
   "source": [
    "display(entities)"
   ]
  },
  {
   "cell_type": "markdown",
   "metadata": {},
   "source": [
    "#### Next we look at the keywords detected by Natural Language Understanding\n"
   ]
  },
  {
   "cell_type": "code",
   "execution_count": 49,
   "metadata": {
    "pixiedust": {
     "displayParams": {
      "aggregation": "SUM",
      "chartsize": "85",
      "charttype": "stacked",
      "clusterby": "Type",
      "handlerId": "barChart",
      "keyFields": "Keywords",
      "legend": "true",
      "mpld3": "false",
      "orientation": "horizontal",
      "rendererId": "matplotlib",
      "rowCount": "100",
      "sortby": "Values DESC",
      "timeseries": "false",
      "title": "Keyword Total Reach",
      "valueFields": "Lifetime Post Total Reach"
     }
    },
    "scrolled": false
   },
   "outputs": [
    {
     "data": {
      "text/html": [
       "<style type=\"text/css\">.pd_warning{display:none;}</style><div class=\"pd_warning\"><em>Hey, there's something awesome here! To see it, open this notebook outside GitHub, in a viewer like Jupyter</em></div>\n",
       "        <div class=\"pd_save is-viewer-good\" style=\"padding-right:10px;text-align: center;line-height:initial !important;font-size: xx-large;font-weight: 500;color: coral;\">\n",
       "            Keyword Total Reach\n",
       "        </div>\n",
       "    <div id=\"chartFigurec2f954a5\" class=\"pd_save is-viewer-good\" style=\"overflow-x:auto\">\n",
       "            \n",
       "                    \n",
       "                            <center><img style=\"max-width:initial !important\" src=\"data:image/png;base64,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\" class=\"pd_save\"></center>\n",
       "                        \n",
       "                    \n",
       "                \n",
       "        </div>"
      ],
      "text/plain": [
       "<IPython.core.display.HTML object>"
      ]
     },
     "metadata": {},
     "output_type": "display_data"
    }
   ],
   "source": [
    "display(keywords)"
   ]
  },
  {
   "cell_type": "markdown",
   "metadata": {},
   "source": [
    "#### Now let's take a look at what Visual Recognition can show us.\n",
    "\n",
    "See how the images influenced the metrics. We've used visual recognition to identify a class and a type hierarchy for each image. We've also captured the top recognized color for each image. Our sample data doesn't have a significant number of data points, but these three charts demonstrate how you could:\n",
    "\n",
    "1. Recognize image classes that correlate to higher total reach.\n",
    "1. Add a type hierarchy for a higher level abstraction or to add grouping/stacking to the class data.\n",
    "1. Determine if image color correlates to total reach.\n",
    "\n",
    "Visual recognition makes it surprisingly easy to do all of the above. Of course, you can easily try different metrics as you experiment. If you are not convinced that you should add ultramarine laser pictures to all of your articles, then you might want to do some research with a better data sample."
   ]
  },
  {
   "cell_type": "code",
   "execution_count": 51,
   "metadata": {
    "pixiedust": {
     "displayParams": {
      "aggregation": "SUM",
      "chartsize": "85",
      "charttype": "stacked",
      "handlerId": "barChart",
      "keyFields": "Image Class",
      "legend": "true",
      "orientation": "horizontal",
      "rendererId": "matplotlib",
      "rowCount": "100",
      "sortby": "Values ASC",
      "title": "Image Classes",
      "valueFields": "Lifetime Post Total Reach"
     }
    }
   },
   "outputs": [],
   "source": [
    "if visual_recognition:\n",
    "    display(df_pic_keywords)"
   ]
  },
  {
   "cell_type": "code",
   "execution_count": 52,
   "metadata": {
    "pixiedust": {
     "displayParams": {
      "aggregation": "SUM",
      "chartsize": "85",
      "charttype": "stacked",
      "handlerId": "barChart",
      "keyFields": "Image Subtype",
      "legend": "true",
      "mpld3": "false",
      "orientation": "horizontal",
      "rendererId": "matplotlib",
      "rowCount": "100",
      "sortby": "Values ASC",
      "stretch": "false",
      "title": "Image Type Hierarchy",
      "valueFields": "Lifetime Post Total Reach"
     }
    }
   },
   "outputs": [],
   "source": [
    "if visual_recognition:\n",
    "    display(df_pic_keywords)"
   ]
  },
  {
   "cell_type": "code",
   "execution_count": 53,
   "metadata": {
    "pixiedust": {
     "displayParams": {
      "aggregation": "SUM",
      "chartsize": "85",
      "charttype": "stacked",
      "handlerId": "barChart",
      "keyFields": "Image Color",
      "legend": "true",
      "orientation": "horizontal",
      "rendererId": "matplotlib",
      "rowCount": "100",
      "sortby": "Values ASC",
      "title": "Image Color",
      "valueFields": "Lifetime Post Total Reach"
     }
    }
   },
   "outputs": [],
   "source": [
    "if visual_recognition:\n",
    "    display(df_pic_keywords)"
   ]
  },
  {
   "cell_type": "markdown",
   "metadata": {},
   "source": [
    "<hr>\n",
    "Copyright © IBM Corp. 2017, 2018. This notebook and its source code are released under the terms of the Apache 2.0."
   ]
  },
  {
   "cell_type": "markdown",
   "metadata": {},
   "source": [
    "Licensed under the Apache License, Version 2.0 (the \"License\"); you may\n",
    "not use this file except in compliance with the License. You may obtain\n",
    "a copy of the License at\n",
    "\n",
    "      http://www.apache.org/licenses/LICENSE-2.0\n",
    "\n",
    "Unless required by applicable law or agreed to in writing, software\n",
    "distributed under the License is distributed on an \"AS IS\" BASIS, WITHOUT\n",
    "WARRANTIES OR CONDITIONS OF ANY KIND, either express or implied. See the\n",
    "License for the specific language governing permissions and limitations\n",
    "under the License."
   ]
  },
  {
   "cell_type": "code",
   "execution_count": null,
   "metadata": {},
   "outputs": [],
   "source": []
  }
 ],
 "metadata": {
  "kernelspec": {
   "display_name": "Python 3.6",
   "language": "python",
   "name": "python3"
  },
  "language_info": {
   "codemirror_mode": {
    "name": "ipython",
    "version": 3
   },
   "file_extension": ".py",
   "mimetype": "text/x-python",
   "name": "python",
   "nbconvert_exporter": "python",
   "pygments_lexer": "ipython3",
   "version": "3.6.9"
  }
 },
 "nbformat": 4,
 "nbformat_minor": 1
}
