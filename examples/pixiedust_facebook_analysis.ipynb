{
 "cells": [
  {
   "cell_type": "markdown",
   "metadata": {},
   "source": [
    "<div style=\"background:#F5F7FA; height:100px; padding: 2em; font-size:14px;\">\n",
    "<span style=\"font-size:18px;color:#152935;\">Want to do more?</span><span style=\"border: 1px solid #3d70b2;padding: 15px;float:right;margin-right:40px; color:#3d70b2; \"><a href=\"https://ibm.co/wsnotebooks\" target=\"_blank\" style=\"color: #3d70b2;text-decoration: none;\">Sign Up</a></span><br>\n",
    "<span style=\"color:#5A6872;\"> Try out this notebook with your free trial of IBM Watson Studio.</span>\n",
    "</div>"
   ]
  },
  {
   "cell_type": "markdown",
   "metadata": {
    "collapsed": true
   },
   "source": [
    "# Analyze Facebook Data Using IBM Watson and IBM Watson Studio\n",
    "\n",
    "This is a three-part notebook meant to show how anyone can enrich and analyze a combined dataset of unstructured and structured information with IBM Watson and IBM Watson Studio. For this example we are using a standard Facebook Analytics export which features texts from posts, articles and thumbnails, along with standard performance metrics such as likes, shares, and impressions. \n",
    "\n",
    "**Part I** will use the Natural Language Understanding, Visual Recognition and Tone Analyzer services from IBM Watson to enrich the Facebook posts, thumbnails, and articles by pulling out `Emotion Tones`, `Language Tones`, `Entities`, `Keywords`, and `Document Sentiment`. The end result of Part I will be additional features and metrics we can visualize in Part III. \n",
    "\n",
    "**Part II** will set up multiple pandas DataFrames that will contain the values, and metrics needed to find insights in the Part III tests and experiments.\n",
    "\n",
    "**Part III** will use charts to visualize the features that we discovered during enrichment and show how they correlate with customer impressions.\n",
    "\n",
    "\n",
    "#### You should only need to change data in the Setup portion of this notebook. All places where you see  <span style=\"color: red\"> User Input </span> is where you should be adding inputs. \n",
    "\n",
    "### Table of Contents\n",
    "\n",
    "### [**Part I - Enrich**](#part1)<br>\n",
    "1. [Setup](#setup)<br>\n",
    "   1.1 [Install Watson Developer Cloud and BeautifulSoup Packages](#setup1)<br>\n",
    "   1.2 [Install PixieDust](#pixie)<br> \n",
    "   1.3 [Restart Kernel](#restart)<br> \n",
    "   1.4 [Import Packages and Libraries](#setup2)<br>\n",
    "   1.5 [Add Service Credentials From IBM Cloud for Watson Services](#setup3)<br>\n",
    "2. [Load Data](#load)<br>\n",
    "   2.1 [Load Data From Cloud Object Storage as a pandas DataFrame](#load1)<br>\n",
    "   2.2 [Set Variables](#load2)<br>\n",
    "3. [Prepare Data](#prepare)<br>\n",
    "   3.1 [Data Cleansing with Python](#prepare1)<br>\n",
    "   3.2 [Beautiful Soup to Extract Thumbnails and Extented Links](#prepare2)<br>\n",
    "4. [Enrich Data](#enrich)<br>\n",
    "   4.1 [NLU for Post Text](#nlupost)<br>\n",
    "   4.2 [NLU for Thumbnail Text](#nlutn)<br>\n",
    "   4.3 [NLU for Article Text](#nlulink)<br>\n",
    "   4.4 [Tone Analyzer for Post Text](#tonepost)<br>\n",
    "   4.5 [Tone Analyzer for Article Text](#tonearticle)<br>\n",
    "   4.6 [Visual Recognition](#visual)<br>\n",
    "5. [Write Data](#write)<br>\n",
    "   5.1 [Convert DataFrame to new CSV](#write1)<br>\n",
    "   5.2 [Write Data to Cloud Object Storage](#write2)<br>\n",
    "    \n",
    "### [**Part II - Data Preparation**](#part2)<br>\n",
    "1. [Prepare Data](#prepare)<br>\n",
    "   1.1 [Create Multiple DataFrames for Visualizations](#visualizations)<br>\n",
    "   1.2 [Create a Consolidated Tone DataFrame](#tone)<br>\n",
    "   1.3 [Create a Consolidated Keyword DataFrame](#keyword)<br>\n",
    "   1.4 [Create a Consolidated Entity DataFrame](#entity)<br>\n",
    "  \n",
    "### [**Part III - Analyze**](#part3)<br>\n",
    "\n",
    "1. [Setup](#2setup)<br> \n",
    "    1.1 [Assign Variables](#2setup2)<br>\n",
    "2. [Visualize Data](#2visual)<br>\n",
    "    2.1 [Run PixieDust Visualization Library with Display() API](#2visual1)\n"
   ]
  },
  {
   "cell_type": "markdown",
   "metadata": {},
   "source": [
    "# <a id=\"part1\"></a>Part I - Enrich\n",
    "\n",
    "## <a id=\"setup\"></a>1. Setup\n",
    "To prepare your environment, you need to install some packages and enter credentials for the Watson services.\n",
    "\n",
    "### <a id=\"setup1\"></a> 1.1 Install Latest Watson Developer Cloud and Beautiful Soup Packages\n",
    "You need to install these packages:\n",
    " - [Watson Developer Cloud](https://github.com/watson-developer-cloud/python-sdk): a client library for Watson services.\n",
    " - <a href=\"https://www.crummy.com/software/BeautifulSoup/bs4/doc/\" target=\"_blank\" rel=\"noopener noreferrer\">Beautiful Soup</a>: a library to parse data from HTML for enriching the Facebook data.\n",
    " - <a href=\"https://ibm-cds-labs.github.io/pixiedust/\" target=\"_blank\" rel=\"noopener noreferrer\">PixieDust</a>: a library to visualize the data. \n",
    "\n",
    "Install the Watson Developer Cloud package:"
   ]
  },
  {
   "cell_type": "code",
   "execution_count": 1,
   "metadata": {},
   "outputs": [],
   "source": [
    "!pip -q install --user --no-warn-script-location ibm-watson==3.2.0"
   ]
  },
  {
   "cell_type": "markdown",
   "metadata": {},
   "source": [
    "Install the Beautiful Soup package:"
   ]
  },
  {
   "cell_type": "code",
   "execution_count": 2,
   "metadata": {},
   "outputs": [],
   "source": [
    "!pip -q install --user beautifulsoup4==4.8.0"
   ]
  },
  {
   "cell_type": "markdown",
   "metadata": {},
   "source": [
    "<a id=\"pixie\"></a>\n",
    "### 1.2 Install PixieDust Library"
   ]
  },
  {
   "cell_type": "code",
   "execution_count": 3,
   "metadata": {},
   "outputs": [],
   "source": [
    "!pip -q install --user --upgrade pixiedust==1.1.14"
   ]
  },
  {
   "cell_type": "markdown",
   "metadata": {},
   "source": [
    "<a id=\"restart\"></a>\n",
    "### 1.3 Restart Kernel\n",
    "> Required after installs/upgrades only.\n",
    "\n",
    "If any libraries were just installed or upgraded, <span style=\"color: red\">restart the kernel</span> before continuing. After this has been done once, you might want to comment out the `!pip install` lines above for cleaner output and a faster \"Run All\"."
   ]
  },
  {
   "cell_type": "markdown",
   "metadata": {},
   "source": [
    "<a id=\"setup2\"></a>\n",
    "### 1.4 Import Packages and Libraries\n",
    "> Tip: To check if you have a package installed, open a new cell and write: `help(<package-name>)`."
   ]
  },
  {
   "cell_type": "code",
   "execution_count": 4,
   "metadata": {},
   "outputs": [],
   "source": [
    "import json\n",
    "import sys\n",
    "\n",
    "from ibm_watson import ToneAnalyzerV3\n",
    "from ibm_watson import VisualRecognitionV3\n",
    "from ibm_watson import NaturalLanguageUnderstandingV1\n",
    "from ibm_watson.natural_language_understanding_v1 import Features, EntitiesOptions, KeywordsOptions, EmotionOptions, SentimentOptions\n",
    "\n",
    "import operator\n",
    "from functools import reduce\n",
    "from io import StringIO\n",
    "import numpy as np\n",
    "from bs4 import BeautifulSoup as bs\n",
    "from operator import itemgetter\n",
    "from os.path import join, dirname\n",
    "import pandas as pd\n",
    "import numpy as np\n",
    "import requests\n",
    "\n",
    "# Suppress some pandas warnings\n",
    "pd.options.mode.chained_assignment = None  # default='warn'\n",
    "# Suppress SSL warnings\n",
    "requests.packages.urllib3.disable_warnings()"
   ]
  },
  {
   "cell_type": "markdown",
   "metadata": {},
   "source": [
    "<a id='setup3'></a>\n",
    "### 1.5 Add Service Credentials From IBM Cloud for Watson Services\n",
    "Edit the following cell to provide your credentials for Watson Visual Recognition, Natural Language Understanding and Tone Analyzer.\n",
    "\n",
    "You must create a Watson Natural Language Understanding service, a Watson Tone Analyzer service, and a Watson Visual Recognition service on [IBM Cloud](bluemix.net).\n",
    "\n",
    "1. Create a service for [Natural Language Understanding (NLU)](https://www.ibm.com/watson/developercloud/natural-language-understanding.html). \n",
    "1. Create a service for [Tone Analyzer](https://cloud.ibm.com/catalog/services/tone-analyzer?taxonomyNavigation=watson).\n",
    "1. Create a service for [Visual Recognition](https://cloud.ibm.com/catalog/services/visual-recognition).\n",
    "1. Insert API keys and URLs in the following cell.\n",
    "1. Run the cell.\n",
    "\n",
    "###  <span style=\"color: red\"> _User Input_</span> "
   ]
  },
  {
   "cell_type": "code",
   "execution_count": 5,
   "metadata": {},
   "outputs": [],
   "source": [
    "# @hidden_cell\n",
    "\n",
    "# Watson Visual Recognition\n",
    "VISUAL_RECOGNITION_API_KEY = ''\n",
    "VISUAL_RECOGNITION_URL = ''\n",
    "\n",
    "# Watson Natural Language Understanding (NLU)\n",
    "NATURAL_LANGUAGE_UNDERSTANDING_API_KEY = ''\n",
    "NATURAL_LANGUAGE_UNDERSTANDING_URL = ''\n",
    "\n",
    "# Watson Tone Analyzer\n",
    "TONE_ANALYZER_API_KEY = ''\n",
    "TONE_ANALYZER_URL = ''\n"
   ]
  },
  {
   "cell_type": "code",
   "execution_count": 6,
   "metadata": {},
   "outputs": [],
   "source": [
    "# Create the Watson clients\n",
    "\n",
    "nlu = NaturalLanguageUnderstandingV1(version='2019-07-25',\n",
    "                                    iam_apikey=NATURAL_LANGUAGE_UNDERSTANDING_API_KEY,\n",
    "                                    url=NATURAL_LANGUAGE_UNDERSTANDING_URL)\n",
    "\n",
    "tone_analyzer = ToneAnalyzerV3(version='2019-07-25',\n",
    "                               iam_apikey=TONE_ANALYZER_API_KEY,\n",
    "                               url=TONE_ANALYZER_URL)\n",
    "\n",
    "visual_recognition = VisualRecognitionV3(version='2019-07-25',\n",
    "                                         iam_apikey=VISUAL_RECOGNITION_API_KEY,\n",
    "                                         url=VISUAL_RECOGNITION_URL)"
   ]
  },
  {
   "cell_type": "markdown",
   "metadata": {},
   "source": [
    "\n",
    "## <a id='load'></a>2. Load Data\n",
    "The data you'll analyzing is a sample of a standard export of the Facebook Insights Post information from the <a href=\"https://www.facebook.com/ibmwatson/\" target=\"_blank\" rel=\"noopener noreferrer\">IBM Watson Facebook page</a>. Engagement metrics such as clicks, impressions, and so on, are altered and do not reflect actual post performance data. The data is on the Watson Studio community page.\n",
    "\n",
    "### 2.1 Load the data as a pandas DataFrame\n",
    "\n",
    "To get the data and load it into a pandas DataFrame:\n",
    "\n",
    "1. Load the file by clicking the **Find and Add Data** icon and then dragging and dropping the file onto the pane or browsing for the file. The data is stored in the object storage container that is associated with your project.\n",
    "1. Click in the next cell and then choose **Insert to code > Insert pandas DataFrame** from below the file name and then run the cell. Change the inserted variable name to `df_data_1`\n",
    "\n",
    "###  <span style=\"color: red\"> _User Input_</span> "
   ]
  },
  {
   "cell_type": "code",
   "execution_count": 7,
   "metadata": {},
   "outputs": [
    {
     "data": {
      "text/html": [
       "<div>\n",
       "<style scoped>\n",
       "    .dataframe tbody tr th:only-of-type {\n",
       "        vertical-align: middle;\n",
       "    }\n",
       "\n",
       "    .dataframe tbody tr th {\n",
       "        vertical-align: top;\n",
       "    }\n",
       "\n",
       "    .dataframe thead th {\n",
       "        text-align: right;\n",
       "    }\n",
       "</style>\n",
       "<table border=\"1\" class=\"dataframe\">\n",
       "  <thead>\n",
       "    <tr style=\"text-align: right;\">\n",
       "      <th></th>\n",
       "      <th>Post ID</th>\n",
       "      <th>Permalink</th>\n",
       "      <th>Post Message</th>\n",
       "      <th>Type</th>\n",
       "      <th>Countries</th>\n",
       "      <th>Languages</th>\n",
       "      <th>Posted</th>\n",
       "      <th>Audience Targeting</th>\n",
       "      <th>Lifetime Post Total Reach</th>\n",
       "      <th>Lifetime Post organic reach</th>\n",
       "      <th>...</th>\n",
       "      <th>Lifetime Matched Audience Targeting Consumptions by Type - other clicks</th>\n",
       "      <th>Lifetime Matched Audience Targeting Consumptions by Type - link clicks</th>\n",
       "      <th>Lifetime Matched Audience Targeting Consumptions by Type - photo view</th>\n",
       "      <th>Lifetime Matched Audience Targeting Consumptions by Type - video play</th>\n",
       "      <th>Lifetime Negative Feedback from Users by Type - hide_all_clicks</th>\n",
       "      <th>Lifetime Negative Feedback from Users by Type - hide_clicks</th>\n",
       "      <th>Lifetime Negative Feedback from Users by Type - report_spam_clicks</th>\n",
       "      <th>Lifetime Negative Feedback by Type - hide_all_clicks</th>\n",
       "      <th>Lifetime Negative Feedback by Type - hide_clicks</th>\n",
       "      <th>Lifetime Negative Feedback by Type - report_spam_clicks</th>\n",
       "    </tr>\n",
       "  </thead>\n",
       "  <tbody>\n",
       "    <tr>\n",
       "      <th>0</th>\n",
       "      <td>NaN</td>\n",
       "      <td>NaN</td>\n",
       "      <td>NaN</td>\n",
       "      <td>NaN</td>\n",
       "      <td>NaN</td>\n",
       "      <td>NaN</td>\n",
       "      <td>NaN</td>\n",
       "      <td>NaN</td>\n",
       "      <td>Lifetime: The number of people who had your Pa...</td>\n",
       "      <td>Lifetime: The number of people who had your Pa...</td>\n",
       "      <td>...</td>\n",
       "      <td>Lifetime: The number of clicks anywhere in the...</td>\n",
       "      <td>NaN</td>\n",
       "      <td>NaN</td>\n",
       "      <td>NaN</td>\n",
       "      <td>Lifetime: The number of times people have give...</td>\n",
       "      <td>NaN</td>\n",
       "      <td>NaN</td>\n",
       "      <td>Lifetime: The number of people who have given ...</td>\n",
       "      <td>NaN</td>\n",
       "      <td>NaN</td>\n",
       "    </tr>\n",
       "    <tr>\n",
       "      <th>1</th>\n",
       "      <td>187446750783_10156099244995784</td>\n",
       "      <td>https://www.facebook.com/ibmwatson/posts/10156...</td>\n",
       "      <td>In 2018, IBM has made significant strides towa...</td>\n",
       "      <td>Link</td>\n",
       "      <td>NaN</td>\n",
       "      <td>NaN</td>\n",
       "      <td>12/26/18 9:22</td>\n",
       "      <td></td>\n",
       "      <td>13560</td>\n",
       "      <td>13560</td>\n",
       "      <td>...</td>\n",
       "      <td>53</td>\n",
       "      <td>84.0</td>\n",
       "      <td>NaN</td>\n",
       "      <td>NaN</td>\n",
       "      <td>3</td>\n",
       "      <td>4.0</td>\n",
       "      <td>NaN</td>\n",
       "      <td>3</td>\n",
       "      <td>4.0</td>\n",
       "      <td>NaN</td>\n",
       "    </tr>\n",
       "    <tr>\n",
       "      <th>2</th>\n",
       "      <td>187446750783_10156082794855784</td>\n",
       "      <td>https://www.facebook.com/ibmwatson/posts/10156...</td>\n",
       "      <td>Available now on IBM Cloud and Cloud Private, ...</td>\n",
       "      <td>Photo</td>\n",
       "      <td>NaN</td>\n",
       "      <td>NaN</td>\n",
       "      <td>12/18/18 7:15</td>\n",
       "      <td></td>\n",
       "      <td>7837</td>\n",
       "      <td>7837</td>\n",
       "      <td>...</td>\n",
       "      <td>25</td>\n",
       "      <td>17.0</td>\n",
       "      <td>47.0</td>\n",
       "      <td>NaN</td>\n",
       "      <td>4</td>\n",
       "      <td>NaN</td>\n",
       "      <td>NaN</td>\n",
       "      <td>4</td>\n",
       "      <td>NaN</td>\n",
       "      <td>NaN</td>\n",
       "    </tr>\n",
       "    <tr>\n",
       "      <th>3</th>\n",
       "      <td>187446750783_10156079731075784</td>\n",
       "      <td>https://www.facebook.com/ibmwatson/posts/10156...</td>\n",
       "      <td>A year in review in AI: https://ibm.co/2QAlo29</td>\n",
       "      <td>Link</td>\n",
       "      <td>NaN</td>\n",
       "      <td>NaN</td>\n",
       "      <td>12/16/18 14:54</td>\n",
       "      <td></td>\n",
       "      <td>10727</td>\n",
       "      <td>10727</td>\n",
       "      <td>...</td>\n",
       "      <td>39</td>\n",
       "      <td>129.0</td>\n",
       "      <td>NaN</td>\n",
       "      <td>NaN</td>\n",
       "      <td>3</td>\n",
       "      <td>4.0</td>\n",
       "      <td>NaN</td>\n",
       "      <td>3</td>\n",
       "      <td>4.0</td>\n",
       "      <td>NaN</td>\n",
       "    </tr>\n",
       "    <tr>\n",
       "      <th>4</th>\n",
       "      <td>187446750783_10156067568775784</td>\n",
       "      <td>https://www.facebook.com/ibmwatson/posts/10156...</td>\n",
       "      <td>IBM Watson</td>\n",
       "      <td>SharedVideo</td>\n",
       "      <td>NaN</td>\n",
       "      <td>NaN</td>\n",
       "      <td>12/10/18 14:06</td>\n",
       "      <td></td>\n",
       "      <td>7937</td>\n",
       "      <td>7937</td>\n",
       "      <td>...</td>\n",
       "      <td>191</td>\n",
       "      <td>80.0</td>\n",
       "      <td>NaN</td>\n",
       "      <td>NaN</td>\n",
       "      <td>1</td>\n",
       "      <td>4.0</td>\n",
       "      <td>NaN</td>\n",
       "      <td>1</td>\n",
       "      <td>4.0</td>\n",
       "      <td>NaN</td>\n",
       "    </tr>\n",
       "  </tbody>\n",
       "</table>\n",
       "<p>5 rows × 54 columns</p>\n",
       "</div>"
      ],
      "text/plain": [
       "                          Post ID  \\\n",
       "0                             NaN   \n",
       "1  187446750783_10156099244995784   \n",
       "2  187446750783_10156082794855784   \n",
       "3  187446750783_10156079731075784   \n",
       "4  187446750783_10156067568775784   \n",
       "\n",
       "                                           Permalink  \\\n",
       "0                                                NaN   \n",
       "1  https://www.facebook.com/ibmwatson/posts/10156...   \n",
       "2  https://www.facebook.com/ibmwatson/posts/10156...   \n",
       "3  https://www.facebook.com/ibmwatson/posts/10156...   \n",
       "4  https://www.facebook.com/ibmwatson/posts/10156...   \n",
       "\n",
       "                                        Post Message         Type  Countries  \\\n",
       "0                                                NaN          NaN        NaN   \n",
       "1  In 2018, IBM has made significant strides towa...         Link        NaN   \n",
       "2  Available now on IBM Cloud and Cloud Private, ...        Photo        NaN   \n",
       "3     A year in review in AI: https://ibm.co/2QAlo29         Link        NaN   \n",
       "4                                         IBM Watson  SharedVideo        NaN   \n",
       "\n",
       "   Languages          Posted Audience Targeting  \\\n",
       "0        NaN             NaN                NaN   \n",
       "1        NaN   12/26/18 9:22                      \n",
       "2        NaN   12/18/18 7:15                      \n",
       "3        NaN  12/16/18 14:54                      \n",
       "4        NaN  12/10/18 14:06                      \n",
       "\n",
       "                           Lifetime Post Total Reach  \\\n",
       "0  Lifetime: The number of people who had your Pa...   \n",
       "1                                              13560   \n",
       "2                                               7837   \n",
       "3                                              10727   \n",
       "4                                               7937   \n",
       "\n",
       "                         Lifetime Post organic reach  ...  \\\n",
       "0  Lifetime: The number of people who had your Pa...  ...   \n",
       "1                                              13560  ...   \n",
       "2                                               7837  ...   \n",
       "3                                              10727  ...   \n",
       "4                                               7937  ...   \n",
       "\n",
       "  Lifetime Matched Audience Targeting Consumptions by Type - other clicks  \\\n",
       "0  Lifetime: The number of clicks anywhere in the...                        \n",
       "1                                                 53                        \n",
       "2                                                 25                        \n",
       "3                                                 39                        \n",
       "4                                                191                        \n",
       "\n",
       "  Lifetime Matched Audience Targeting Consumptions by Type - link clicks  \\\n",
       "0                                                NaN                       \n",
       "1                                               84.0                       \n",
       "2                                               17.0                       \n",
       "3                                              129.0                       \n",
       "4                                               80.0                       \n",
       "\n",
       "  Lifetime Matched Audience Targeting Consumptions by Type - photo view  \\\n",
       "0                                                NaN                      \n",
       "1                                                NaN                      \n",
       "2                                               47.0                      \n",
       "3                                                NaN                      \n",
       "4                                                NaN                      \n",
       "\n",
       "  Lifetime Matched Audience Targeting Consumptions by Type - video play  \\\n",
       "0                                                NaN                      \n",
       "1                                                NaN                      \n",
       "2                                                NaN                      \n",
       "3                                                NaN                      \n",
       "4                                                NaN                      \n",
       "\n",
       "  Lifetime Negative Feedback from Users by Type - hide_all_clicks  \\\n",
       "0  Lifetime: The number of times people have give...                \n",
       "1                                                  3                \n",
       "2                                                  4                \n",
       "3                                                  3                \n",
       "4                                                  1                \n",
       "\n",
       "  Lifetime Negative Feedback from Users by Type - hide_clicks  \\\n",
       "0                                                NaN            \n",
       "1                                                4.0            \n",
       "2                                                NaN            \n",
       "3                                                4.0            \n",
       "4                                                4.0            \n",
       "\n",
       "  Lifetime Negative Feedback from Users by Type - report_spam_clicks  \\\n",
       "0                                                NaN                   \n",
       "1                                                NaN                   \n",
       "2                                                NaN                   \n",
       "3                                                NaN                   \n",
       "4                                                NaN                   \n",
       "\n",
       "  Lifetime Negative Feedback by Type - hide_all_clicks  \\\n",
       "0  Lifetime: The number of people who have given ...     \n",
       "1                                                  3     \n",
       "2                                                  4     \n",
       "3                                                  3     \n",
       "4                                                  1     \n",
       "\n",
       "  Lifetime Negative Feedback by Type - hide_clicks  \\\n",
       "0                                              NaN   \n",
       "1                                              4.0   \n",
       "2                                              NaN   \n",
       "3                                              4.0   \n",
       "4                                              4.0   \n",
       "\n",
       "  Lifetime Negative Feedback by Type - report_spam_clicks  \n",
       "0                                                NaN       \n",
       "1                                                NaN       \n",
       "2                                                NaN       \n",
       "3                                                NaN       \n",
       "4                                                NaN       \n",
       "\n",
       "[5 rows x 54 columns]"
      ]
     },
     "execution_count": 7,
     "metadata": {},
     "output_type": "execute_result"
    }
   ],
   "source": [
    "# **Insert to code > Insert pandas DataFrame**\n"
   ]
  },
  {
   "cell_type": "markdown",
   "metadata": {},
   "source": [
    "### <a id='load2'></a>2.2 Set variables\n",
    "You need to set these variables:\n",
    " - The name of the DataFrame\n",
    " - Your credentials for the source file\n",
    " - A file name for the enriched DataFrame\n",
    " \n",
    "Define a variable, `df`, for the DataFrame that you just created. If necessary, change the original DataFrame name to match the one you created."
   ]
  },
  {
   "cell_type": "code",
   "execution_count": 8,
   "metadata": {},
   "outputs": [],
   "source": [
    "# Make sure this uses the variable above. The number will vary in the inserted code.\n",
    "try:\n",
    "    df = df_data_1\n",
    "except NameError as e:\n",
    "    print('Error: Setup is incorrect or incomplete.\\n')\n",
    "    print('Follow the instructions to insert the pandas DataFrame above, and edit to')\n",
    "    print('make the generated df_data_# variable match the variable used here.')\n",
    "    raise"
   ]
  },
  {
   "cell_type": "markdown",
   "metadata": {},
   "source": [
    "**Select the cell below and place your cursor on an empty line below the comment.** \n",
    "Put in the credentials for the file you want to enrich by clicking on the 10/01 (upper right), then click `Insert to code` under the file you want to enrich, and choose `Insert Credentials`.\n",
    "\n",
    "**Change the inserted variable name to `credentials_1`**\n",
    "\n",
    "###  <span style=\"color: red\"> _User Input_</span> "
   ]
  },
  {
   "cell_type": "code",
   "execution_count": 9,
   "metadata": {},
   "outputs": [],
   "source": [
    "# insert credentials for file - Change to credentials_1\n"
   ]
  },
  {
   "cell_type": "code",
   "execution_count": 10,
   "metadata": {},
   "outputs": [],
   "source": [
    "# Make sure this uses the variable above. The number will vary in the inserted code.\n",
    "try:\n",
    "    credentials = credentials_1\n",
    "except NameError as e:\n",
    "    print('Error: Setup is incorrect or incomplete.\\n')\n",
    "    print('Follow the instructions to insert the file credentials above, and edit to')\n",
    "    print('make the generated credentials_# variable match the variable used here.')\n",
    "    raise"
   ]
  },
  {
   "cell_type": "markdown",
   "metadata": {},
   "source": [
    "<a id='prepare'></a>\n",
    "## 3. Prepare Data\n",
    "You'll prepare the data by cleansing it and extracting the URLs. Many of the posts contain both text and a URL. The first task is to separate URLs from the text so that they can be analyzed separately. Then you need to get thumbnails for the photos and links, and convert any shortened URLs to full URLs."
   ]
  },
  {
   "cell_type": "markdown",
   "metadata": {},
   "source": [
    "<a id='prepare1'></a>\n",
    "###  3.1 Data Cleansing with Python\n",
    "Renaming columns, removing noticeable noise in the data, pulling out URLs and appending to a new column to run through NLU.\n",
    "\n",
    "To cleanse the data, you'll rename a column and add a column with the URLs that were embedded in the post. \n",
    "\n",
    "Change the name of the `Post Message` column to `Text`:"
   ]
  },
  {
   "cell_type": "code",
   "execution_count": 11,
   "metadata": {},
   "outputs": [],
   "source": [
    "df.rename(columns={'Post Message': 'Text'}, inplace=True)"
   ]
  },
  {
   "cell_type": "code",
   "execution_count": 12,
   "metadata": {},
   "outputs": [],
   "source": [
    "# Drop the rows that have NaN for the text.\n",
    "df.dropna(subset=['Text'], inplace=True)"
   ]
  },
  {
   "cell_type": "markdown",
   "metadata": {},
   "source": [
    "Use the `str.partition` function to remove strings that contain \"http\" and \"www\" from the `Text` column and save them in new DataFrames, then add all web addresses to a new `Link` column in the original DataFrame. This process captures all web addresses: https, http, and www."
   ]
  },
  {
   "cell_type": "code",
   "execution_count": 13,
   "metadata": {},
   "outputs": [],
   "source": [
    "df_http = df[\"Text\"].str.partition(\"http\")\n",
    "df_www = df[\"Text\"].str.partition(\"www\")\n",
    "\n",
    "# Combine delimiters with actual links\n",
    "df_http[\"Link\"] = df_http[1].map(str) + df_http[2]\n",
    "df_www[\"Link1\"] = df_www[1].map(str) + df_www[2]\n",
    "\n",
    "# Include only Link columns\n",
    "df_http.drop(df_http.columns[0:3], axis=1, inplace = True)\n",
    "df_www.drop(df_www.columns[0:3], axis=1, inplace = True)\n",
    "\n",
    "# Merge http and www DataFrames\n",
    "dfmerge = pd.concat([df_http, df_www], axis=1)\n",
    "\n",
    "# The following steps will allow you to merge data columns from the left to the right\n",
    "dfmerge = dfmerge.apply(lambda x: x.str.strip()).replace('', np.nan)\n",
    "\n",
    "# Use fillna to fill any blanks with the Link1 column\n",
    "dfmerge[\"Link\"].fillna(dfmerge[\"Link1\"], inplace = True)\n",
    "\n",
    "# Delete Link1 (www column)\n",
    "dfmerge.drop(\"Link1\", axis=1, inplace = True)\n",
    "\n",
    "# Combine Link data frame\n",
    "df = pd.concat([dfmerge,df], axis = 1)\n",
    "\n",
    "# Make sure text column is a string\n",
    "df[\"Text\"] = df[\"Text\"].astype(\"str\")\n",
    "\n",
    "# Strip links from Text column\n",
    "df['Text'] = df['Text'].apply(lambda x: x.split('http')[0])\n",
    "df['Text'] = df['Text'].apply(lambda x: x.split('www')[0])"
   ]
  },
  {
   "cell_type": "markdown",
   "metadata": {},
   "source": [
    "### <a id='prepare2'></a> 3.2 Extract thumbnails and extended links\n",
    "\n",
    "A standard Facebook export does not provide the thumbnail that usually summarizes the link or photo associated with each post. Use the Beautiful Soup library to go into the HTML of the post and extract the thumbnail text:"
   ]
  },
  {
   "cell_type": "code",
   "execution_count": 14,
   "metadata": {},
   "outputs": [],
   "source": [
    "# Change links from objects to strings\n",
    "for link in df.Link:\n",
    "    df.Link.to_string()\n",
    "\n",
    "piclinks = []\n",
    "description = []\n",
    "for url in df[\"Link\"]:\n",
    "    if pd.isnull(url):\n",
    "        piclinks.append(\"\")\n",
    "        description.append(\"\")\n",
    "        continue\n",
    "        \n",
    "    try:\n",
    "        # Skip certificate check with verify=False.\n",
    "        # Don't do this if your urls are not secure.\n",
    "        page3 = requests.get(url, verify=False)\n",
    "        if page3.status_code != requests.codes.ok:\n",
    "            piclinks.append(\"\")\n",
    "            description.append(\"\")\n",
    "            continue\n",
    "    except Exception as e:\n",
    "        print(\"Skipping url %s: %s\" % (url, e))\n",
    "        piclinks.append(\"\")\n",
    "        description.append(\"\")\n",
    "        continue\n",
    "        \n",
    "    soup3 = bs(page3.text,\"lxml\")\n",
    "    \n",
    "    pic = soup3.find('meta', property =\"og:image\")\n",
    "    if pic:\n",
    "        piclinks.append(pic[\"content\"])\n",
    "    else: \n",
    "        piclinks.append(\"\")\n",
    "    \n",
    "    content = None\n",
    "    desc = soup3.find(attrs={'name':'Description'})\n",
    "    if desc:\n",
    "        content = desc['content']\n",
    "    if not content or content == 'null':\n",
    "        # Try again with lowercase description\n",
    "        desc = soup3.find(attrs={'name':'description'})\n",
    "        if desc:\n",
    "            content = desc['content']\n",
    "    if not content or content == 'null':\n",
    "        description.append(\"\")\n",
    "    else:\n",
    "        description.append(content)\n",
    "            \n",
    "# Save thumbnail descriptions to df in a column titled 'Thumbnails'\n",
    "df[\"Thumbnails\"] = description\n",
    "# Save image links to df in a column titled 'Image'\n",
    "df[\"Image\"] = piclinks"
   ]
  },
  {
   "cell_type": "markdown",
   "metadata": {},
   "source": [
    "Convert shortened links to full links.\n",
    "Use requests module to pull extended links. This is only necessary if the Facebook page uses different links than the articles themselves. For this example we are using IBM Watson's Facebook export which uses an IBM link. \n"
   ]
  },
  {
   "cell_type": "code",
   "execution_count": 15,
   "metadata": {},
   "outputs": [],
   "source": [
    "shortlink = df[\"Link\"]\n",
    "extendedlink = []\n",
    "\n",
    "for link in shortlink:\n",
    "    if isinstance(link, float):  # Float is not a URL, probably NaN.\n",
    "        extendedlink.append('')\n",
    "    else:\n",
    "        try:\n",
    "            extended_link = requests.Session().head(link, allow_redirects=True).url\n",
    "            extendedlink.append(extended_link)\n",
    "        except Exception as e:\n",
    "            print(\"Skipping link %s: %s\" % (link, e))\n",
    "            extendedlink.append('')\n",
    "\n",
    "df[\"Extended Links\"] = extendedlink"
   ]
  },
  {
   "cell_type": "markdown",
   "metadata": {},
   "source": [
    "<a id='enrich'></a> \n",
    "## 4. Enrichment Time!\n",
    "<a id='nlupost'></a>\n",
    "###  4.1 NLU for the Post Text\n",
    "The following script is an example of how to use Natural Language Understanding to iterate through each post and extract enrichment features for future analysis.\n",
    "\n",
    "For this example, we are looking at the `Text` column in our DataFrame, which contains the text of each post. NLU can also iterate through a column of URLs, or other freeform text. There's a list within a list for the Keywords and Entities features to allow gathering multiple entities and keywords from each piece of text.\n",
    "\n",
    "Each extracted feature is appended to the DataFrame in a new column that's defined at the end of the script. If you want to run this same script for the other columns, set the loop iterable to the column name, if you are using URLs, change the `text=response` parameter to `url=response`, and update the new column names as necessary. "
   ]
  },
  {
   "cell_type": "code",
   "execution_count": 16,
   "metadata": {},
   "outputs": [],
   "source": [
    "# Define the list of features to get enrichment values for entities, keywords, emotion and sentiment\n",
    "features = Features(entities=EntitiesOptions(), keywords=KeywordsOptions(), emotion=EmotionOptions(), sentiment=SentimentOptions())\n",
    "\n",
    "overallSentimentScore = []\n",
    "overallSentimentType = []\n",
    "highestEmotion = []\n",
    "highestEmotionScore = []\n",
    "kywords = []\n",
    "entities = []\n",
    "\n",
    "# Go through every response and enrich the text using NLU.\n",
    "for text in df['Text']:\n",
    "  if not text:\n",
    "    # print(\"Text is empty\")\n",
    "    overallSentimentScore.append('0')\n",
    "    overallSentimentType.append('0')\n",
    "    highestEmotion.append(\"\")\n",
    "    highestEmotionScore.append(\"\")\n",
    "    kywords.append(\"\")\n",
    "    entities.append(\"\")\n",
    "    continue\n",
    "  else:\n",
    "    # We are assuming English to avoid errors when the language cannot be detected.\n",
    "    enriched_json = nlu.analyze(text=text, features=features, language='en').get_result()\n",
    "\n",
    "    # Get the SENTIMENT score and type\n",
    "    if 'sentiment' in enriched_json:\n",
    "        if('score' in enriched_json['sentiment'][\"document\"]):\n",
    "            overallSentimentScore.append(enriched_json[\"sentiment\"][\"document\"][\"score\"])\n",
    "        else:\n",
    "            overallSentimentScore.append('0')\n",
    "\n",
    "        if('label' in enriched_json['sentiment'][\"document\"]):\n",
    "            overallSentimentType.append(enriched_json[\"sentiment\"][\"document\"][\"label\"])\n",
    "        else:\n",
    "            overallSentimentType.append('0')\n",
    "    else:\n",
    "        overallSentimentScore.append('0')\n",
    "        overallSentimentType.append('0')\n",
    "\n",
    "    # Read the EMOTIONS into a dict and get the key (emotion) with maximum value\n",
    "    if 'emotion' in enriched_json:\n",
    "        me = max(enriched_json[\"emotion\"][\"document\"][\"emotion\"].items(), key=operator.itemgetter(1))[0]\n",
    "        highestEmotion.append(me)\n",
    "        highestEmotionScore.append(enriched_json[\"emotion\"][\"document\"][\"emotion\"][me])\n",
    "    else:\n",
    "        highestEmotion.append(\"\")\n",
    "        highestEmotionScore.append(\"\")\n",
    "\n",
    "    # Iterate and get KEYWORDS with a confidence of over 70%\n",
    "    if 'keywords' in enriched_json:\n",
    "        tmpkw = []\n",
    "        for kw in enriched_json['keywords']:\n",
    "            if(float(kw[\"relevance\"]) >= 0.7):\n",
    "                tmpkw.append(kw[\"text\"])\n",
    "        # Convert multiple keywords in a list to a string and append the string\n",
    "        kywords.append(', '.join(tmpkw))\n",
    "    else:\n",
    "        kywords.append(\"\")\n",
    "            \n",
    "    # Iterate and get Entities with a confidence of over 30%\n",
    "    if 'entities' in enriched_json:\n",
    "        tmpent = []\n",
    "        for ent in enriched_json['entities']: \n",
    "            if(float(ent[\"relevance\"]) >= 0.3):\n",
    "                tmpent.append(ent[\"type\"])\n",
    " \n",
    "        # Convert multiple entities in a list to a string and append the string\n",
    "        entities.append(', '.join(tmpent))\n",
    "    else:\n",
    "        entities.append(\"\")\n",
    "    \n",
    "# Create columns from the list and append to the DataFrame\n",
    "if highestEmotion:\n",
    "    df['TextHighestEmotion'] = highestEmotion\n",
    "if highestEmotionScore:\n",
    "    df['TextHighestEmotionScore'] = highestEmotionScore\n",
    "\n",
    "if overallSentimentType:\n",
    "    df['TextOverallSentimentType'] = overallSentimentType\n",
    "if overallSentimentScore:\n",
    "    df['TextOverallSentimentScore'] = overallSentimentScore\n",
    "\n",
    "df['TextKeywords'] = kywords\n",
    "df['TextEntities'] = entities"
   ]
  },
  {
   "cell_type": "markdown",
   "metadata": {},
   "source": [
    "After we extract all of the Keywords and Entities from each Post, we have columns with multiple Keywords and Entities separated by commas. For our Analysis in Part II, we also wanted the top Keyword and Entity for each Post. Because of this, we added two new columns to capture the `MaxTextKeyword` and `MaxTextEntity`."
   ]
  },
  {
   "cell_type": "code",
   "execution_count": 17,
   "metadata": {},
   "outputs": [],
   "source": [
    "# Choose first of Keywords, Concepts, Entities\n",
    "df[\"MaxTextKeywords\"] = df[\"TextKeywords\"].apply(lambda x: x.split(',')[0])\n",
    "df[\"MaxTextEntity\"] = df[\"TextEntities\"].apply(lambda x: x.split(',')[0])"
   ]
  },
  {
   "cell_type": "markdown",
   "metadata": {},
   "source": [
    "<a id='nlutn'></a>\n",
    "###  4.2 NLU for Thumbnail Text\n",
    "\n",
    "We will repeat the same process for Thumbnails and Article Text."
   ]
  },
  {
   "cell_type": "code",
   "execution_count": 18,
   "metadata": {},
   "outputs": [],
   "source": [
    "# Define the list of features to get enrichment values for entities, keywords, emotion and sentiment\n",
    "features = Features(entities=EntitiesOptions(), keywords=KeywordsOptions(), emotion=EmotionOptions(), sentiment=SentimentOptions())\n",
    "\n",
    "overallSentimentScore = []\n",
    "overallSentimentType = []\n",
    "highestEmotion = []\n",
    "highestEmotionScore = []\n",
    "kywords = []\n",
    "entities = []\n",
    "\n",
    "# Go through every response and enrich the text using NLU.\n",
    "for text in df['Thumbnails']:\n",
    "    if not text:\n",
    "        overallSentimentScore.append(' ')\n",
    "        overallSentimentType.append(' ')\n",
    "        highestEmotion.append(' ')\n",
    "        highestEmotionScore.append(' ')\n",
    "        kywords.append(' ')\n",
    "        entities.append(' ')\n",
    "        continue\n",
    "\n",
    "    enriched_json = nlu.analyze(text=text, features=features, language='en').get_result()\n",
    "\n",
    "    # Get the SENTIMENT score and type\n",
    "    if 'sentiment' in enriched_json:\n",
    "        if('score' in enriched_json['sentiment'][\"document\"]):\n",
    "            overallSentimentScore.append(enriched_json[\"sentiment\"][\"document\"][\"score\"])\n",
    "        else:\n",
    "            overallSentimentScore.append(\"\")\n",
    "\n",
    "        if('label' in enriched_json['sentiment'][\"document\"]):\n",
    "            overallSentimentType.append(enriched_json[\"sentiment\"][\"document\"][\"label\"])\n",
    "        else:\n",
    "            overallSentimentType.append(\"\")\n",
    "\n",
    "    # Read the EMOTIONS into a dict and get the key (emotion) with maximum value\n",
    "    if 'emotion' in enriched_json:\n",
    "        me = max(enriched_json[\"emotion\"][\"document\"][\"emotion\"].items(), key=operator.itemgetter(1))[0]\n",
    "        highestEmotion.append(me)\n",
    "        highestEmotionScore.append(enriched_json[\"emotion\"][\"document\"][\"emotion\"][me])\n",
    "\n",
    "    else:\n",
    "        highestEmotion.append(\"\")\n",
    "        highestEmotionScore.append(\"\")\n",
    "\n",
    "    # Iterate and get KEYWORDS with a confidence of over 70%\n",
    "    if 'keywords' in enriched_json:\n",
    "        tmpkw = []\n",
    "        for kw in enriched_json['keywords']:\n",
    "            if(float(kw[\"relevance\"]) >= 0.7):\n",
    "                tmpkw.append(kw[\"text\"])\n",
    "        # Convert multiple keywords in a list to a string and append the string\n",
    "        kywords.append(', '.join(tmpkw))\n",
    "     \n",
    "    # Iterate and get Entities with a confidence of over 30%\n",
    "    if 'entities' in enriched_json:\n",
    "        tmpent = []\n",
    "        for ent in enriched_json['entities']:              \n",
    "            if(float(ent[\"relevance\"]) >= 0.3):\n",
    "                tmpent.append(ent[\"type\"])\n",
    "        # Convert multiple entities in a list to a string and append the string\n",
    "        entities.append(', '.join(tmpent))\n",
    "    else:\n",
    "        entities.append(\"\")     \n",
    "  \n",
    "# Create columns from the list and append to the DataFrame\n",
    "if highestEmotion:\n",
    "    df['ThumbnailHighestEmotion'] = highestEmotion\n",
    "if highestEmotionScore:\n",
    "    df['ThumbnailHighestEmotionScore'] = highestEmotionScore\n",
    "\n",
    "if overallSentimentType:\n",
    "    df['ThumbnailOverallSentimentType'] = overallSentimentType\n",
    "if overallSentimentScore:\n",
    "    df['ThumbnailOverallSentimentScore'] = overallSentimentScore\n",
    "\n",
    "df['ThumbnailKeywords'] = kywords\n",
    "df['ThumbnailEntities'] = entities"
   ]
  },
  {
   "cell_type": "markdown",
   "metadata": {},
   "source": [
    " Add two new columns to capture the `MaxThumbnailKeyword` and `MaxThumbnailEntity`:"
   ]
  },
  {
   "cell_type": "code",
   "execution_count": 19,
   "metadata": {},
   "outputs": [],
   "source": [
    "# Set 'Max' to first one from keywords and entities lists\n",
    "df[\"MaxThumbnailKeywords\"] = df[\"ThumbnailKeywords\"].apply(lambda x: x.split(',')[0])\n",
    "df[\"MaxThumbnailEntity\"] = df[\"ThumbnailEntities\"].apply(lambda x: x.split(',')[0])"
   ]
  },
  {
   "cell_type": "markdown",
   "metadata": {},
   "source": [
    "<a id='nlulink'></a> \n",
    "### 4.3 NLU for Article Text"
   ]
  },
  {
   "cell_type": "code",
   "execution_count": 20,
   "metadata": {},
   "outputs": [
    {
     "name": "stdout",
     "output_type": "stream",
     "text": [
      "Skipping url https://public.dhe.ibm.com/common/ssi/ecm/43/en/43018143usen/idc_ww_2017-cognitive-ai-sw-platforms-market-shares_jun20181_43018143USEN.pdf: Error: invalid request: requested html is not valid unicode, Code: 400 , X-global-transaction-id: 7ecac92c5d3f5bbc17b456eb\n",
      "Skipping url https://www.ibm.com/events/think/watch/replay/113754265/: Error: Could not fetch URL: Target server returned error, Code: 400 , X-global-transaction-id: 7ecac92c5d3f5bbe5821e75d\n",
      "Skipping url https://searchcio.techtarget.com/feature/Whos-talking-Conversational-agent-vs-chatbot-vs-virtual-assistant: Error: Could not fetch URL: File not found, Code: 400 , X-global-transaction-id: ffea405d5d3f5be729a2dc59\n",
      "Skipping url https://www.ibm.com/events/think/watch/replay/113940350/: Error: Could not fetch URL: Target server returned error, Code: 400 , X-global-transaction-id: ffea405d5d3f5bfd0c2d640f\n",
      "Skipping url http://ibmsports.co/T2RJpA: Error: Could not fetch URL: File not found, Code: 400 , X-global-transaction-id: ffea405d5d3f5c002ef0857d\n",
      "Skipping url https://www.ibm.com/events/think/watch/replay/113940350/: Error: Could not fetch URL: Target server returned error, Code: 400 , X-global-transaction-id: 7ecac92c5d3f5c0e4d90dc09\n",
      "Skipping url https://searchcio.techtarget.com/feature/Whos-talking-Conversational-agent-vs-chatbot-vs-virtual-assistant: Error: Could not fetch URL: File not found, Code: 400 , X-global-transaction-id: ffea405d5d3f5c3329a4bd29\n",
      "Skipping url https://mashable.com/2018/01/17/how-watson-ai-works/#2VyylJbxRPqS: Error: Could not fetch URL: File not found, Code: 400 , X-global-transaction-id: 7ecac92c5d3f5c464d920da9\n",
      "Skipping url https://searchcio.techtarget.com/feature/Whos-talking-Conversational-agent-vs-chatbot-vs-virtual-assistant: Error: Could not fetch URL: File not found, Code: 400 , X-global-transaction-id: ffea405d5d3f5c532ef2940d\n",
      "Skipping url https://www.ibm.com/events/think/watch/replay/113754265/: Error: Could not fetch URL: Target server returned error, Code: 400 , X-global-transaction-id: 7ecac92c5d3f5c6a58264f1d\n",
      "Skipping url https://searchcio.techtarget.com/feature/Whos-talking-Conversational-agent-vs-chatbot-vs-virtual-assistant: Error: Could not fetch URL: File not found, Code: 400 , X-global-transaction-id: ffea405d5d3f5c7e26e85b35\n",
      "Skipping url https://mashable.com/2018/01/17/how-watson-ai-works/#2VyylJbxRPqS: Error: Could not fetch URL: File not found, Code: 400 , X-global-transaction-id: 7ecac92c5d3f5c885826e37d\n",
      "Skipping url https://searchcio.techtarget.com/feature/Whos-talking-Conversational-agent-vs-chatbot-vs-virtual-assistant: Error: Could not fetch URL: File not found, Code: 400 , X-global-transaction-id: ffea405d5d3f5ca529a73b09\n",
      "Skipping url https://www.ibm.com/blogs/watson/2017/12/future-of-ai-revenue-top-10-uses-cases-for-ai/?cm_mmc=OSocial_Facebook-_-Watson+Core_Watson+Core+-+Platform-_-WW_WW-_-Top+10+AI&cm_mmca1=000000OF&cm_mmca2=10000408: Error: Could not fetch URL: File not found, Code: 400 , X-global-transaction-id: ffea405d5d3f5cd20dc68de3\n"
     ]
    }
   ],
   "source": [
    "# Define the list of features to get enrichment values for entities, keywords, emotion and sentiment\n",
    "features = Features(entities=EntitiesOptions(), keywords=KeywordsOptions(), emotion=EmotionOptions(), sentiment=SentimentOptions())\n",
    "\n",
    "overallSentimentScore = []\n",
    "overallSentimentType = []\n",
    "highestEmotion = []\n",
    "highestEmotionScore = []\n",
    "kywords = []\n",
    "entities = []\n",
    "article_text = []\n",
    "        \n",
    "# Go through every response and enrich the article using NLU\n",
    "for url in df['Extended Links']:\n",
    "    if not url:\n",
    "        overallSentimentScore.append(' ')\n",
    "        overallSentimentType.append(' ')\n",
    "        highestEmotion.append(' ')\n",
    "        highestEmotionScore.append(' ')\n",
    "        kywords.append(' ')\n",
    "        entities.append(' ')\n",
    "        article_text.append(' ')\n",
    "        continue\n",
    "\n",
    "    # Run links through NLU to get entities, keywords, emotion and sentiment.\n",
    "    # Use return_analyzed_text to extract text for Tone Analyzer to use.\n",
    "    \n",
    "    try:\n",
    "        enriched_json = nlu.analyze(url=url,\n",
    "                                features=features,\n",
    "                                language='en',\n",
    "                                return_analyzed_text=True).get_result()\n",
    "        article_text.append(enriched_json[\"analyzed_text\"])\n",
    "    except Exception as e:\n",
    "        print(\"Skipping url %s: %s\" % (url, e))\n",
    "        overallSentimentScore.append(' ')\n",
    "        overallSentimentType.append(' ')\n",
    "        highestEmotion.append(' ')\n",
    "        highestEmotionScore.append(' ')\n",
    "        kywords.append(' ')\n",
    "        entities.append(' ')\n",
    "        article_text.append(' ')\n",
    "        continue\n",
    "      \n",
    "    \n",
    "    \n",
    "\n",
    "    # Get the SENTIMENT score and type\n",
    "    if 'sentiment' in enriched_json:\n",
    "        if('score' in enriched_json['sentiment'][\"document\"]):\n",
    "            overallSentimentScore.append(enriched_json[\"sentiment\"][\"document\"][\"score\"])\n",
    "        else:\n",
    "            overallSentimentScore.append('None')\n",
    "\n",
    "        if('label' in enriched_json['sentiment'][\"document\"]):\n",
    "            overallSentimentType.append(enriched_json[\"sentiment\"][\"document\"][\"label\"])\n",
    "        else:\n",
    "            overallSentimentType.append('')\n",
    "\n",
    "    # Read the EMOTIONS into a dict and get the key (emotion) with maximum value\n",
    "    if 'emotion' in enriched_json:\n",
    "        me = max(enriched_json[\"emotion\"][\"document\"][\"emotion\"].items(), key=operator.itemgetter(1))[0]\n",
    "        highestEmotion.append(me)\n",
    "        highestEmotionScore.append(enriched_json[\"emotion\"][\"document\"][\"emotion\"][me])\n",
    "\n",
    "    else:\n",
    "        highestEmotion.append('')\n",
    "        highestEmotionScore.append('')\n",
    "\n",
    "    # Iterate and get KEYWORDS with a confidence of over 70%\n",
    "    if 'keywords' in enriched_json:\n",
    "        tmpkw = []\n",
    "        for kw in enriched_json['keywords']:\n",
    "            if(float(kw[\"relevance\"]) >= 0.7):\n",
    "                tmpkw.append(kw[\"text\"])\n",
    "        # Convert multiple keywords in a list to a string and append the string\n",
    "        kywords.append(', '.join(tmpkw))\n",
    "    else: \n",
    "        kywords.append(\"\")\n",
    "            \n",
    "    # Iterate and get Entities with a confidence of over 30%\n",
    "    if 'entities' in enriched_json:\n",
    "        tmpent = []\n",
    "        for ent in enriched_json['entities']:               \n",
    "            if(float(ent[\"relevance\"]) >= 0.3):\n",
    "                tmpent.append(ent[\"type\"])\n",
    "        # Convert multiple entities in a list to a string and append the string\n",
    "        entities.append(', '.join(tmpent))\n",
    "    else:\n",
    "        entities.append(\"\")\n",
    "    \n",
    "# Create columns from the list and append to the DataFrame\n",
    "if highestEmotion:\n",
    "    df['LinkHighestEmotion'] = highestEmotion\n",
    "if highestEmotionScore:\n",
    "    df['LinkHighestEmotionScore'] = highestEmotionScore\n",
    "\n",
    "if overallSentimentType:\n",
    "    df['LinkOverallSentimentType'] = overallSentimentType\n",
    "if overallSentimentScore:\n",
    "    df['LinkOverallSentimentScore'] = overallSentimentScore\n",
    "\n",
    "df['LinkKeywords'] = kywords\n",
    "df['LinkEntities'] = entities\n",
    "df['Article Text'] = article_text"
   ]
  },
  {
   "cell_type": "markdown",
   "metadata": {},
   "source": [
    "Add two new columns to capture the `MaxLinkKeyword` and `MaxLinkEntity`:"
   ]
  },
  {
   "cell_type": "code",
   "execution_count": 21,
   "metadata": {},
   "outputs": [],
   "source": [
    "# Set 'Max' to first one from keywords and entities lists\n",
    "df[\"MaxLinkKeywords\"] = df[\"LinkKeywords\"].apply(lambda x: x.split(',')[0])\n",
    "df[\"MaxLinkEntity\"] = df[\"LinkEntities\"].apply(lambda x: x.split(',')[0])"
   ]
  },
  {
   "cell_type": "markdown",
   "metadata": {},
   "source": [
    "### <a id='tonepost'></a>4.4 Tone Analyzer for Post Text\n",
    "Now use the Tone Analyzer to gather the top social, writing, and emotion tones from the post text and append them, along with their respective scores, to the DataFrame. "
   ]
  },
  {
   "cell_type": "code",
   "execution_count": 22,
   "metadata": {},
   "outputs": [
    {
     "name": "stdout",
     "output_type": "stream",
     "text": [
      "skipping empty text\n",
      "skipping empty text\n"
     ]
    }
   ],
   "source": [
    "highestEmotionTone = []\n",
    "emotionToneScore = []\n",
    "\n",
    "highestLanguageTone = []\n",
    "languageToneScore = []\n",
    "\n",
    "highestSocialTone = []\n",
    "socialToneScore = []\n",
    "\n",
    "for text in df['Text']:\n",
    "  if not text:\n",
    "    highestEmotionTone.append(' ')   \n",
    "    emotionToneScore.append(' ')\n",
    "    highestLanguageTone.append(' ')\n",
    "    languageToneScore.append(' ')\n",
    "    highestSocialTone.append(' ')\n",
    "    socialToneScore.append(' ')\n",
    "    continue\n",
    "  else:\n",
    "    enriched_json = tone_analyzer.tone({'text': text}, content_type='application/json', sentences=False).get_result()\n",
    "    \n",
    "    emotion_score = 0\n",
    "    emotion_tone = ' '\n",
    "    lang_score = 0\n",
    "    lang_tone = ' '\n",
    "    other_score = 0\n",
    "    other_tone = ' '\n",
    "    for tone in enriched_json[\"document_tone\"][\"tones\"]:\n",
    "        if tone['tone_id'] in ('anger', 'fear', 'joy', 'sadness'):\n",
    "            if tone['score'] > emotion_score:\n",
    "                emotion_score = tone['score']\n",
    "                emotion_tone = tone['tone_name']\n",
    "        elif tone['tone_id'] in ('analytical', 'confident', 'tentative'):\n",
    "            if tone['score'] > lang_score:\n",
    "                lang_score = tone['score']\n",
    "                lang_tone = tone['tone_name']\n",
    "        elif tone['score'] > social_score:\n",
    "            # TODO: using \"social\" to catch anything not in hard-coded lists above\n",
    "            social_score = tone['score']\n",
    "            social_tone = tone['tone_name']\n",
    " \n",
    "    highestEmotionTone.append(emotion_tone)\n",
    "    emotionToneScore.append(emotion_score)         \n",
    "    highestLanguageTone.append(lang_tone)\n",
    "    languageToneScore.append(lang_score)\n",
    "    highestSocialTone.append(other_tone)\n",
    "    socialToneScore.append(other_score)\n",
    "    \n",
    "df['highestEmotionTone'] = highestEmotionTone    \n",
    "df['emotionToneScore'] = emotionToneScore\n",
    "df['languageToneScore'] = languageToneScore\n",
    "df['highestLanguageTone'] = highestLanguageTone\n",
    "df['socialToneScore'] = socialToneScore\n",
    "df['highestSocialTone'] = highestSocialTone"
   ]
  },
  {
   "cell_type": "markdown",
   "metadata": {},
   "source": [
    "<a id='tonearticle'></a> \n",
    "### 4.5 Tone Analyzer for Article Text"
   ]
  },
  {
   "cell_type": "markdown",
   "metadata": {},
   "source": [
    "Unlike NLU, Tone Analyzer cannot iterate through a URL, so we used NLU (above) to pull the Article Text from the URL and append it to the DataFrame.\n",
    "\n",
    "Now using Tone Analyzer, we iterate through the `Article Text` column which contains all of the free form text from the articles contained in the Facebook posts. \n",
    "\n",
    "We are using Tone Analyzer to gather the top Social, Language and Emotion Tones from the Articles."
   ]
  },
  {
   "cell_type": "code",
   "execution_count": 23,
   "metadata": {},
   "outputs": [],
   "source": [
    "highestEmotionTone = []\n",
    "emotionToneScore = []\n",
    "\n",
    "highestLanguageTone = []\n",
    "languageToneScore = []\n",
    "\n",
    "highestSocialTone = []\n",
    "socialToneScore = []\n",
    "\n",
    "for text in df['Article Text']:\n",
    "    if not text:\n",
    "        emotionToneScore.append(' ')\n",
    "        highestEmotionTone.append(' ')     \n",
    "        languageToneScore.append(' ')\n",
    "        highestLanguageTone.append(' ')     \n",
    "        socialToneScore.append(' ')\n",
    "        highestSocialTone.append(' ')  \n",
    "        continue\n",
    "\n",
    "    enriched_json = tone_analyzer.tone({'text': text}, content_type='application/json', sentences=False).get_result()\n",
    "    \n",
    "    emotion_score = 0\n",
    "    emotion_tone = ' '\n",
    "    lang_score = 0\n",
    "    lang_tone = ' '\n",
    "    other_score = 0\n",
    "    other_tone = ' '\n",
    "    for tone in enriched_json[\"document_tone\"][\"tones\"]:\n",
    "        if tone['tone_id'] in ('anger', 'fear', 'joy', 'sadness'):\n",
    "            if tone['score'] > emotion_score:\n",
    "                emotion_score = tone['score']\n",
    "                emotion_tone = tone['tone_name']\n",
    "        elif tone['tone_id'] in ('analytical', 'confident', 'tentative'):\n",
    "            if tone['score'] > lang_score:\n",
    "                lang_score = tone['score']\n",
    "                lang_tone = tone['tone_name']\n",
    "        elif tone['score'] > social_score:\n",
    "            # TODO: using \"social\" to catch anything not in hard-coded lists above\n",
    "            social_score = tone['score']\n",
    "            social_tone = tone['tone_name']\n",
    " \n",
    "    highestEmotionTone.append(emotion_tone)\n",
    "    emotionToneScore.append(emotion_score)         \n",
    "    highestLanguageTone.append(lang_tone)\n",
    "    languageToneScore.append(lang_score)\n",
    "    highestSocialTone.append(other_tone)\n",
    "    socialToneScore.append(other_score)\n",
    "\n",
    "df['articlehighestEmotionTone'] = highestEmotionTone\n",
    "df['articleEmotionToneScore'] = emotionToneScore\n",
    "df['articlelanguageToneScore'] = languageToneScore\n",
    "df['articlehighestLanguageTone'] = highestLanguageTone\n",
    "df['articlehighestSocialTone'] = highestSocialTone\n",
    "df['articlesocialToneScore'] = socialToneScore"
   ]
  },
  {
   "cell_type": "markdown",
   "metadata": {},
   "source": [
    "<a id='visual'></a> \n",
    "### 4.6 Visual Recognition\n",
    "Below uses Visual Recognition to classify the thumbnail images.\n",
    "\n",
    "> NOTE: When using the **free tier** of Visual Recognition, _classify_ has a limit of 250 images per day."
   ]
  },
  {
   "cell_type": "code",
   "execution_count": 24,
   "metadata": {},
   "outputs": [
    {
     "name": "stdout",
     "output_type": "stream",
     "text": [
      "Skipping url /cloud/watson-openscale/assets/img/Leadspace.png: Error: Unknown error, Code: 400 , X-global-transaction-id: ffea405d5d3f5e1526f05015\n",
      "Skipping url https://img.deusm.com/informationweek/Oct/David_Cox_IBM.jpg : Error: Unknown error, Code: 400 , X-global-transaction-id: 7ecac92c5d3f5e2819d48343\n",
      "Skipping url https://1.cms.s81c.com/sites/default/files/2019-04-22/explainable-ai.jpg: Error: Unknown error, Code: 400 , X-global-transaction-id: ffea405d5d3f5e2a2efe419d\n",
      "Skipping url https://1.cms.s81c.com/sites/default/files/2019-04-22/explainable-ai.jpg: Error: Unknown error, Code: 400 , X-global-transaction-id: ffea405d5d3f5e390d87b487\n",
      "Skipping url //si.wsj.net/public/resources/images/BN-XY012_0320_c_P_20180320173444.jpg: Error: Unknown error, Code: 400 , X-global-transaction-id: ffea405d5d3f5e622eff9aad\n",
      "Skipping url //si.wsj.net/public/resources/images/BN-XY012_0320_c_P_20180320173444.jpg: Error: Unknown error, Code: 400 , X-global-transaction-id: ffea405d5d3f5e6a2effc63d\n",
      "Skipping url https://1.cms.s81c.com/sites/default/files/2018-12-04/8_0.png: Error: Unknown error, Code: 400 , X-global-transaction-id: ffea405d5d3f5e721ee38ea1\n",
      "Skipping url //si.wsj.net/public/resources/images/BN-XY012_0320_c_P_20180320173444.jpg: Error: Unknown error, Code: 400 , X-global-transaction-id: 7ecac92c5d3f5e7437c872c1\n",
      "Skipping url //si.wsj.net/public/resources/images/BN-XY012_0320_c_P_20180320173444.jpg: Error: Unknown error, Code: 400 , X-global-transaction-id: 7ecac92c5d3f5e844d9ec0a9\n",
      "Skipping url https://1.cms.s81c.com/sites/default/files/2018-12-04/8_0.png: Error: Unknown error, Code: 400 , X-global-transaction-id: ffea405d5d3f5e8726f309c5\n",
      "Skipping url //si.wsj.net/public/resources/images/BN-XY012_0320_c_P_20180320173444.jpg: Error: Unknown error, Code: 400 , X-global-transaction-id: 7ecac92c5d3f5e92190282b7\n",
      "Skipping url https://1.cms.s81c.com/sites/default/files/2019-02-11/assistant_chatbot_static_leadspace_2800x1195_0.jpg: Error: Unknown error, Code: 400 , X-global-transaction-id: ffea405d5d3f5ea31ee45c81\n",
      "Skipping url https://1.cms.s81c.com/sites/default/files/2018-12-04/8_0.png: Error: Unknown error, Code: 400 , X-global-transaction-id: 7ecac92c5d3f5ead485642a5\n"
     ]
    }
   ],
   "source": [
    "piclinks = df[\"Image\"]\n",
    "\n",
    "picclass = []\n",
    "piccolor = []\n",
    "pictype1 = []\n",
    "pictype2 = []\n",
    "pictype3 = []\n",
    "\n",
    "for pic in piclinks:\n",
    "    if not pic or pic == 'default-img':\n",
    "        picclass.append(' ')\n",
    "        piccolor.append(' ')\n",
    "        pictype1.append(' ')\n",
    "        pictype2.append(' ')\n",
    "        pictype3.append(' ')\n",
    "        continue\n",
    "\n",
    "    classes = []\n",
    "    enriched_json = {}\n",
    "    try:\n",
    "        enriched_json = visual_recognition.classify(url=pic).get_result()\n",
    "    except Exception as e:\n",
    "        print(\"Skipping url %s: %s\" % (pic, e))\n",
    "\n",
    "    if 'error' in enriched_json:\n",
    "        print(enriched_json['error'])\n",
    "    if 'images' in enriched_json and 'classifiers' in enriched_json['images'][0]:\n",
    "        classes = enriched_json['images'][0][\"classifiers\"][0][\"classes\"]\n",
    "\n",
    "    color1 = None\n",
    "    class1 = None\n",
    "    type_hierarchy1 = None\n",
    "\n",
    "    for iclass in classes:\n",
    "        # Grab the first color, first class, and first type hierarchy.\n",
    "        # Note: Usually you'd filter by 'score' too.\n",
    "        if not type_hierarchy1 and 'type_hierarchy' in iclass:\n",
    "            type_hierarchy1 = iclass['type_hierarchy']\n",
    "        if not class1:\n",
    "            class1 = iclass['class']\n",
    "        if not color1 and iclass['class'].endswith(' color'):\n",
    "            color1 = iclass['class'][:-len(' color')]\n",
    "        if type_hierarchy1 and class1 and color1:\n",
    "            # We are only using 1 of each per image. When we have all 3, break.\n",
    "            break\n",
    "\n",
    "    picclass.append(class1 or ' ')\n",
    "    piccolor.append(color1 or ' ')\n",
    "    type_split = (type_hierarchy1 or '/ / / ').split('/')\n",
    "    pictype1.append(type_split[1] if len(type_split) > 1 else '-')\n",
    "    pictype2.append(type_split[2] if len(type_split) > 2 else '- ')\n",
    "    pictype3.append(type_split[3] if len(type_split) > 3 else '-')\n",
    "\n",
    "df[\"Image Color\"] = piccolor\n",
    "df[\"Image Class\"] = picclass\n",
    "df[\"Image Type\"] = pictype1\n",
    "df[\"Image Subtype\"] = pictype2\n",
    "df[\"Image Subtype2\"] = pictype3"
   ]
  },
  {
   "cell_type": "markdown",
   "metadata": {},
   "source": [
    " <a id='write'></a>\n",
    "## Enrichment is now COMPLETE!\n",
    "<a id='write1'></a> \n",
    "Save a copy of the enriched DataFrame as a file in Cloud Object Storage. To run the upload_file function we first need to create a variable that contains our credentials we created in section 2.2. No user input is required as we already have all of the information we need. To upload the file to COS simply run the next two cells."
   ]
  },
  {
   "cell_type": "code",
   "execution_count": 25,
   "metadata": {},
   "outputs": [],
   "source": [
    "cos = ibm_boto3.client(service_name='s3',\n",
    "    ibm_api_key_id=credentials['IBM_API_KEY_ID'],\n",
    "    ibm_service_instance_id=credentials['IAM_SERVICE_ID'],\n",
    "    ibm_auth_endpoint=credentials['IBM_AUTH_ENDPOINT'],\n",
    "    config=Config(signature_version='oauth'),\n",
    "    endpoint_url=credentials['ENDPOINT'])"
   ]
  },
  {
   "cell_type": "code",
   "execution_count": 26,
   "metadata": {},
   "outputs": [],
   "source": [
    "# Build the enriched file name from the original filename.\n",
    "localfilename = 'enriched_' + credentials['FILE']\n",
    "\n",
    "# Write a CSV file from the enriched pandas DataFrame.\n",
    "df.to_csv(localfilename, index=False)\n",
    "\n",
    "# Use the above put_file method with credentials to put the file in Object Storage.\n",
    "cos.upload_file(localfilename, Bucket=credentials['BUCKET'],Key=localfilename)"
   ]
  },
  {
   "cell_type": "code",
   "execution_count": 27,
   "metadata": {},
   "outputs": [],
   "source": [
    "# If you want to use the enriched local file, you can read it back in.\n",
    "# This might be handy if you already enriched and just want to re-run\n",
    "# from this cell and below. Uncomment the following line.\n",
    "\n",
    "# df = pd.read_csv(localfilename)"
   ]
  },
  {
   "cell_type": "markdown",
   "metadata": {},
   "source": [
    "<a id=\"part2\"></a> \n",
    "# Part II - Data Preparation\n",
    "<a id='prepare'></a>\n",
    "## 1. Prepare Data\n",
    " <a id='visualizations'></a>\n",
    "### 1.1 Prepare Multiple DataFrames for Visualizations\n",
    "Before we can create the separate tables for each Watson feature we need to organize and reformat the data. First, we need to determine which data points are tied to metrics. Second, we need to make sure make sure each metric is numeric. _(This is necessary for PixieDust in Part III)_"
   ]
  },
  {
   "cell_type": "code",
   "execution_count": 28,
   "metadata": {},
   "outputs": [],
   "source": [
    "# Put the lifetime metrics in a list\n",
    "metrics = [metric for metric in df.columns.values.tolist() if 'Lifetime' in metric]"
   ]
  },
  {
   "cell_type": "markdown",
   "metadata": {},
   "source": [
    "<a id='tone'></a> \n",
    "### 1.2 Create a Consolidated Tone DataFrame\n",
    "You'll create a DataFrame for the tones of the post text and a DataFrame for the tones of the article text. Then you'll combine them into one DataFrame.\n",
    "\n",
    "Create a DataFrame for post tones:"
   ]
  },
  {
   "cell_type": "markdown",
   "metadata": {},
   "source": [
    "#### Post Tone DataFrame"
   ]
  },
  {
   "cell_type": "code",
   "execution_count": 29,
   "metadata": {},
   "outputs": [],
   "source": [
    "# Create a list with only Post Tone Values\n",
    "post_tones = [\"Text\",\"highestEmotionTone\", \"emotionToneScore\", \"languageToneScore\", \"highestLanguageTone\", \"highestSocialTone\", \"socialToneScore\"]\n",
    "\n",
    "# Append DataFrame with these metrics\n",
    "post_tones.extend(metrics)\n",
    "\n",
    "# Create a new DataFrame with tones and metrics\n",
    "df_post_tones = df[post_tones]\n",
    "\n",
    "# Determine which tone values are suppose to be numeric and ensure they are numeric. \n",
    "post_numeric_values = [\"emotionToneScore\", \"languageToneScore\", \"socialToneScore\"]\n",
    "for i in post_numeric_values:\n",
    "    df_post_tones[i] = pd.to_numeric(df_post_tones[i], errors='coerce')\n",
    "\n",
    "# Make all metrics numeric\n",
    "for i in metrics:\n",
    "    df_post_tones[i] = pd.to_numeric(df_post_tones[i], errors='coerce')\n",
    "    \n",
    "# Drop NA Values in Tone Enrichment Columns\n",
    "df_post_tones.dropna(subset=[\"socialToneScore\"] , inplace = True)\n",
    "\n",
    "# Add in a column to distinguish what portion the enrichment was happening \n",
    "df_post_tones[\"Type\"] = \"Post\""
   ]
  },
  {
   "cell_type": "markdown",
   "metadata": {},
   "source": [
    "#### Article Tone DataFrame"
   ]
  },
  {
   "cell_type": "code",
   "execution_count": 30,
   "metadata": {},
   "outputs": [],
   "source": [
    "# Create a list with only Article Tone Values\n",
    "article_tones = [\"Text\", \"articlehighestEmotionTone\", \"articleEmotionToneScore\", \"articlelanguageToneScore\", \"articlehighestLanguageTone\", \"articlehighestSocialTone\", \"articlesocialToneScore\"]\n",
    "\n",
    "# Append DataFrame with these metrics\n",
    "article_tones.extend(metrics)\n",
    "\n",
    "# Create a new DataFrame with tones and metrics\n",
    "df_article_tones = df[article_tones]\n",
    "\n",
    "# Determine which values are suppose to be numeric and ensure they are numeric. \n",
    "art_numeric_values = [\"articleEmotionToneScore\", \"articlelanguageToneScore\", \"articlesocialToneScore\"]\n",
    "for i in art_numeric_values:\n",
    "    df_article_tones[i] = pd.to_numeric(df_article_tones[i], errors='coerce')\n",
    "    \n",
    "# Make all metrics numeric\n",
    "for i in metrics:\n",
    "    df_article_tones[i] = pd.to_numeric(df_article_tones[i], errors='coerce')\n",
    "    \n",
    "# Drop NA Values in Tone Enrichment Columns\n",
    "df_article_tones.dropna(subset=[\"articlesocialToneScore\"] , inplace = True)\n",
    "\n",
    "# Add in a column to distinguish what portion the enrichment was happening \n",
    "df_article_tones[\"Type\"] = \"Article\""
   ]
  },
  {
   "cell_type": "markdown",
   "metadata": {},
   "source": [
    "#### Combine Post and Article DataFrames to Make One Tone DataFrame"
   ]
  },
  {
   "cell_type": "code",
   "execution_count": 31,
   "metadata": {},
   "outputs": [],
   "source": [
    "# First make the Column Headers the same\n",
    "df_post_tones.rename(columns={\"highestEmotionTone\":\"Emotion Tone\", \"emotionToneScore\":\"Emotion Tone Score\", \"languageToneScore\": \"Language Tone Score\", \"highestLanguageTone\": \"Language Tone\", \"highestSocialTone\": \"Social Tone\", \"socialToneScore\":\"Social Tone Score\"\n",
    "}, inplace=True)\n",
    "\n",
    "df_article_tones.rename(columns={\"articlehighestEmotionTone\":\"Emotion Tone\", \"articleEmotionToneScore\":\"Emotion Tone Score\", \"articlelanguageToneScore\": \"Language Tone Score\", \"articlehighestLanguageTone\": \"Language Tone\", \"articlehighestSocialTone\": \"Social Tone\", \"articlesocialToneScore\":\"Social Tone Score\"\n",
    "}, inplace=True)\n",
    "\n",
    "# Combine into one data frame\n",
    "df_tones = pd.concat([df_post_tones, df_article_tones])"
   ]
  },
  {
   "cell_type": "markdown",
   "metadata": {},
   "source": [
    " <a id='keyword'></a> \n",
    "### 1.3 Create a Consolidated Keyword DataFrame\n",
    "You'll create DataFrames for the keywords of the article text, the thumbnail text, and the post text. Then you'll combine them into one DataFrame."
   ]
  },
  {
   "cell_type": "markdown",
   "metadata": {},
   "source": [
    " #### Article Keyword DataFrame "
   ]
  },
  {
   "cell_type": "code",
   "execution_count": 32,
   "metadata": {},
   "outputs": [],
   "source": [
    "# Create a list with only Article Keywords\n",
    "article_keywords = [\"Text\", \"MaxLinkKeywords\"]\n",
    "\n",
    "# Append DataFrame with these metrics\n",
    "article_keywords.extend(metrics)\n",
    "\n",
    "# Create a new DataFrame with keywords and metrics\n",
    "df_article_keywords = df[article_keywords]\n",
    "\n",
    "# Make all metrics numeric\n",
    "for i in metrics:\n",
    "    df_article_keywords[i] = pd.to_numeric(df_article_keywords[i], errors='coerce')\n",
    "\n",
    "# Drop NA Values in Keywords Column\n",
    "df_article_keywords['MaxLinkKeywords'].replace(' ', np.nan, inplace=True)\n",
    "df_article_keywords.dropna(subset=['MaxLinkKeywords'], inplace=True)\n",
    "\n",
    "# Add in a column to distinguish what portion the enrichment was happening \n",
    "df_article_keywords[\"Type\"] = \"Article\""
   ]
  },
  {
   "cell_type": "markdown",
   "metadata": {},
   "source": [
    "#### Thumbnail Keyword DataFrame "
   ]
  },
  {
   "cell_type": "code",
   "execution_count": 33,
   "metadata": {},
   "outputs": [],
   "source": [
    "# Create a list with only Thumbnail Keywords\n",
    "thumbnail_keywords = [\"Text\", \"MaxThumbnailKeywords\"]\n",
    "\n",
    "# Append DataFrame with these metrics\n",
    "thumbnail_keywords.extend(metrics)\n",
    "\n",
    "# Create a new DataFrame with keywords and metrics\n",
    "df_thumbnail_keywords = df[thumbnail_keywords]\n",
    "\n",
    "# Make all metrics numeric\n",
    "for i in metrics:\n",
    "    df_thumbnail_keywords[i] = pd.to_numeric(df_thumbnail_keywords[i], errors='coerce')\n",
    "    \n",
    "# Drop NA Values in Keywords Column\n",
    "df_thumbnail_keywords['MaxThumbnailKeywords'].replace(' ', np.nan, inplace=True)\n",
    "df_thumbnail_keywords.dropna(subset=['MaxThumbnailKeywords'], inplace=True)\n",
    "\n",
    "# Add in a column to distinguish what portion the enrichment was happening \n",
    "df_thumbnail_keywords[\"Type\"] = \"Thumbnails\""
   ]
  },
  {
   "cell_type": "markdown",
   "metadata": {},
   "source": [
    "#### Post Keyword DataFrame "
   ]
  },
  {
   "cell_type": "code",
   "execution_count": 34,
   "metadata": {},
   "outputs": [],
   "source": [
    "# Create a list with only Thumbnail Keywords\n",
    "post_keywords = [\"Text\", \"MaxTextKeywords\"]\n",
    "\n",
    "# Append DataFrame with these metrics\n",
    "post_keywords.extend(metrics)\n",
    "\n",
    "# Create a new DataFrame with keywords and metrics\n",
    "df_post_keywords = df[post_keywords]\n",
    "\n",
    "# Make all metrics numeric\n",
    "for i in metrics:\n",
    "    df_post_keywords[i] = pd.to_numeric(df_post_keywords[i], errors='coerce')\n",
    "    \n",
    "# Drop NA Values in Keywords Column\n",
    "df_post_keywords['MaxTextKeywords'].replace(' ', np.nan, inplace=True)\n",
    "df_post_keywords.dropna(subset=['MaxTextKeywords'], inplace=True)\n",
    "\n",
    "# Add in a column to distinguish what portion the enrichment was happening \n",
    "df_post_keywords[\"Type\"] = \"Posts\""
   ]
  },
  {
   "cell_type": "markdown",
   "metadata": {},
   "source": [
    "#### Combine Post, Thumbnail, and Article DataFrames to Make One Keywords DataFrame"
   ]
  },
  {
   "cell_type": "code",
   "execution_count": 35,
   "metadata": {},
   "outputs": [],
   "source": [
    "# First make the column headers the same\n",
    "df_post_keywords.rename(columns={\"MaxTextKeywords\": \"Keywords\"}, inplace=True)\n",
    "df_thumbnail_keywords.rename(columns={\"MaxThumbnailKeywords\":\"Keywords\"}, inplace=True)\n",
    "df_article_keywords.rename(columns={\"MaxLinkKeywords\":\"Keywords\"}, inplace=True)\n",
    "\n",
    "# Combine into one data frame\n",
    "df_keywords = pd.concat([df_post_keywords, df_thumbnail_keywords, df_article_keywords])\n",
    "\n",
    "# Discard posts with lower total reach to make charting easier\n",
    "df_keywords = df_keywords[df_keywords[\"Lifetime Post Total Reach\"] > 20000]\n"
   ]
  },
  {
   "cell_type": "markdown",
   "metadata": {},
   "source": [
    "<a id='entity'></a>\n",
    "###  1.4 Create a Consolidated Entity DataFrame\n",
    "You'll create DataFrames for the entities of the article text, the thumbnail text, and the post text. Then you'll combine them into one DataFrame."
   ]
  },
  {
   "cell_type": "markdown",
   "metadata": {},
   "source": [
    "#### Article Entity DataFrame "
   ]
  },
  {
   "cell_type": "code",
   "execution_count": 36,
   "metadata": {},
   "outputs": [],
   "source": [
    "# Create a list with only Article Keywords\n",
    "article_entities = [\"Text\", \"MaxLinkEntity\"]\n",
    "\n",
    "# Append DataFrame with these metrics\n",
    "article_entities.extend(metrics)\n",
    "\n",
    "# Create a new DataFrame with keywords and metrics\n",
    "df_article_entities = df[article_entities]\n",
    "    \n",
    "# Make all metrics numeric\n",
    "for i in metrics:\n",
    "    df_article_entities[i] = pd.to_numeric(df_article_entities[i], errors='coerce')\n",
    "    \n",
    "# Drop NA Values in Keywords Column\n",
    "df_article_entities['MaxLinkEntity'] = df[\"MaxLinkEntity\"].replace(r'\\s+', np.nan, regex=True)\n",
    "df_article_entities.dropna(subset=['MaxLinkEntity'], inplace=True)\n",
    "\n",
    "# Add in a column to distinguish what portion the enrichment was happening \n",
    "df_article_entities[\"Type\"] = \"Article\""
   ]
  },
  {
   "cell_type": "markdown",
   "metadata": {},
   "source": [
    "#### Thumbnail Entity DataFrame"
   ]
  },
  {
   "cell_type": "code",
   "execution_count": 37,
   "metadata": {},
   "outputs": [],
   "source": [
    "# Create a list with only Thumbnail Keywords\n",
    "thumbnail_entities = [\"Text\", \"MaxThumbnailEntity\"]\n",
    "\n",
    "# Append DataFrame with these metrics\n",
    "thumbnail_entities.extend(metrics)\n",
    "\n",
    "# Create a new DataFrame with keywords and metrics\n",
    "df_thumbnail_entities = df[thumbnail_entities]\n",
    "\n",
    "# Make all metrics numeric\n",
    "for i in metrics:\n",
    "    df_thumbnail_entities[i] = pd.to_numeric(df_thumbnail_entities[i], errors='coerce')\n",
    "    \n",
    "# Drop NA Values in Keywords Column\n",
    "df_thumbnail_entities['MaxThumbnailEntity'] = df_thumbnail_entities['MaxThumbnailEntity'].replace(r'\\s+', np.nan, regex=True)\n",
    "df_thumbnail_entities.dropna(subset=['MaxThumbnailEntity'], inplace=True)\n",
    "\n",
    "# Add in a column to distinguish what portion the enrichment was happening \n",
    "df_thumbnail_entities[\"Type\"] = \"Thumbnails\""
   ]
  },
  {
   "cell_type": "markdown",
   "metadata": {},
   "source": [
    "#### Post Entity DataFrame"
   ]
  },
  {
   "cell_type": "code",
   "execution_count": 38,
   "metadata": {},
   "outputs": [],
   "source": [
    "# Create a list with only Thumbnail Keywords\n",
    "post_entities = [\"Text\", \"MaxTextEntity\"]\n",
    "\n",
    "# Append DataFrame with these metrics\n",
    "post_entities.extend(metrics)\n",
    "\n",
    "# Create a new DataFrame with keywords and metrics\n",
    "df_post_entities = df[post_entities]\n",
    "\n",
    "# Make all metrics numeric\n",
    "for i in metrics:\n",
    "    df_post_entities[i] = pd.to_numeric(df_post_entities[i], errors='coerce')\n",
    "    \n",
    "# Drop NA Values in Keywords Column\n",
    "df_post_entities['MaxTextEntity'] = df_post_entities['MaxTextEntity'].replace(r'\\s+', np.nan, regex=True)\n",
    "df_post_entities.dropna(subset=['MaxTextEntity'], inplace=True)\n",
    "\n",
    "# Add in a column to distinguish what portion the enrichment was happening \n",
    "df_post_entities[\"Type\"] = \"Posts\""
   ]
  },
  {
   "cell_type": "markdown",
   "metadata": {},
   "source": [
    "#### Combine Post, Thumbnail, and Article DataFrames to Make One Entity DataFrame"
   ]
  },
  {
   "cell_type": "code",
   "execution_count": 39,
   "metadata": {},
   "outputs": [],
   "source": [
    "# First make the column headers the same\n",
    "df_post_entities.rename(columns={\"MaxTextEntity\": \"Entities\"}, inplace=True)\n",
    "\n",
    "df_thumbnail_entities.rename(columns={\"MaxThumbnailEntity\":\"Entities\"}, inplace=True)\n",
    "\n",
    "df_article_entities.rename(columns={\"MaxLinkEntity\":\"Entities\"}, inplace=True)\n",
    "\n",
    "# Combine into one data frame\n",
    "df_entities = pd.concat([df_post_entities, df_thumbnail_entities, df_article_entities])\n",
    "\n",
    "df_entities[\"Entities\"] = df_entities[\"Entities\"].replace('', np.nan)\n",
    "df_entities.dropna(subset=[\"Entities\"], inplace=True)"
   ]
  },
  {
   "cell_type": "markdown",
   "metadata": {},
   "source": [
    "<a id='image_dataframe'></a>\n",
    "###  1.5 Create a Consolidated Image DataFrame"
   ]
  },
  {
   "cell_type": "markdown",
   "metadata": {},
   "source": [
    "#### Combine Metrics with Type Hierarchy, Class and Color to Make One Image DataFrame"
   ]
  },
  {
   "cell_type": "code",
   "execution_count": 40,
   "metadata": {},
   "outputs": [],
   "source": [
    "# Create a list with only Visual Recognition columns\n",
    "pic_keywords = ['Image Type', 'Image Subtype', 'Image Subtype2', 'Image Class', 'Image Color']\n",
    "\n",
    "# Append DataFrame with these metrics\n",
    "pic_keywords.extend(metrics)\n",
    "\n",
    "# Create a new DataFrame with keywords and metrics\n",
    "df_pic_keywords = df[pic_keywords]\n",
    "\n",
    "# Make all metrics numeric\n",
    "for i in metrics:\n",
    "    df_pic_keywords[i] = pd.to_numeric(df_pic_keywords[i], errors='coerce')\n",
    "\n",
    "# Discard posts with lower total reach to make charting easier\n",
    "df_pic_keywords = df_pic_keywords[df_pic_keywords[\"Lifetime Post Total Reach\"] > 15000]"
   ]
  },
  {
   "cell_type": "markdown",
   "metadata": {},
   "source": [
    "<a id=\"part3\"></a> \n",
    "# Part III\n",
    "<a id='2setup'></a> \n",
    "## 1. Setup\n",
    "<a id='2setup2'></a>\n",
    "###  1.1 Assign Variables\n",
    "Assign new DataFrames to variables. "
   ]
  },
  {
   "cell_type": "code",
   "execution_count": 41,
   "metadata": {},
   "outputs": [],
   "source": [
    "entities = df_entities\n",
    "tones = df_tones\n",
    "keywords = df_keywords"
   ]
  },
  {
   "cell_type": "markdown",
   "metadata": {},
   "source": [
    "<a id='2visual'></a>\n",
    "##  2. Visualize Data\n",
    "<a id='2visual1'></a> \n",
    "### 2.1 Run PixieDust Visualization Library with Display() API\n",
    "PixieDust lets you visualize your data in just a few clicks using the display() API. You can find more info at https://pixiedust.github.io/pixiedust/displayapi.html."
   ]
  },
  {
   "cell_type": "markdown",
   "metadata": {},
   "source": [
    "#### We can use a pie chart to identify how post consumption was broken up by tone. \n",
    "\n",
    "Click on the `Options` button to change the chart.  Here are some things to try:\n",
    "* Add *Type* to make the breakdown show *Post* or *Article*.\n",
    "* Show *Social Tone* intead of *Emotion Tone* (or both).\n",
    "* Try a different metric."
   ]
  },
  {
   "cell_type": "code",
   "execution_count": 42,
   "metadata": {},
   "outputs": [
    {
     "name": "stdout",
     "output_type": "stream",
     "text": [
      "Pixiedust database opened successfully\n"
     ]
    },
    {
     "data": {
      "text/html": [
       "\n",
       "        <div style=\"margin:10px\">\n",
       "            <a href=\"https://github.com/ibm-watson-data-lab/pixiedust\" target=\"_new\">\n",
       "                <img src=\"https://github.com/ibm-watson-data-lab/pixiedust/raw/master/docs/_static/pd_icon32.png\" style=\"float:left;margin-right:10px\"/>\n",
       "            </a>\n",
       "            <span>Pixiedust version 1.1.14</span>\n",
       "        </div>\n",
       "        "
      ],
      "text/plain": [
       "<IPython.core.display.HTML object>"
      ]
     },
     "metadata": {},
     "output_type": "display_data"
    },
    {
     "data": {
      "text/html": [
       "<div>Warning: You are not running the latest version of PixieDust. Current is 1.1.14, Latest is 1.1.17</div>"
      ],
      "text/plain": [
       "<IPython.core.display.HTML object>"
      ]
     },
     "metadata": {},
     "output_type": "display_data"
    },
    {
     "data": {
      "text/html": [
       "\n",
       "                <div>Please copy and run the following command in a new cell to upgrade: <span style=\"background-color:#ececec;font-family:monospace;padding:0 5px\">!pip install --user --upgrade pixiedust</span></div>\n",
       "            "
      ],
      "text/plain": [
       "<IPython.core.display.HTML object>"
      ]
     },
     "metadata": {},
     "output_type": "display_data"
    },
    {
     "data": {
      "text/html": [
       "<div>Please restart kernel after upgrading.</div>"
      ],
      "text/plain": [
       "<IPython.core.display.HTML object>"
      ]
     },
     "metadata": {},
     "output_type": "display_data"
    }
   ],
   "source": [
    "import pixiedust"
   ]
  },
  {
   "cell_type": "code",
   "execution_count": null,
   "metadata": {
    "pixiedust": {
     "displayParams": {
      "aggregation": "SUM",
      "chartsize": "70",
      "handlerId": "barChart",
      "keyFields": "Emotion Tone",
      "legend": "false",
      "mpld3": "false",
      "rendererId": "matplotlib",
      "rowCount": "100",
      "title": "Tone in Posts and Articles",
      "valueFields": "Lifetime Post Consumptions",
      "ylabel": "true"
     }
    }
   },
   "outputs": [
    {
     "data": {
      "text/html": [
       "<style type=\"text/css\">.pd_warning{display:none;}</style><div class=\"pd_warning\"><em>Hey, there's something awesome here! To see it, open this notebook outside GitHub, in a viewer like Jupyter</em></div>\n",
       "        <div class=\"pd_save is-viewer-good\" style=\"padding-right:10px;text-align: center;line-height:initial !important;font-size: xx-large;font-weight: 500;color: coral;\">\n",
       "            Tone in Posts and Articles\n",
       "        </div>\n",
       "    <div id=\"chartFigure89222c4d\" class=\"pd_save is-viewer-good\" style=\"overflow-x:auto\">\n",
       "            \n",
       "                    \n",
       "                            <center><img style=\"max-width:initial !important\" src=\"data:image/png;base64,iVBORw0KGgoAAAANSUhEUgAAAoMAAAGiCAYAAACcdsyAAAAABHNCSVQICAgIfAhkiAAAAAlwSFlzAAAOwwAADsMBx2+oZAAAADl0RVh0U29mdHdhcmUAbWF0cGxvdGxpYiB2ZXJzaW9uIDMuMC4yLCBodHRwOi8vbWF0cGxvdGxpYi5vcmcvOIA7rQAAIABJREFUeJzt3XtYVWWix/Hf5iKygfHCNbQksLwWJipdBi9AFzM5lpmllsjkmE6l1sw4ZYmWNFZ2hic9do5Opk1jaWneiCnz2kyGUgPRRU3FsZmTsMWMiJ1tZJ0/Oq7TPohuEQR9v5/nWc/j3u/aa73LdvRtrb0XDsuyLAEAAMBIfs09AQAAADQfYhAAAMBgxCAAAIDBiEEAAACDEYMAAAAGIwYBAAAMFtDcEziV2tpaHT16VK1bt5bD4Wju6QAAAJxXLMvS999/r7Zt28rP7+TnAFt0DB49elTh4eHNPQ0AAIDzWkVFhdq3b3/SsRYdg61bt5b04wEEBwc382wAAADOL263W+Hh4XZTnUyLjsETl4aDg4OJQQAAgAY61cft+AIJAACAwYhBAAAAgxGDAAAABiMGAQAADEYMAgAAGIwYBAAAMBgxCAAAYDBiEAAAwGDEIAAAgMGIQQAAAIMRgwAAAAYjBgEAAAxGDAIAABiMGAQAADBYQHNP4HzkcMxq7imcFywru7mnAAAAToMzgwAAAAYjBgEAAAxGDAIAABiMGAQAADAYMQgAAGAwYhAAAMBgxCAAAIDB6o3BOXPmqGvXrnI6nQoPD1dGRob27NljjzscjjpLUVFRnW3ExsbK6XQqIyNDhw4darojAQAAwBmrNwYTEhI0f/58ffrpp9q0aZP8/f01ZMgQr3VWrFihr776yl569uxpj7300kuaPXu25s+fr/fff1+VlZUaOXJk0x0JAAAAzpjDsizLlxVLSkp05ZVX6tChQ4qOjpbD4dCGDRuUnp5+0vV79+6twYMHKycnR5K0f/9+JSQk6O9//7t69erl0+TcbrecTqeqq6sVHBzs4yE1PX4DiW/4DSQAADQvX1rKp88Mut1uLVmyRF26dFFkZKT9fGZmpqKiopSSkqK8vDz7+WPHjqm4uFipqan2c/Hx8YqLi1NBQUFDjwcAAACN7JQxuH79eoWGhiokJER5eXnKz8+Xn9+PL8nJydHKlSuVn5+vAQMGaOjQoXr33XclSRUVFaqtrVVUVJTX9iIjI1VeXl7v/jwej9xut9cCAACApnPKGBw0aJCKioq0bds2devWTXfddZc8Ho8k6dFHH1VycrKSkpI0e/ZsjRkzRrm5uZIkH68815GTkyOn02kv4eHhDdoOAAAAfHPKGAwJCVHnzp3185//XMuXL1dJSYny8/NPum5SUpJKS0slSREREfLz86tzFtDlctU5W/hT06dPV3V1tb1UVFSc6fEAAADgDJzRfQYty1JAQMBJx4qLixUXFydJCgoKUmJiojZv3myPl5aW6sCBA0pOTq53+4GBgQoODvZaAAAA0HROXnaSpk2bpmHDhik2NlZlZWWaM2eOIiIidN1112n9+vVyuVxKTk5WQECAVq1apaVLl2r9+vX26++//35NnjxZSUlJio+P19SpU5WSkuLzN4kBAADQ9OqNwYMHD2rEiBFyuVyKjIxUSkqKNm7cqDZt2iggIEC5ubnat2+f/Pz81K1bN61cuVKDBw+2X5+VlaWysjJNmjRJR48eVXp6uhYtWnRODgoAAAC+8fk+g82B+wye37jPIAAAzavR7jMIAACACxMxCAAAYDBiEAAAwGDEIAAAgMGIQQAAAIMRgwAAAAYjBgEAAAxGDAIAABiMGAQAADAYMQgAAGAwYhAAAMBgxCAAAIDBiEEAAACDEYMAAAAGIwYBAAAMRgwCAAAYjBgEAAAwGDEIAABgMGIQAADAYMQgAACAwYhBAAAAgxGDAAAABiMGAQAADEYMAgAAGIwYBAAAMBgxCAAAYDBiEAAAwGDEIAAAgMGIQQAAAIMRgwAAAAYjBgEAAAxGDAIAABiMGAQAADAYMQgAAGAwYhAAAMBgxCAAAIDBiEEAAACD1RuDc+bMUdeuXeV0OhUeHq6MjAzt2bPHHt+zZ48GDRqk4OBgxcXFafHixV6vr6mp0UMPPaSIiAiFhYVp7NixqqqqarojAQAAwBmrNwYTEhI0f/58ffrpp9q0aZP8/f01ZMgQSZLH49GQIUMUERGhnTt36vHHH9eECRO0ceNG+/VPPvmkli1bpuXLl2vjxo0qLCzUpEmTmv6IAAAA4DOHZVmWLyuWlJToyiuv1KFDh1RQUKA77rhDLpdLYWFhkqR77rlHlZWVWr16tWpraxUdHa2nnnpK48ePlyRt2rRJN9xwg8rKyhQeHu7T5Nxut5xOp6qrqxUcHNzAQ2x8Dses5p7CecGyspt7CgAAGM2XlvLpM4Nut1tLlixRly5dFBkZqR07dqhv3752CEpSWlqaCgoKJEn79+/X4cOHlZqaao8PGDBAklRYWFjvfjwej9xut9cCAACApnPKGFy/fr1CQ0MVEhKivLw85efny8/PT+Xl5YqKivJaNzIyUi6XS5JUXl4uSV7r+Pv7q3379vbYyeTk5MjpdNqLr2cQAQAA0DCnjMFBgwapqKhI27ZtU7du3XTXXXfJ4/HodFeWfbzyXMf06dNVXV1tLxUVFQ3aDgAAAHwTcKrBkJAQde7cWZ07d1a/fv3Url075efnKzo6Wrt27fJa1+VyKTIyUpIUHR0t6cczhCcuJR8/flxHjhypc0bxpwIDAxUYGHhWBwQAAADfndF9Bi3LUkBAgPr166fCwkKvW8Vs2rRJycnJkqT4+HhFRERo8+bN9vi2bdskSX369GmMeQMAAKAR1HtmcNq0aRo2bJhiY2NVVlamOXPmKCIiQtddd52Cg4PVoUMHZWVlKTs7WwUFBXr11VeVn58vSfLz89PEiRM1Y8YMxcfHKzQ0VA8++KBGjRrF5wABAABakHpj8ODBgxoxYoR9+TclJUUbN25UmzZtJEl5eXmaMGGCkpKSFB0drRdeeEFpaWn262fMmKGqqiqNGDFCP/zwg2699VYtWLCg6Y8IAAAAPvP5PoPNgfsMnt+4zyAAAM2r0e4zCAAAgAsTMQgAAGAwYhAAAMBgxCAAAIDBiEEAAACDEYMAAAAGIwYBAAAMRgwCAAAYjBgEAAAwGDEIAABgMGIQAADAYMQgAACAwYhBAAAAgxGDAAAABiMGAQAADEYMAgAAGIwYBAAAMBgxCAAAYDBiEAAAwGDEIAAAgMGIQQAAAIMRgwAAAAYjBgEAAAxGDAIAABiMGAQAADAYMQgAAGAwYhAAAMBgxCAAAIDBiEEAAACDEYMAAAAGIwYBAAAMRgwCAAAYjBgEAAAwGDEIAABgMGIQAADAYMQgAACAweqNwaeeekq9e/dWaGioLrroIo0bN04ul8trHYfDUWcpKiryWmfOnDmKjY2V0+lURkaGDh061DRHAgAAgDNWbwz+9a9/1UMPPaTCwkKtWbNGn332mUaOHFlnvRUrVuirr76yl549e9pjL730kmbPnq358+fr/fffV2Vl5Um3AQAAgOYRUN/AW2+95fU4NzdX1157rb755hu1adPGfr5du3aKiYk56TbmzZunyZMn67bbbpMkLV68WAkJCSoqKlKvXr0aY/4AAAA4Cz5/ZvDw4cNq3bq1QkJCvJ7PzMxUVFSUUlJSlJeXZz9/7NgxFRcXKzU11X4uPj5ecXFxKigoaISpAwAA4GzVe2bwp44dO6YnnnhCY8eOVUDA/70kJydHaWlpCggI0JtvvqmhQ4fqnXfeUXp6uioqKlRbW6uoqCivbUVGRqq8vPyk+/F4PKqpqbEfu93uhhwTAAAAfHTaGDx+/LjGjBkjSZo7d67X2KOPPmr/OSkpSQcPHlRubq7S09NlWdYZTyYnJ0ezZs0649cBAACgYU55mbi2tlaZmZnatWuX3n77bYWGhp5yY0lJSSotLZUkRUREyM/Pr85ZQJfLVeds4QnTp09XdXW1vVRUVJzJsQAAAOAM1RuDlmXp3nvv1QcffKANGzaoffv2p91YcXGx4uLiJElBQUFKTEzU5s2b7fHS0lIdOHBAycnJJ319YGCggoODvRYAAAA0nXovE993331at26d/aWQE/cHjIyMlL+/v9avXy+Xy6Xk5GQFBARo1apVWrp0qdavX29v4/7779fkyZOVlJSk+Ph4TZ06VSkpKXyTGAAAoIWoNwYXLlwoSXXO4pWWliouLk4BAQHKzc3Vvn375Ofnp27dumnlypUaPHiwvW5WVpbKyso0adIkHT16VOnp6Vq0aFETHQoAAADOlMNqyDc9zhG32y2n06nq6uoWdcnY4eBLLr6wrOzmngIAAEbzpaX43cQAAAAGIwYBAAAMRgwCAAAYjBgEAAAwGDEIAABgMGIQAADAYMQgAACAwYhBAAAAgxGDAAAABiMGAQAADEYMAgAAGIwYBAAAMBgxCAAAYDBiEAAAwGDEIAAAgMGIQQAAAIMRgwAAAAYjBgEAAAxGDAIAABiMGAQAADAYMQgAAGCwgOaeAACgcTkcs5p7CucNy8pu7ikAzY4zgwAAAAYjBgEAAAxGDAIAABiMGAQAADAYMQgAAGAwYhAAAMBgxCAAAIDBiEEAAACDEYMAAAAGIwYBAAAMRgwCAAAYjBgEAAAwGDEIAABgMGIQAADAYMQgAACAweqNwaeeekq9e/dWaGioLrroIo0bN04ul8trnT179mjQoEEKDg5WXFycFi9e7DVeU1Ojhx56SBEREQoLC9PYsWNVVVXVNEcCAACAM1ZvDP71r3/VQw89pMLCQq1Zs0afffaZRo4caY97PB4NGTJEERER2rlzpx5//HFNmDBBGzdutNd58skntWzZMi1fvlwbN25UYWGhJk2a1LRHBAAAAJ85LMuyfFlx+/btuvbaa3X06FG1adNGa9eu1R133CGXy6WwsDBJ0j333KPKykqtXr1atbW1io6O1lNPPaXx48dLkjZt2qQbbrhBZWVlCg8PP+0+3W63nE6nqqurFRwcfBaH2bgcjlnNPYXzgmVlN/cUACPxM8p3/JzChc6XlvL5M4OHDx9W69atFRISIknasWOH+vbta4egJKWlpamgoECStH//fh0+fFipqan2+IABAyRJhYWFJ92Hx+OR2+32WgAAANB0fIrBY8eO6YknntDYsWMVEBAgSSovL1dUVJTXepGRkfbnCsvLyyXJax1/f3+1b9/eHvv/cnJy5HQ67cWXs4cAAABouNPG4PHjxzVmzBhJ0ty5c+3nT3d12cerz16mT5+u6upqe6moqDjjbQAAAMB3AacarK2tVWZmpnbt2qWtW7cqNDTUHouOjtauXbu81ne5XIqMjLTHpR/PEJ64lHz8+HEdOXKkzhnFEwIDAxUYGNjwowEAAMAZqffMoGVZuvfee/XBBx9ow4YNat++vdd4v379VFhY6HWrmE2bNik5OVmSFB8fr4iICG3evNke37ZtmySpT58+jXoQAAAAaJh6zwzed999WrdunfLy8iRJhw4dkvTj5wL9/f110003qUOHDsrKylJ2drYKCgr06quvKj8/X5Lk5+eniRMnasaMGYqPj1doaKgefPBBjRo1is8CAgAAtBD1xuDChQslyT7Td0Jpaani4uLUqlUr5eXlacKECUpKSlJ0dLReeOEFpaWl2evOmDFDVVVVGjFihH744QfdeuutWrBgQRMdCgAAAM6Uz/cZbA7cZ/D8xv27gObBzyjf8XMKF7pGvc8gAAAALjzEIAAAgMGIQQAAAIMRgwAAAAYjBgEAAAxGDAIAABiMGAQAADAYMQgAAGAwYhAAAMBgxCAAAIDBiEEAAACDEYMAAAAGIwYBAAAMRgwCAAAYjBgEAAAwGDEIAABgMGIQAADAYMQgAACAwYhBAAAAgxGDAAAABiMGAQAADEYMAgAAGIwYBAAAMBgxCAAAYDBiEAAAwGDEIAAAgMGIQQAAAIMRgwAAAAYjBgEAAAxGDAIAABiMGAQAADAYMQgAAGAwYhAAAMBgxCAAAIDBiEEAAACDEYMAAAAGIwYBAAAMVm8Mrlq1SmlpaWrTpo0cDodqamq8xh0OR52lqKjIa505c+YoNjZWTqdTGRkZOnToUNMcBQAAABqk3hisrq5Wamqqfve739X74hUrVuirr76yl549e9pjL730kmbPnq358+fr/fffV2VlpUaOHNm4swcAAMBZCahvYMyYMZKkLVu21Pvidu3aKSYm5qRj8+bN0+TJk3XbbbdJkhYvXqyEhAQVFRWpV69eZzFlAAAANJaz+sxgZmamoqKilJKSory8PPv5Y8eOqbi4WKmpqfZz8fHxiouLU0FBQb3b83g8crvdXgsAAACaToNjMCcnRytXrlR+fr4GDBigoUOH6t1335UkVVRUqLa2VlFRUV6viYyMVHl5+Sm36XQ67SU8PLyh0wMAAIAP6r1MfDqPPvqo/eekpCQdPHhQubm5Sk9Pl2VZDdrm9OnTNW3aNPux2+0mCAEAAJpQo91aJikpSaWlpZKkiIgI+fn51TkL6HK56pwt/KnAwEAFBwd7LQAAAGg6jRaDxcXFiouLkyQFBQUpMTFRmzdvtsdLS0t14MABJScnN9YuAQAAcJbqvUx85MgRHTx4UHv37pX0Y+z5+/urc+fO2rJli1wul5KTkxUQEKBVq1Zp6dKlWr9+vf36+++/X5MnT1ZSUpLi4+M1depUpaSk8E1iAACAFqTeGFy7dq3GjRtnP+7Tp48kafPmzQoICFBubq727dsnPz8/devWTStXrtTgwYPt9bOyslRWVqZJkybp6NGjSk9P16JFi5rwUAAAAHCmHFZDv+1xDrjdbjmdTlVXV7eozw86HLOaewrnBcvKbu4pAEbiZ5Tv+DmFC50vLcXvJgYAADAYMQgAAGAwYhAAAMBgxCAAAIDBiEEAAACDEYMAAAAGIwYBAAAMRgwCAAAYjBgEAAAwGDEIAABgMGIQAADAYMQgAACAwYhBAAAAgxGDAAAABiMGAQAADEYMAgAAGIwYBAAAMBgxCAAAYDBiEAAAwGDEIAAAgMGIQQAAAIMRgwAAAAYjBgEAAAxGDAIAABiMGAQAADAYMQgAAGAwYhAAAMBgxCAAAIDBiEEAAACDEYMAAAAGIwYBAAAMRgwCAAAYjBgEAAAwGDEIAABgMGIQAADAYMQgAACAweqNwVWrViktLU1t2rSRw+FQTU2N1/iePXs0aNAgBQcHKy4uTosXL/Yar6mp0UMPPaSIiAiFhYVp7NixqqqqapqjAAAAQIPUG4PV1dVKTU3V7373uzpjHo9HQ4YMUUREhHbu3KnHH39cEyZM0MaNG+11nnzySS1btkzLly/Xxo0bVVhYqEmTJjXNUQAAAKBBHJZlWadaYcuWLRo0aJA8Ho8CAgIkSWvXrtUdd9whl8ulsLAwSdI999yjyspKrV69WrW1tYqOjtZTTz2l8ePHS5I2bdqkG264QWVlZQoPD/dpcm63W06nU9XV1QoODj6b42xUDses5p7CecGyspt7CoCR+BnlO35O4ULnS0s16DODO3bsUN++fe0QlKS0tDQVFBRIkvbv36/Dhw8rNTXVHh8wYIAkqbCwsN7tejweud1urwUAAABNp0ExWF5erqioKK/nIiMj5XK57HFJXuv4+/urffv29tjJ5OTkyOl02ouvZxABAADQMA2KwdNcWT7teH2mT5+u6upqe6moqGjQdgAAAOCbBsVgdHR0nTN8LpdLkZGR9rgkr3WOHz+uI0eO1Dmj+FOBgYEKDg72WgAAANB0GhSD/fr1U2FhodetYjZt2qTk5GRJUnx8vCIiIrR582Z7fNu2bZKkPn36nM18AQAA0IgC6hs4cuSIDh48qL1790qSiouL5e/vr86dO+umm25Shw4dlJWVpezsbBUUFOjVV19Vfn6+JMnPz08TJ07UjBkzFB8fr9DQUD344IMaNWoUnwMEAABoQeqNwbVr12rcuHH24xNn9DZv3qyBAwcqLy9PEyZMUFJSkqKjo/XCCy8oLS3NXn/GjBmqqqrSiBEj9MMPP+jWW2/VggULmvBQAAAAcKZOe5/B5sR9Bs9v3L8LaB78jPIdP6dwoWuy+wwCAADgwkAMAgAAGIwYBAAAMBgxCAAAYDBiEAAAwGDEIAAAgMGIQQAAAIMRgwAAAAYjBgEAAAxGDAIAABiMGAQAADAYMQgAAGAwYhAAAMBgxCAAAIDBiEEAAACDEYMAAAAGIwYBAAAMRgwCAAAYjBgEAAAwGDEIAABgMGIQAADAYMQgAACAwYhBAAAAgxGDAAAABiMGAQAADEYMAgAAGIwYBAAAMBgxCAAAYDBiEAAAwGDEIAAAgMGIQQAAAIMRgwAAAAYjBgEAAAxGDAIAABiMGAQAADAYMQgAAGAwYhAAAMBgDY7BmTNnyuFweC3Dhg2zx/fs2aNBgwYpODhYcXFxWrx4caNMGAAAAI0n4Gxe3K9fP61Zs8Z+3Lp1a0mSx+PRkCFD1KtXL+3cuVMFBQWaMGGCOnXqpLS0tLObMQAAABrNWcVgYGCgYmJi6jyfn5+vL7/8Uh999JHCwsLUs2dPbd26VfPmzSMGAQAAWpCz+sxgcXGxYmJidPnll+tXv/qVvv76a0nSjh071LdvX4WFhdnrpqWlqaCg4JTb83g8crvdXgsAAACaToNj8Oqrr9bLL7+sDRs26LnnntPWrVv1b//2b7IsS+Xl5YqKivJaPzIyUi6X65TbzMnJkdPptJfw8PCGTg8AAAA+aPBl4ptuusn+8xVXXKHu3burc+fO+vDDD2VZVoO2OX36dE2bNs1+7Ha7CUIAAIAmdFafGfyphIQEtW3bVqWlpYqOjtauXbu8xl0ulyIjI0+5jcDAQAUGBjbWlAAAAHAajXafwYMHD+ro0aOKi4tTv379VFhYqKqqKnt806ZNSk5ObqzdAQAAoBE0+Mzgb3/7W2VkZKhjx44qLS3Vb37zG11zzTVKSkpSTU2NOnTooKysLGVnZ6ugoECvvvqq8vPzG3PuAAAAOEsNjsF//OMfGjFihCoqKhQbG6sbb7xRs2fPlp+fn1q1aqW8vDxNmDBBSUlJio6O1gsvvMBtZQAAAFqYBsfg8uXLTznepUsXbdmypaGbBwAAwDnA7yYGAAAwGDEIAABgMGIQAADAYMQgAACAwYhBAAAAgxGDAAAABiMGAQAADEYMAgAAGIwYBAAAMBgxCAAAYDBiEAAAwGDEIAAAgMGIQQAAAIMRgwAAAAYjBgEAAAxGDAIAABiMGAQAADAYMQgAAGAwYhAAAMBgxCAAAIDBiEEAAACDEYMAAAAGIwYBAAAMFtDcEwAAAC2bwzGruadw3rCs7OaewhnjzCAAAIDBiEEAAACDEYMAAAAGIwYBAAAMRgwCAAAYjBgEAAAwGDEIAABgMGIQAADAYMQgAACAwYhBAAAAgxGDAAAABiMGAQAADHZOYnDOnDmKjY2V0+lURkaGDh06dC52CwAAgNNo8hh86aWXNHv2bM2fP1/vv/++KisrNXLkyKbeLQAAAHwQ0NQ7mDdvniZPnqzbbrtNkrR48WIlJCSoqKhIvXr1aurdAwAA4BSaNAaPHTum4uJiPfvss/Zz8fHxiouLU0FBATEI/C+HY1ZzT+G8YFnZzT0FALjgNGkMVlRUqLa2VlFRUV7PR0ZGqry8vM76Ho9HNTU19uPq6mpJktvtbsppNoCnuSdwXmh5/9xaMt5TvuA95SveT77iPeUr3lO+amnvqRPzsSyr3nWaNAZPteOTycnJ0axZdc+QhIeHN9aUcA45nTnNPQVcYHhPobHxnkJja6nvqe+//15Op/OkY00agxEREfLz86tzFtDlctU5WyhJ06dP17Rp0+zHtbW1qqqqUlhYmBwOR1NO9bzmdrsVHh6uiooKBQcHN/d0cAHgPYXGxnsKjYn3k+8sy9L333+vtm3b1rtOk8ZgUFCQEhMTtXnzZqWlpUmSSktLdeDAASUnJ9dZPzAwUIGBgV7PhYSENOUULyjBwcH8S4FGxXsKjY33FBoT7yff1HdG8IQm/zbx/fffr8mTJyspKUnx8fGaOnWqUlJS+PIIAABAC9DkMZiVlaWysjJNmjRJR48eVXp6uhYtWtTUuwUAAIAPmjwGJemRRx7RI488ci52ZaSAgABlZ2crIOCc/OOEAXhPobHxnkJj4v3UuBzWmX7lFwAAABeMc/K7iQEAANAyEYMAAAAGIwYBAECL9cc//lFxcXHNPY0LGjEIXOAGDhwoh8PhtVx99dXNPS1cYDIzMzVmzJjmngZagK+++krjxo1Thw4d1Lp1a11yySUaMWLESX8NLVoGvoYDGGDKlClev92nVatWTbKfH374ocm2DeD8MHz4cAUFBen1119XbGys/vGPf2jt2rX67rvvmntqqAdnBgEDhISEKCYmxl7at28vSfroo480cOBABQcHKy4uTtnZ2aqpqbFfN2XKFMXHx8vpdKpHjx5avny513bj4uL09NNPa/jw4XI6nXr++efP6XGhZfruu+907733ql27dgoNDdXw4cNVVlYmSXrttdcUGxur48eP2+tblqVOnTppyZIlzTRjNJajR49q+/btmjt3rq699lrFxcVpwIABeu6553TppZeqrKxMt99+u2JiYhQWFqb+/furqKjIaxtbtmxRt27dFBwcrFtuuUUVFRVe4yfOQj/22GNq3769YmNj9e///u9e6+zfv19Dhw5VaGioYmNjdf/996u6utoez83N1aWXXqqgoCB17NhRM2fOlPTje/GRRx6xz2rGx8frv/7rv5rmL6sFIQYBQ1VUVOj666/XzTffrJKSEi1ZskTLli3Tc889Z68THh6u1157TZ988okeeOAB3X333SopKfHazjPPPKObbrpJn3zyie68885zfRhogaZOnaqtW7dqzZo12rZtm/71r3/p7rvvliQNGzZMbrdb7777rr3+1q1bdfjwYQ0fPry5poxGEhISopCQEK1Zs8brfyxPcLvd6t+/vzZs2KAPP/xQ3bt3V0ZGhr7//ntJ0jfffKNbb71VgwYN0t///nfdcsstmjNnTp3trF3vqyqMAAAMv0lEQVS7Vh6PRx988IFmzpyphx9+WB9//LGkH69Q3Hjjjbrsssv04Ycfas2aNdq5c6cefvhhSdLOnTuVnZ2t//zP/9QXX3yhFStWqHPnzpKk119/XcuWLdOKFSu0e/duvfjii4qOjm6qv66WwwJwQRswYIAVGBhohYSE2Msrr7xizZo1yxo+fLjXun/+85+thISEerd14403WrNmzbIfd+rUycrMzGyyueP8MXbsWGv06NFWZWWlFRAQYOXl5dljn3/+uSXJ+uSTTyzLsqwJEyZYo0aNssfHjRtnjR49+pzPGU1j2bJlVlhYmBUaGmqlpqZaOTk51j//+c+TrltTU2OFhIRYW7dutSzLshYsWGB16NDB8ng89jojR460OnXqZD8eO3as1b17d6/tXH755da8efMsy7KspUuXWklJSV7jf/vb36xWrVpZNTU11htvvGFdfvnlXvs4Ye7cuVZaWppVW1vboGM/X3FmEDDA+PHjVVRUZC8ZGRkqKSnR2rVrFRoaai+/+MUvdODAAdXW1kqSli5dqj59+igiIkKhoaHauHGjvvzyS69tX3XVVc1xSGih9u/fr5qaGq8vKXXt2lVt27bV7t27Jf14mW/16tX69ttv5Xa7tXLlSt1zzz3NNWU0srvuukv//d//rT//+c/q27evlixZou7du6u4uFgej0ePPvqounXrprZt26pNmzaqrq62f67s3r1bvXv39vrNIv369auzj549e3o9jomJsb+gUlJSouLiYq+fbddff71++OEH/etf/1J6erocDocSEhJ03333KS8vT9b//v6N4cOH67PPPlO3bt3sM9wm4AskgAHatWtnXwY5oaqqSnfeeadmzJhRZ30/Pz+99957Gj9+vJ599ln1799fYWFheuCBB+TxeLzWdTqdTTp3nF8sH36p1dVXX61LLrlEK1euVFBQkMLCwpSenn4OZodzJTQ0VBkZGcrIyNCTTz6pq666Ss8995wuv/xyLV26VM8//7y6dOmi1q1bq1+/fvbPFcuy5HA4Trv9wMBAr8cOh8P+n9iqqir179//pJ/1u+iiixQYGKiPP/5Y7777rv7yl78oKytLycnJWrt2reLi4vTFF18oPz9fb7/9toYOHaqxY8dq3rx5jfC30nIRg4ChEhMT9e6779aJxBMKCgrUvXt3TZ48WZJUW1urffv2mfH5GTRYQkKCAgIC9MEHH+jmm2+WJO3atUtHjx5V165d7fUyMzP1pz/9SUFBQRo9erT8/LhQdaEKDAxUfHy8vvvuO33wwQcaMWKE/fnQL7/8Ul9//bW9bpcuXbRq1SodP35c/v7+kn78jN+ZSExM1Nq1a9WxY0e1bt36pOu0atVKN998s26++WaNGTNGycnJKi8vV1RUlEJCQnT77bfr9ttv1/XXX6/MzMwLPgb5tw8w1K9+9Svt27dP48ePV3FxsXbv3q0VK1Zo9uzZkn78j/ru3bu1fv167d69Ww888IAOHTrUzLNGSxcWFqasrCxNmTJF7733nj766CNlZmbq+uuvV/fu3e317r77br333nt65513uER8ASkrK9MNN9yg5cuX67PPPtMXX3yhP/zhD3rrrbc0dOhQJSQk6C9/+Ys++ugjffTRRxo7dqxXsI0aNUqVlZWaPHmydu/erYULF+rtt98+ozmMHj1arVq10siRI7Vz507t3btX69at069//WtJ0vr16/Uf//EfKikp0f79+7V8+XJFREQoPDxcS5cu1ZIlS/T5559rz549Wr16tbp06dKof0ctETEIGOriiy/Wtm3b9OWXX+q6665T3759NXfuXF1yySWSfvzW5/jx43X33Xfr2muvVVhYmIYOHdrMs0ZLVVtba3/O67nnnlNKSoqGDh2q/v37q0OHDvrTn/7ktX5sbKxSU1OVmJioHj16NMeU0QR+9rOfqVevXvr973+vq6++WklJSXr55Ze1YMECZWZm6rHHHtOll16qn//85xo+fLh++ctfKjw83H5927Zt9eabb2rDhg1KTEzUm2++qd/+9rdnNIewsDBt2bJFrVq10vXXX6/ExEQ99thjuuiii+x9LF++XCkpKbryyiu1Y8cOrV+/Xv7+/mrTpo0WLFigfv36qV+/fjpy5Ihee+21Rv07aokcli8f8AAA4BQGDx6sK6+8Uk8//bTPr0lMTNQvfvELPfjgg004MwCnw5lBAECDffPNN8rPz9eWLVs0aNAgn15z5MgRLVy4UHv37uUSMdAC8AUSAECDTZkyRW+//bYefvhh3XjjjT69pnfv3qqsrNSCBQvUtm3bJp4hgNPhMjEAAIDBuEwMAABgMGIQAADAYMQgAACAwYhBAAAAgxGDAHAScXFx+uMf/9jc0wCAJkcMAmgxBg4cKIfDUWdpyt8AsHfvXjkcDh04cMDr+Z07d2r06NFNss+ZM2ee9DhPLAMHDmyS/QLAyXBrGQAtxsCBA3XVVVdp2rRpXs+3bdu23l84f7b27t2ryy67TKWlpYqLi2uSffx/VVVVqqqqkiQdP35cHTt21MqVK3XttddKklq1aqX27dufk7kAAGcGAbQoISEhiomJ8VpOhOCSJUvUsWNHvfbaa7r00ksVGhqqBx54QMePH9fjjz+u8PBwdezYUa+88orXNvPz83XFFVcoKChInTt31ssvv2yPXXbZZZKkSy+9VA6HQzNnzpRU9zLxjh07dM011ygoKEgXX3yxnnnmGa99OBwOLVmyROnp6XI6nUpKStLHH3980mMMDQ21jy06OlqS1L59e/u5EyH4+eefKzU1Va1bt1ZMTIweffRR1dbW2tuJiYnR888/r2HDhsnpdKpHjx5677336hx779691bp1a3Xp0kWLFi3y+Z8FADMQgwDOKxUVFVq2bJnWrVun5cuXa+HChRo8eLBqa2u1fft2TZw4UePHj5fL5ZIkHThwQMOGDdOwYcP08ccfa8qUKcrKytLf/vY3SdL27dsl/Rh7X331lX7961/X2ee3336rm2++WT169FBRUZGeeeYZzZo1S8uWLfNa74knntADDzygoqIixcbGaty4cQ0+To/Ho6FDh6pdu3YqLCzUokWLtHDhQuXm5nqt9/vf/1533HGHiouL1bdvX40ZM0Y1NTWSpJKSEt15552aPHmyPvvsMz3zzDOaNm2a1qxZ0+B5AbgAWQDQQgwYMMAKDAy0QkJCvJZ9+/ZZlmVZL730kuVwOKxDhw7Zr7nxxhutHj162I9ramqskJAQa+3atZZlWda0adOsvn37eu1n5MiR1u23325ZlmV98cUXliSrtLTUa51OnTpZixYtsizLsl544QUrNjbW8ng89vi0adOsPn362I8lWU8//bT9+P3337ckWd9+++0pj9nj8ViSrM2bN3s9/+abb1qhoaHWN998Yz/3hz/8werYsaP9ODo62po6dar9eP/+/ZYk64svvrAsy7Luuusua/r06V7bffzxx60hQ4acck4AzMKZQQAtyvjx41VUVOS1XHzxxfZ4ZGSkfWlVkqKjo9WjRw/7sb+/v8LDw+0zg7t379bVV1/ttY9rrrlGu3fv9nlOu3fvVlJSkgIC/u/XuZ9sG1dccYX955iYGElSeXm5z/v5//vs1q2bfvazn3nt85///Ke+++47n/ZZUlKiuXPnKjQ01F6eeeYZ7d+/v0FzAnBhCjj9KgBw7rRr106dO3eudzwwMNDrscPhOOlzJz5bZzXCd+R83cZP5+FwOCTJ6zN+53qfVVVVeuSRR+p8K7pVq1YNmhOACxMxCOCC1rVrV23atMnrue3bt6tr166S/i+mjh8/fsptvP7666qpqbHPDv50G02ha9eu+vzzz1VZWWmfHdy+fbsuvvhihYSE+LSNxMRE7dmz55RxDQBcJgbQonz33Xc6dOiQ1/LTy6JnauLEiSouLtaMGTO0Z88ezZ8/X2+88YamTJki6cdLq61atdI777wjl8ul6urqOtsYPXq0jh07pokTJ2rXrl169dVXNW/ePHsbTeGWW25RdHS0xo0bp08//VTr1q3T7Nmzz2if06ZN0xtvvKFZs2bp888/1yeffKIXX3xRCxcubLJ5Azj/EIMAWpTc3FxddNFFXsu8efMavL1OnTpp9erVevPNN9WzZ0/l5ubqxRdftO/pFxQUpGeffVZPPPGEoqOj69wyRpLCwsL01ltvqaSkRImJifrNb36j7OxsjRo1qsHzOp2AgACtW7dOX3/9tZKSknTvvffql7/85RnF4DXXXKO33npLb7/9tnr37q3+/fvrlVdeOWf3UwRwfuCm0wAAAAbjzCAAAIDBiEEAAACDEYMAAAAGIwYBAAAMRgwCAAAYjBgEAAAwGDEIAABgsP8B4AN5QxrxCT0AAAAASUVORK5CYII=\" class=\"pd_save\"></center>\n",
       "                        \n",
       "                    \n",
       "                \n",
       "        </div>"
      ],
      "text/plain": [
       "<IPython.core.display.HTML object>"
      ]
     },
     "metadata": {},
     "output_type": "display_data"
    }
   ],
   "source": [
    "display(tones)"
   ]
  },
  {
   "cell_type": "markdown",
   "metadata": {},
   "source": [
    "#### Now let's look at the same statistics as a bar chart.\n",
    "\n",
    "It is the same line of code. Use the `Edit Metadata` button to see how PixieDust knows to show us a bar chart. If you don't have a button use the menu and select `View > Cell Toolbar > Edit Metadata`.\n",
    "\n",
    "A bar chart is better at showing more information. We added `Cluster By: Type` so we already see numbers for posts and articles. Notice what the chart tells you. *Joy* seems to be the dominant emotion. Click on `Options` and try this:\n",
    "\n",
    "* Change the aggregation to `AVG`.\n",
    "\n",
    "What emotion leads to higher average consumption?\n"
   ]
  },
  {
   "cell_type": "code",
   "execution_count": null,
   "metadata": {
    "pixiedust": {
     "displayParams": {
      "aggregation": "SUM",
      "chartsize": "70",
      "charttype": "grouped",
      "clusterby": "Type",
      "handlerId": "barChart",
      "keyFields": "Emotion Tone",
      "legend": "true",
      "rendererId": "matplotlib",
      "rowCount": "100",
      "title": "Tone in Posts and Articles",
      "valueFields": "Lifetime Post Consumptions"
     }
    },
    "scrolled": false
   },
   "outputs": [
    {
     "data": {
      "text/html": [
       "<style type=\"text/css\">.pd_warning{display:none;}</style><div class=\"pd_warning\"><em>Hey, there's something awesome here! To see it, open this notebook outside GitHub, in a viewer like Jupyter</em></div>\n",
       "        <div class=\"pd_save is-viewer-good\" style=\"padding-right:10px;text-align: center;line-height:initial !important;font-size: xx-large;font-weight: 500;color: coral;\">\n",
       "            Tone in Posts and Articles\n",
       "        </div>\n",
       "    <div id=\"chartFiguree5a7c88d\" class=\"pd_save is-viewer-good\" style=\"overflow-x:auto\">\n",
       "            \n",
       "                    \n",
       "                            <center><img style=\"max-width:initial !important\" src=\"data:image/png;base64,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\" class=\"pd_save\"></center>\n",
       "                        \n",
       "                    \n",
       "                \n",
       "        </div>"
      ],
      "text/plain": [
       "<IPython.core.display.HTML object>"
      ]
     },
     "metadata": {},
     "output_type": "display_data"
    }
   ],
   "source": [
    "display(tones)"
   ]
  },
  {
   "cell_type": "markdown",
   "metadata": {},
   "source": [
    "#### Now let's look at the entities that were detected by Natural Language Understanding.\n",
    "\n",
    "The following bar chart shows the entities that were detected. This time we are stacking negative feedback and \"likes\" to get a picture of the kind of feedback the entities were getting. We chose a horizontal, stacked bar chart with descending values for a little variety.\n",
    "\n",
    "* Try a different renderer and see what you get."
   ]
  },
  {
   "cell_type": "code",
   "execution_count": null,
   "metadata": {
    "pixiedust": {
     "displayParams": {
      "aggregation": "SUM",
      "chartsize": "70",
      "charttype": "stacked",
      "handlerId": "barChart",
      "keyFields": "Entities",
      "orientation": "horizontal",
      "rendererId": "matplotlib",
      "rowCount": "100",
      "sortby": "Values ASC",
      "title": "Entities in Posts and Articles",
      "valueFields": "Lifetime Post Stories by action type - like,Lifetime Negative Feedback from Users"
     }
    },
    "scrolled": false
   },
   "outputs": [
    {
     "data": {
      "text/html": [
       "<style type=\"text/css\">.pd_warning{display:none;}</style><div class=\"pd_warning\"><em>Hey, there's something awesome here! To see it, open this notebook outside GitHub, in a viewer like Jupyter</em></div>\n",
       "        <div class=\"pd_save is-viewer-good\" style=\"padding-right:10px;text-align: center;line-height:initial !important;font-size: xx-large;font-weight: 500;color: coral;\">\n",
       "            Entities in Posts and Articles\n",
       "        </div>\n",
       "    <div id=\"chartFigure99556741\" class=\"pd_save is-viewer-good\" style=\"overflow-x:auto\">\n",
       "            \n",
       "                    \n",
       "                            <center><img style=\"max-width:initial !important\" src=\"data:image/png;base64,iVBORw0KGgoAAAANSUhEUgAAAvMAAAG7CAYAAABO5hpLAAAABHNCSVQICAgIfAhkiAAAAAlwSFlzAAAOwwAADsMBx2+oZAAAADl0RVh0U29mdHdhcmUAbWF0cGxvdGxpYiB2ZXJzaW9uIDMuMC4yLCBodHRwOi8vbWF0cGxvdGxpYi5vcmcvOIA7rQAAIABJREFUeJzs3XdYFNf7NvB7pO6ydAsIiAgoFoKVWACxGwxqsEaDohGNxho1GtGgRmKJPcbEjqixoQY1thAFbCCKEmyIYvsSbBhUBIGFef/wZX6udBRh9f5c11wX0855ZnaYefbMmVlBFEURRERERESkdqpUdABERERERFQ2TOaJiIiIiNQUk3kiIiIiIjWlWdEBUH6iKCInJwfZ2dkVHQoRERERVQJaWlrQ0NCAIAgq05nMVzJZWVm4ffs2nj59WtGhEBEREVElYmBgAGtra2hra0vTBL7NpvIQRRGxsbHQ1NSEhYUFdHR08n37IiIiIqIPiyiKyMzMRFJSErKzs+Ho6AhNzZdt8kzmK5EXL17g0qVLcHBwgJ6eXkWHQ0RERESVyPPnz3H16lU8ePAAHTp0gLa2Nh+ArUzyvldVqcKPhYiIiIhU5eWICQkJ+OuvvyCKIpN5IiIiIiJ1YmhoiMTERGRkZDCZp/ITGBgIS0tLaTwzMxN9+/aFgYHBGz0LMHPmTLi4uLyNEKkQt27dgiAIuH79ermULwgCQkNDy6Xst8XHxwdffPFFRYdRadSuXRtr164FkP/4eP1/nd4enkffnfI+71WE0NBQleOkvD/3spT/448/onr16hAEAWFhYeUT2HtIS0sLSqUSmZmZTObpzbi7u2P69OkFzuvXrx/Onz8vjW/fvh1hYWE4deoUkpOTS1S+i4sLZs6cqTJt0qRJ2Lt3b5ljLou8k3zeYG5ujgEDBpR4O4py/fp1CIKAW7duFbnc06dPMX78eFhbW0NHRwc1a9aEp6cnrl69WqpySsLKygrJycmwsbF547LUgaWlJQIDA1WmLVu2DL/88ku51alUKtX24vWhHR/l7UM7j9rY2CArK0uaXhH/C2vXrkXt2rVVpr2L4/rV60jeMHXq1HKrr7K7ffs2pk+fjtWrVyM5ORmtW7eu0HgK+1+s7I07fDWlGhCEWe+sLlH0f2tlyWQyyGQyaTwxMRH169dHo0aN3qhchULxpqGV2enTp1G7dm1cv34dw4YNg7e39ztrYf7qq69w8eJFrF+/Hra2tkhOTsbBgweRmpr6VuvJzMyEjo4OzMzM3mq56sbQ0LCiQ6i0NDQ01PL4mPWO3g7m/xbfK/E+nkfv3buHNWvW4Ouvv66wGAryro7rHTt2wNXVVRqvyM+iot28eROiKKJHjx6F3mnKuya9r7KyslReM1kWbJmncvPq7WEfHx/MmjULEREREAQB7u7uAICHDx9i4MCBMDIyQtWqVTFw4ECkpKRI65w8eRKzZs2CIAhSK8rrt/Hc3d0xefJk+Pr6Ql9fH7Vr18aBAwfwv//9Dx07doSenh7atGmD27dvq8S3fPly1KlTB3K5HC1atChRq1DVqlVhZmYGFxcXfP/99zh69CjS09MBAGfOnEGrVq2go6MDKysrLFiwQFpPFEV89913sLCwgK6uLurUqYNVq1YBAOzt7QEANjY2EAQhXwtangMHDsDf3x8dOnRA7dq10apVK8yePRstW7Ysspz79++jd+/eUCgUMDY2xpdffonnz5+r7L9JkybB19cXBgYGmDhxYoG3m0NDQ9G8eXPIZDLUrVtXpdX6xYsX8PX1RfXq1SGTyeDg4IA//vijyH158+ZNuLq6QldXF82bN0dcXBwAIDIyErq6uvjvv/9Ulnd1dS1031y9ehUeHh6oWrUqjIyM4OHhgZs3b6osc+7cObRv3x5yuRwmJibo2bOntP1JSUkYMmSIyrH5ektMSfbjt99+ixEjRkjH4bZt2wrdfjs7OwBAu3btIAgCfHx8MG/ePDg7O6ss9+zZM+jp6UnHZ+3atTF//nx4enpK+/r1Y7eoz+ptKK47Qnx8PCwtLREQECBN27ZtGxo0aACZTIZGjRohODj4rcb0vnofz6MjR45EQEAAMjIyCl0mJiYG7u7ukMlkqF27Nvz9/aFUKqX558+fR9OmTaGrqwsXFxesWbNGJRk8deoU2rVrByMjI1SrVg2ff/45Hj16BAAICwuDr68vbt++LbWOh4WFqRzXjx49gpaWFs6cOaMS1+jRo+Hp6SmNl+W4NjY2hpmZmTS8mswXV15x+yUuLg7NmzeX9kthd2p/+uknVK9eHcbGxpg2bRpefbHh+PHjpc+0YcOG2L59u8q6z58/x+jRo2FmZgaZTIamTZsiKiqqwHpOnjwJExMTBAUF5ZsXGBiIdu3aAXj5UGfe51fQNQko+hoLvLzrsX79erRv3x4ymQzOzs5ITExEWFgYGjVqBAMDA3h7e+PFixcFxlpSRV3PgZdfuD09PaFQKFCzZk2MHj1ayhOA/zuH9+rVC3K5HMuXL0dKSgr69OkDExMT6OnpwcnJCadPny5xTEzm6Z1YtmwZxo8fj1atWiE5ORm7d+8GAPTu3RsAcPz4cYSFhSE1NVVKoJYtWwZnZ2dMnDgRycnJiI6OLrT81atXo1GjRoiJiUG3bt3g7e2NYcOGYfz48Th37hxEUcQ333wjLb9+/XosW7YMK1euxMWLFzFo0CB4eHiUqouKTCaDKIpQKpV49uwZPDw80LBhQ1y4cAELFizArFmz8PvvvwMAdu7cid9//x07duxAfHw81q1bhxo1agCA9A975swZJCcnY9KkSQXWV6NGDRw4cKDQC2Bh5Xh7e+Pu3bsIDw/Hvn37EBERgQkTJqisu2rVKtja2iImJkY6cb4qPj4eXl5eGDlyJC5duoTFixdj1qxZ0kl++fLlOHfuHA4ePIjLly9jyZIlMDAwKHL/ff/99xg7dixiYmJgY2ODzz77DDk5OWjZsiVsbGywY8cOadmbN2/i5MmT8Pb2LrCstLQ09O7dGydOnMCJEyegra2N/v37S/MfPnyIDh06oE6dOoiKikJ4eDhatWoFANi9ezfMzc2xdOlSlWPzdSXdjw4ODjh//jx8fHwwZMgQPHjwoMDyIiMjAQC7du1CcnIyli1bBm9vb8TExCA+Pl5abteuXahWrRratm0rTZs3bx66deuG8+fPo1OnTujZsyeePHkCoPjPqrzFxcWhbdu2mDBhAvz8/AAAR48exZgxYzBr1ixcunQJ06ZNw6BBg6R9QCXzvpxHfX19oaOjgxUrVhQ4PyUlBZ06dYKHhwfi4uIQGBiI33//HYsWLQLwsluOl5cX7O3tERMTgwkTJuT7op+WloaRI0fi7NmzOHjwIO7evYtRo0YBAFq3bo1FixbB0tISycnJBXbvqFq1Ktq3b6/yf5Obm4tdu3ahX79+AN7+cV1cecXtl5ycHHh5eaFWrVo4d+4cxo0bhxkzZuSrJzY2FqdPn8axY8ewZs0arFixAhs3bpTmm5qaYtu2bbh48SLGjBkDb29vqbEFAIYPH47Q0FAEBQXh4sWL8PPzQ25ubr56jh07hk8//RS//vorBg0alG9+v379pPN83ueQ5/VrUnHX2Dxz5szBhAkTEBMTA01NTQwYMABz5sxBYGAgDh48iIMHD2LNmjWl+VjyKep6npWVhS5dusDe3h7nzp1DSEgIoqOj811XFyxYgK5du+LixYvo378/ZsyYgWfPniEiIgL//PMP/P39S9daL1KlkZ6eLp49e1ZMT09XmQ7MfGdDabVt21b08/MrcN6GDRtECwsLadzPz09s27atNB4eHi7WqFFDzM7OlqYlJSWJAMS7d++KoiiKbdq0Ef39/VXK9ff3F9u0aaMSwyeffCKNJycniwDEn376SZq2detW0cTERBq3sbER9+3bp1Jup06dxB9++KHAbbl586YIQExISJDqaN26tdikSRNRFEXx119/FWvWrKmyLVOmTBGbN28uiqIoLly4UOzQoYOYm5ubr+yEhAQRgHjz5s0C687z999/i9WrVxd1dHTE1q1bi9OnTxfj4+OLLOfKlSsiAPHSpUvStIMHD4qamppiamqqKIov95+7u3uR2ztkyBBx4sSJKssEBASIHTp0EEVRFEePHi0OHTq0yPhfBUCcMmWKNJ6amirK5XLpM5k7d67YunVraf6sWbNUPvPi5B0Dt2/fFkVRFL///nuxUaNGBe5/URRFCwsLccOGDSrTBg8eLA4cOFAUxZLvx1ePw+zsbJVtel12drYIQDx27JjK9C5duojTpk2Txtu1a6fyP2ZtbS3269dPGlcqlWKtWrXEn3/+WRTF4j+rsrK2thbXrFkjimL+4yPvf/3cuXNi1apVxRUrVqis265dOym+PL6+vuKXX375RjGV1kzgnQyl9SGeRzds2CCampqKT58+zfe/MGvWLLFXr14q627ZskW0tbUVRVEU9+/fL8rlcvHJkyfS/O+++04sKqU5ffq0qKmpKSqVSlEURXHNmjWitbV1ofGJoiiuW7dOtLS0lM4bx44dE3V1dcWnT5+Koli24xqAqKurK+rp6UlD3nmquPKK2y8HDhwQZTKZ+PjxY2n+lClTVPaLv79/vmX8/PzEZs2aFRpzly5dxFmzZomiKIo3btwQAYjR0dEFLpt3XB06dEg0NDQU9+zZU2i5oiiKf/31V77PraBrUnHXWFF8uW/nz58vjW/dujVfrCNGjBC9vLwKjaew/8VXrwdFXc83btyYb1+ePHlS1NbWlo49a2tr0cfHR2WZTz/9VJw9e3ahcb0qL1fcsmWLuHjxYvHx48ciW+apwsTFxeHhw4cwMjKCQqGAQqFA3bp1Aby8TVUajo6O0t9535AbNmyoMu3x48fIyclBWloabt68iX79+kn1KhQKHDt2rNh6nZycoFAoYG5uDqVSic2bNwN42RrarFkz6dfYAKBVq1ZSC2uvXr1w+fJl1K9fHxMmTEB4eHiptg8A2rdvjzt37mDfvn3o1KkT/vzzT3z00Uc4fPhwoevEx8dDX18fDRo0UIlLqVTixo0b0rQmTZoUWXdcXBxWrFihsr9mz54t7S9vb28EBwejWbNmmDZtGs6dO1fs9rzancTQ0BD16tWT9tegQYMQFRUlxbh58+YCW3byPHnyBF9//TXs7e1hYGAgdWG5e/cuAODixYto27Ztmd/+UdL9+OpxqKmpiapVqxbaMl8YHx8fbN68GaIoSncCXt/2V/edhoYGmjVrJu274j6r1/34448qy5ZVamoq2rdvj2nTpuXrCx0XF4fJkyer1BMYGFjq/3PKTx3Po8DLc0a1atWwePHiArdp7969KuV++eWXuHXrFnJzc5GQkAA7OzuVu3/NmzdXKeN///sfvL29UadOHejr66NDhw5QKpW4d+9eifeHl5cXHjx4gFOnTgF42dfdw8MD+vr6UpxlOa5XrVqFCxcuSEPNmjVLVF5x+yU+Ph52dnYwNjaW6nq92x6AApd59W7gxo0b0bx5c1StWhUKhQJ///23dC69dOkS9PT08u3vV8XHx6N79+7YsGGD1J2xtF6/JhV3jc1TkmP44cOHZYopT1HX87i4OMTGxqp8Rp06dUJWVhaSkpIK3T5fX1/8+OOPcHV1xezZs/NtV3H4ACxVmLS0NNjZ2eHPP//MN8/CwqJUZWlpaUl/5yVsBU0TRVHq5/z777+r/JMDkE7Shdm3bx+sra1Ro0YNlcRHLOaBt9q1ayMhIQEHDx7E4cOH4enpicGDB+Pnn38uwdb9Hx0dHXTq1AmdOnWCv78/PvnkEwQEBKBLly4FLl9QXAUltHK5vMh609LS8M0332Do0KEq0/NOrM7Ozrh58yb+/PNPHDp0CG3atMGcOXMK7TJUWBx5atasiY4dO2LTpk3o0qUL7t69i759+xa6/MSJExEZGYmlS5fCxsYGSqUSTk5OyM7OBlD851Ocku7HV4+5vGUKuv1clJ49e2LkyJEIDw/H6dOn4ezsLCVnRdWdp7jP6nVfffVVkfu2pBQKBZo3b47t27fD19dX5f8jLS0NCxcuzHecvvpgJ5WNOp5HgZdfQmfNmgVfX1+MHDlSZV5aWhr69++P77//Pt96VapUgSiKxX4x9/HxQVZWFlavXg1LS0vcvHkTHh4e0jmhJIyMjNC5c2ds374dLVu2xK5du1S6BpX1uK5Zs6bU4PCq4sp7G/sFKPr8cfz4cfj6+uKnn36Cm5sb9PX1MWbMGJVzaXF11KxZE7Vr10ZgYCA8PT0LPfcU5fVrUknP4SU5hos6JxsYGODp06f5pj958gTm5uYAir6ep6Wlwc3NTaUPfZ689Qvavu7duyMxMRH79u3DgQMHEBAQgKCgIKlLV3GYzFOFcXJywp07d2BgYIDq1asXuIyWlhZycnLear3Vq1eHmZkZ7ty5gx49epRq3Vq1asHW1jbfdAcHB+zcuRNKpVI6cZ0+fRoODg7SMnp6eujduzd69+6NTp06wcfHBz///LN0ointdgqCgLp16+LkyZMAUGA5Dg4OePbsGS5fviy1Kp86dQqampoFbkdhnJycpFafwpiYmMDb2xve3t5wcnLC+vXri0zmz5w5g88++wzAy9duXrt2DfXq1ZPmDxkyBH5+frh//z66d+8OIyOjQsuKjIzEsGHD0K1bNwAvL0ivcnR0xJ49ewq9EBV3nL2t/fgqDQ0NVKlSJV+9urq66N+/PzZt2oTTp09jzJgx+dZ99aG83NxcxMTEoH379gBK9lm9ysTEBCYmJmXahldpamoiODgYHh4e8PT0xMGDB6GrqyvFlJiYWOKYqOTU8Tyap0+fPpg7dy7mz5+vMt3JyQmhoaGFHi9169ZFQkICnj59KrXOv343MDIyEps3b0bHjh0BIN+zAiXdJ/3798ekSZPg6emJ58+fS+eYvDjf5nFdXHnF7Zd69eohISEBqamp0vmyoGckClom79wbFRWFBg0aYNy4cQBenl9u3LghtXI3atQIaWlpOHv2bKGt8/r6+ggJCUHbtm0xaNAgbN68+Y1/2b4k19i3wd7ePt8+y83NRWxsrMpzS4Vdz52cnLB3715YWlpK57+SMjc3x/DhwzF8+HCMGjUKGzduLHEyz2429Mbu37+vcsvwwoULSEtLK3a9zp07w9HREV5eXjh+/DgSExPx119/Yfjw4dIy1tbWiIyMRFJSUr63m5SVIAiYNm0aZsyYgQ0bNuDGjRs4e/Ys5s2bh6NHj5apzIEDByIzMxMjR47E1atXsXXrVvz8888YP348gJe3LQMDA3HlyhVcu3YNf/zxh3TyNDMzg7a2No4cOYKHDx+qPPX+Knd3d2zYsAGxsbFITEzExo0bsX79eunNCgWV4+DggM6dO2Po0KE4d+4cTp48ibFjx2LIkCGlevXi5MmTsX//fkyfPh2XL1/GpUuXEBgYiJUrVwIAlixZgp07dyIhIQFxcXE4cuSISmJekI0bNyI4OBhXrlyBr68vatSoga5du0rze/bsiZSUFKxbt67ILjYAYGtri+DgYFy+fBknTpzA5MmTVeaPHj0ad+7cga+vL+Li4nD58mUsXLhQmm9tbY2IiAjcu3dPepD0VW9rP75KEARYWVnh6NGjePDggcr/jI+PDzZt2oQbN24UeDI/fPgwVq9ejfj4eEyYMAH//fef9MBjcZ9VedLV1cXevXvx4sUL9OrVS2rNmzZtGn755RcsWbIE165dQ2xsLFasWPHOHspVBx/ieVQQBPzwww/5js2vv/4aN27cgK+vL2JjYxEfH48dO3Zgzpw5AIAuXbqgevXqGDFiBK5cuYLdu3erPMAJvDwnbNq0CQkJCTh06BB+/PFHlfnW1ta4f/8+zp49i0ePHhXaYt+jRw88efIE33zzDbp3767Sovq2j+viyivJfjE3N8ewYcNw+fJlBAcH59svwMuGhLxldu/ejeXLl0td42xtbREfH4/9+/cjPj4eY8aMUemaVKdOHQwYMABffPEF/vrrLyQmJuKPP/7I99CvqakpQkNDER0dja+++qpM++NVxV1j35avvvoKUVFR8Pf3x5UrVxAXF4dRo0YhNTVVegFDUdfzgQMHQltbG/369UN0dDSuX7+Offv2FdmwBQD+/v7Yv38/EhMTcfbsWZw8ebLYa+irmMzTG1u7di2aNGmiMpw9e7bY9apUqYJDhw6hXr168PLyQsOGDTFmzBiVFthJkyYhJSUFderUKbZfd2mMGTMGCxYswIIFC1C/fn14enrizJkzpb4tnUdfXx8HDhxAXFwcnJycMHnyZPj7+2PAgAEAXvYJX7lyJZydneHs7IzHjx9Lry3U0dHBTz/9hNmzZ6NGjRr5XreVp2PHjvjtt9/g7u4OR0dHzJ8/H35+ftLbCgorJygoCBYWFmjbti26desGV1dXLFmypFTb16xZM/z1118IDw9Hs2bN4OLigg0bNkivudPT08MPP/wAJycnuLu7w8TEBL/++muRZc6cOROLFy9G48aNkZCQgN27d6vcjtXR0UG/fv1gbGxcaDeiPIsWLYIoimjWrBmGDx+O2bNnq8yvVq0aQkNDce3aNbRo0QKurq5SP9i8WKKiomBlZVVoK+Pb2I+vW7BgAbZs2QJzc3OMHj1amv7xxx+jTp06+PTTTwtsNf/222+xZ88eODk54dChQ9izZ4/0f1PcZ1XeFAoFDhw4gKSkJAwYMAA5OTno3r07tm7dik2bNsHR0REdO3bE/v37YW1t/U5iUgcf6nn0008/zReTlZUVIiIicPfuXbRp0wYtWrTAwoULUatWLQAv7wLt2rULV69eRePGjbF48WJMmTJF5V3ka9euxfXr1+Ho6IgZM2ZICW8eNzc39O/fHx07dkS1atWkO5yvUygU8PDwwMWLF/N9sX7bx3Vx5RW3XzQ0NLB7927cvHkTTZo0weLFiwt8na+TkxOaN28ONzc3DB06FCNHjoSPjw+Al40ovr6+8Pb2RuvWraGvr6/yKk7g5VuP2rVrh88//xyNGjXCDz/8UGDLu5mZGUJDQ3Ho0CGVtyCVRXHX2LfF3t4eR48eRXh4ONq0aYP27dvj9u3bCA8Ph6mpKYCir+f6+voICwuDtrY2OnXqBCcnJ0yfPl2li01BNDU1MWnSJDRo0ADdunWDs7NzvmO2KIL4pp1J6a3JyMiQbuOzLynRy4ubnZ1dgQ/Jvc+ysrJgYWGBdevWoXv37irzateujenTp2PYsGEVFB1R5TNnzhxs3boVly5dquhQiMpVXq4YHx+P+/fvw8fHh33miajyefLkCSIiInDo0CGV9xt/CO7fv4+VK1dCJpOp9M8lov8THByMqlWrwtraGlFRUVi0aBG+/fbbig6LqEIwmSeiSqdHjx44e/YsZs6cWap+g+8DMzMzmJubY8OGDdDQ0KjocIgqpf/++w+TJ09GcnIyLC0t8c033zCZpw8Wk3kiqnRK8pPw76viej6W5leKid5Xvr6+8PX1regwiCoFPgBLRERERKSmmMwTEREREakpJvOVSN6P2ZT2FyOJiIiI6P2XlyO+2iWTfeYrER0dHWhoaODmzZuwsLCAjo5OiX6amYiIiIjeX6IoIjMzE3fv3kVubi6ysrKkeUzmKxFBENCgQQPcunULiYmJFR0OEREREVUi6enpSE5OhiiKEAQBVapUYTJf2Whra8Pe3h47d+7E/fv3YWZmxtZ5IiIiog+cUqmUutmkpqZCT08PcrmcvwBbWf3777/Yv38/Hj16BG1tbSb0RERERITs7GzI5XJ88sknsLe3ZzJfmd27dw8JCQl48uRJRYdCRERERJWAQqGAtbU1bGxsAIDJPBERERGRuuKrKYmIiIiI1BSTeSIiIiIiNcVknoiIiIhITTGZJyIiIiJSU0zmiYiIiIjUFJN5IiIiIiI1xWSeiIiIiEhNMZknIiIiIlJTTOaJiIiIiNQUk3kiIiIiIjXFZJ6IiIiISE0xmSciIiIiUlNM5omIiIiI1BSTeSIiIiIiNcVknoiIiIhITTGZJyIiIiJSU0zmiYiIiIjUlGZFB0AVJzc3F6mpqdDV1YUgCBUdDhEREZFaEUURL168gJGREapUqZg2cibzH7DU1FSYmppWdBhEREREai0lJQUmJiYVUjeT+Q+Yrq4ugJcHoEwmq+BoiIiIiNRLRkYGTE1NpZyqIjCZ/4Dlda2RyWRM5omIiIjKqCK7K/MBWCIiIiIiNcVknoiIiIhITTGZJyIiIiJSU0zmiYiIiIjUFJN5IiIiIiI1xWSeiIiIiEhNMZknIiIiIlJTTOaJiIiIiNQUk3kiIiIiIjXFZP4tS05OxpAhQ2BhYQFdXV3UqlULffr0wYMHD8qtTqVSCUEQEBYWVm51EBEREVHlo1nRAbxvevXqBR0dHezcuRM1a9bE7du3sXfvXjx//rxc6svMzISGhka5lE1ERERElRtb5t+i1NRUnD59GgsXLkTr1q1Ru3ZttG3bFosWLYKNjQ3CwsIgCAIOHDiAunXrQiaTwcvLC6mpqVIZz58/x7Bhw2BsbAyFQoFevXrh/v370nwfHx8MHDgQU6dORdWqVdG7d2/Y2dkBANq1awdBEODj4/OuN52IiIiIKgCT+bdIT08Penp6CAkJgVKpLHQ5f39/bNy4EceOHcPVq1cxfvx4ad6ECRMQHh6OkJAQREREICkpCd7e3irrh4SEICMjAydPnsTixYsRGRkJANi1axeSk5OxbNmy8tlAIiIiIqpUBFEUxYoO4n2ydetWjBgxAqIowtnZGR06dMDgwYNhYWGBsLAwtGvXDgcPHkTXrl0BAKGhofjkk0/w8OFDaGhowMTEBCEhIfDw8AAAXL16FfXr18fFixfRsGFD+Pj44Pjx40hISECVKi+/iymVSmhpaeHYsWNwd3cvNLbs7GyVLxkZGRkwNTVFeno6ZDJZ+e0UIiIiovdQRkYG5HJ5heZSbJl/yz7//HP8+++/2LJlC1q0aIHAwEA0aNAAsbGx0jLOzs4qfyuVSty4cQOJiYlQKpVo2bKlNN/BwQFGRkaIj4+Xpjk5OUmJfGkEBARALpdLg6mpaRm3koiIiIgqAybz5UChUKB79+6YN28eLl26BCsrKyxatEiaLwjMoMU9AAAgAElEQVRCgX+X9CaJXC4vU1x+fn5IT0+XhpSUlDKVQ0RERESVA5P5cqalpYU6deqovM3mzJkzKn9ramrC1tYWtra20NTUlPrAAy+72aSmpsLBwaHQOjQ0NFClShXk5OQUG4tMJlMZiIiIiEh98dWUb9H9+/fh7e2NL7/8Eo6OjtDS0sL+/ftx4MABrF27VlpuxowZMDIyAgCMGzcOAwYMkMaHDh2K8ePHQ19fH3p6ehg1ahQ6deqEBg0aFFqvIAiwsrLC0aNH4ejoCLlcDoVCUb4bS0REREQVji3zb5GBgQEaN26MuXPnomXLlmjWrBmCgoKwcuVKlddFzpgxAwMHDkTbtm1hZ2eHpUuXSvMWLVoEV1dXeHp6ws3NDRYWFti0aVOxdS9YsABbtmyBubk5Ro8eXR6bR0RERESVDN9m8w7lvc0mOzsbmpoVf1OkMjyBTURERKSuKkMuxZZ5IiIiIiI1xWSeiIiIiEhNVXxfjw+Iu7t7iV8/SURERERUHLbMExERERGpKSbzRERERERqisk8EREREZGaYjJPRERERKSmmMwTEREREakpJvNERERERGqKyTwRERERkZpiMk9EREREpKaYzBMRERERqSkm80REREREaorJPBERERGRmmIyT0RERESkppjMExERERGpKSbzRERERERqisk8EREREZGaYjJPRERERKSmmMwTEREREakpJvNERERERGpK7ZL5/v37Y9iwYRUdxjtx8eJFCIKAe/fuAQB+++032NnZVXBURERERFRZlHsyLwhCkUNYWFipylu1ahUWL14sjVetWhXbtm1TWaZ379746quv3kb4mDp1Kjp27JhvOhNrIiIiIqpomuVdQXJysvT3/PnzERUVhd27d0vTTExMSlWeoaHhW4utKDk5Oe+kHiIiIiKisir3lnkzMzNp0NPTg7a2tsq0R48eQRAE/PvvvwCA+Ph4CIKA2bNnS2W0a9cOS5cuBaDazaZly5ZISUnB559/DkEQ0LVrV0ydOhW7du3CqlWrIAgCdHV1pXIOHjyIpk2bQldXF/Xq1cOaNWukeVevXoUgCNizZw+aNWsGXV1dXLlypcTbGR4eDjc3NxgaGqJ69erw9vbG48ePpfl5Lfm///47rK2tYWxsjOHDhyMrK0ta5ubNm2jbti10dXXRtGlTxMXFFVvvwoULYWNjA7lcjo8//hgnT54sccxEREREpN7KvWW+ODVr1kSdOnVw4sQJ9O3bF8ePH4epqSmOHz8OAMjOzkZUVBQWLlyYb90DBw7A3t4eP/74I3r06AEdHR1oaWnh0qVLMDExwfz58yEIAgAgLi4O/fv3x/Lly+Hq6oq4uDgMGTIE1atXR48ePaQyv//+eyxduhS1atWCmZlZibfj+fPnGDt2LBo3bozHjx9jzJgxGD9+PIKCgqRlkpOTsXPnTvz555+4d+8eevXqhRYtWsDX1xcAMGDAAOjq6uLMmTNISkrC119/XWSdK1euxOrVq7F69WrY2tpiz5496NKlC+Lj42FhYVHi2ImIiIhIPVV4Mg8Arq6uOH78OPr27YuIiAiMHTsWP/30E5RKJaKjo6GhoYHGjRvnW8/ExASCIMDQ0FAl8dbR0YFMJlOZNnfuXIwZMwaDBw8GANSpUwejR4/GmjVrVJL56dOno0OHDir1hIWFQaFQqExTKpWwtLSUxj08PFTmz58/H926dVNJ5rOysrBu3TqYmJigUaNG6NmzJ8LDw+Hr64vz588jKioKN27cgI2NDT766COMHTsWEyZMKHS/zZkzB0FBQVKf/okTJyIkJARbt27FpEmT8i2fnZ0NpVIpjWdkZBRaNhERERFVfpXibTZ5yTwAHD9+HF5eXqhVqxZiYmJw/PhxtG7dGhoaGm9UR1xcHBYuXAiFQiENCxYsQGJiospyTZo0ybfuxx9/jAsXLqgMfn5+Ksvcvn0bAwYMgI2NDfT19eHh4YH09HSkpKRIy9SsWVPlGQEzMzM8ePAAwMvuRVWrVoWNjY0039nZudDtSUlJQXJyMnr06KGyTadPn863TXkCAgIgl8ulwdTUtIg9RkRERESVXaVpmR8+fDguXryIp0+fomHDhnB1dUVERAQiIiLg6ur6xnWkpaXhu+++w8CBA1Wma2trq4zL5fJ868pksnxvrqlWrZrK+MCBA6Gjo4N169ahZs2auHr1Kj777DNkZ2dLy2hpaamsIwgCcnNzAQCiKEpdgkq6PQCwa9eufLEV9pCwn58fpkyZIo1nZGQwoSciIiJSY5Uima9bty6qVauGefPmwcXFBYIgwM3NDVu3bsWpU6fw7bffFrqulpZWvjfPFDTNyckJ165dK5fXSYqiiKioKOzbtw/t27cHAOlOQ0nVq1cPDx8+xK1bt1C7dm0AQHR0dKHLW1pawsTEBHfv3kXXrl1LVIeWlla+LxREREREpL4qRTIPAC4uLti2bRvmzZsHAHBzc8OgQYOgoaFRZHcTa2trhIeHo2PHjpDJZDAwMIC1tTWOHDmC27dvQ6FQwNTUFFOmTIG7uzvq1q2Lvn37IicnB1FRUcjJycHw4cPfKHZBEFCnTh1s3LgRdnZ2uHr1KhYsWFCqMpo2bQpnZ2d8+eWXWLp0KZKSkrB8+fJCl9fQ0MDUqVMxdepU6Orqok2bNkhJScHhw4fh7u4OFxeXN9omIiIiIqr8KkWfeeBlV5ucnBy4ubkBeNnybGVlhWbNmkEmkxW63g8//ICwsDBYWFigb9++AICRI0dCJpPBwcFBeqtLq1atcODAARw+fBhNmzaFm5sbNm/eLLWCv6kNGzYgLi4OjRo1wpw5cxAQEFDqMn7//XdkZWWhefPmmDp1qsrrOQsyefJkzJ49G3PmzIGDgwN69OiB2NhYmJubl3UziIiIiEiNCKIoihUdBFWMjIwMyOVypKenF/mFiYiIiIjyqwy5VKVpmSciIiIiotJhMk9EREREpKaYzBMRERERqSkm80REREREaorJPBERERGRmmIyT0RERESkppjMExERERGpKSbzRERERERqisk8EREREZGaYjJPRERERKSmmMwTEREREakpJvNERERERGqKyTwRERERkZpiMk9EREREpKaYzBMRERERqSkm80REREREaorJPBERERGRmmIyT0RERESkppjMExERERGpKSbzBLk8oKJDICIiIqIyYDJPRERERKSmmMy/J0JDQyEIQkWHQURERETvEJP5NxAYGAgNDQ3Mnj27okMhIiIiog8Qk/k3EBQUhPHjxyMoKOid1ZmZmfnO6iIiIiKiyo3JfBnduXMHZ8+exQ8//ABRFHHixAkAQExMDHR0dPDixQsAQHh4OARBwOrVq6V169evj23btgEA1q1bh8aNG0NPTw/W1taYMWMGlEqltKyPjw8GDhyIqVOnomrVqujduzcAIC4uDs2bN4euri5cXFxw69atd7TlRERERFRZMJkvo6CgIHh6ekIul6Nfv37YuHEjAMDJyQm6uro4c+YMAOD48eMwNTXF8ePHAQAPHz7E1atX4eLiAgDIzc3FwoULcfHiRfz2229Yu3atSuIPACEhIcjIyMDJkyexePFi5OTkwMvLC7Vq1cK5c+cwbtw4zJgx4x1uPRERERFVBkzmyygoKAj9+/cHAPTv3x87duxARkYGNDQ00KpVKyl5j4iIwLhx4xAREQHgZXJvY2MDS0tLAICvry86duwIGxsbfPLJJxg3bhyCg4NV6qpRowaWLFmCevXqwd7eHkeOHEFSUhLWrVuHhg0bok+fPhg8eHCxMWdnZyMjI0NlICIiIiL1xWS+DE6dOoWHDx+iS5cuAICPPvoIlpaWCAkJAQC4urri+PHjyMnJQWRkJEaMGIHnz5/jzp07OH78OFxdXVXK6ty5MywsLKBQKDBz5kzcvXtXpT4nJydUqfJ/H1V8fDzs7OxgbGwsTXN2di427oCAAMjlcmkwNTV9o/1ARERERBWLyXwZBAUFITU1FXK5HJqamtDU1MSVK1ekrjaurq44deoUoqOjYWFhgerVq8PFxQURERGIiIiQkvlnz56hW7dusLGxwa5duxATE4OpU6ciOztbpT65XK4yLopimV5D6efnh/T0dGlISUkp4x4gIiIiospAs6IDUDeZmZnYvn07AgMD0axZM2n6gwcP0LlzZyQnJ8PZ2RlZWVlYsWIF3NzcAABubm74888/ERsbKyXz8fHxSE1Nxfz582FkZAQA+VrlC1KvXj0kJCQgNTVVWi86OrrY9bS0tKClpVXqbSYiIiKiyokt86WU15VmwIABaNSokTS0b98e9evXx+bNm6Grq4vmzZtj27ZtUuLu6uqKnTt3wsTEBPXq1QMA1KpVC1paWli5ciUSExPx22+/4Y8//ig2hi5dusDc3BzDhg3D5cuXERwcLN0VICIiIqIPB5P5Utq4cSO6detWYAt3jx49VLra5OTkSC3zTZs2hUwmk95iAwDVq1fH6tWrsXLlSjg6OuLIkSOYOnVqsTFoaGhg9+7duHnzJpo0aYLFixdj5syZb2cDiYiIiEhtCKIoihUdBFWMjIyM/98f3w+iOKeiwyEiIiJSK3m5VHp6OmQyWYXEwJZ5IiIiIiI1xWSeiIiIiEhNMZknpKf7VXQIRERERFQGTOaJiIiIiNQUk3kiIiIiIjXFZJ6IiIiISE0xmSciIiIiUlNM5omIiIiI1BSTeSIiIiIiNcVknoiIiIhITTGZJyIiIiJSU0zmiYiIiIjUFJN5IiIiIiI1xWSeiIiIiEhNMZknIiIiIlJTTOaJiIiIiNQUk3kiIiIiIjXFZJ6IiIiISE0xmSciIiIiUlNM5glyeQAEYVZFh0FEREREpcRknoiIiIhITTGZryAuLi6YOXMmAECpVEIQBISFhQEAQkNDIQhCxQVHRERERGqByXwx3N3dIQiCytCyZcs3Lnfv3r2YNGlSgfPc3NyQnJwsjU+dOhUdO3Z84zqJiIiI6P2iWdEBqIPx48djypQp0ri2tvYbl2liYlLoPG1tbZiZmb1xHURERET0fmPLfAno6enBzMxMGkxMTJCcnIxevXrBzMwMBgYGaNu2Lf755x+V9RISEuDp6Ql9fX0YGhqic+fOePr0KQDVbjave7Wbzdq1azF//nz8/fff0p2BO3fuwNDQEEeOHFFZ77vvvmMLPhEREdEHhMl8GaWnp6Ndu3YIDQ1FdHQ07O3t0aNHD2RlZQEAMjIy0KlTJ2hoaCA8PByRkZHo0aMHlEplqeoZOHAgRo8eDVdXVyQnJyM5ORmWlpbo06cPNm3aJC0niiK2bNmCQYMGvdXtJCIiIqLKi91sSmDBggVYunSpNL5q1Sopyc7z22+/QV9fH2fPnkXr1q2xefNmZGZmYtu2bdDV1QUA1K9fv9R1y2Qy6Onp5et64+Pjg65duyItLQ0KhQLHjh3D48eP0atXr0LLys7OVvkykZGRUep4iIiIiKjyYMt8Cfj6+uLChQvS0L17d2RmZmLq1KmoX78+jIyMYGRkhMzMTNy9excAcPHiRXz88cdSIv+2ubi4wNzcHLt37wYAbNq0CV5eXtDT0yt0nYCAAMjlcmkwNTUtl9iIiIiI6N1gMl8CxsbGsLOzkwZ9fX3MnTsXW7ZsQUBAAE6cOIELFy5AoVAgOzsbwMtuL+Vt8ODBCAoKQnp6Onbt2oXBgwcXubyfnx/S09OlISUlpdxjJCIiIqLyw2S+jCIjI9GvXz94eXmhUaNG0NDQwLNnz6T5jo6OiIqKwosXL964Li0tLeTk5OSbPnjwYISHh2PFihUwNDREu3btii1HJpOpDERERESkvpjMl5GtrS0OHDiA8+fP49y5cxg6dCh0dHSk+V988QV0dHTQv39/xMTEID4+Hr/99hseP35c6rqsra1x9epVxMfH49GjR8jNzQUAWFlZwd3dHdOnT8cXX3yBKlX4cRIRERF9SJj9ldH3338PKysrtGnTBn369MGoUaNgZGQkzZfJZDhy5AiysrLg6uqKjz/+GH/88Qc0NUv/zHG/fv3QuHFjNG/eHNWqVcO///4rzRs8eDCys7P5FhsiIiKiD5AgvovO3VRuFixYgODgYJw5c6bU62ZkZEAulwPwA6AFUfR/6/ERERERva/ycqn09PQK677Mlnk1lZ6ejtjYWKxYsQJfffVVRYdDRERERBWAybya+vHHH9GiRQs4OzsX+xYbIiIiIno/sZvNB6wy3BoiIiIiUleVIZdiyzwRERERkZpiMk9EREREpKaYzBMRERERqSkm80REREREaorJPBERERGRmmIyT0RERESkppjMExERERGpKSbzRERERERqisk8EREREZGaYjJPRERERKSmmMwTEREREakpJvNERERERGqKyTwRERERkZpiMk9EREREpKaYzBMRERERqSkm8wS5PACCMKuiwyAiIiKiUmIyT0RERESkppjMExERERGpqQ8umb916xYEQcD169crOpQiXb9+HYIg4NatWwCAwMBAWFpaVmxQRERERFSpqH0y7+7uDkEQIAgCFAoFnJ2dcfjw4UKXt7KyQnJyMmxsbEpch6WlJQIDA1Wm+fj4QBAEfP/99/mWt7e3hyAICA0NLXEdxenXrx/Onz//1sojIiIiIvWn9sk8AIwfPx7Jyck4f/48mjZtih49ehTY8p6ZmQkNDQ2YmZlBQ0Pjjeu1tLTE5s2bIYqiNO3UqVN48eLFG5f9OplMhmrVqr31comIiIhIfb0Xybyenh7MzMxgb2+PFStWQENDA6GhoXB3d8ekSZPg6+sLAwMDTJw4MV83m7zuK8HBwbCxsYGRkRGGDh2KzMxMAC9b/pOSkjBkyBAIggB3d3epXjc3N+Tk5ODEiRPStI0bN+KLL77IF2NiYiI8PT2hUChQs2ZNjB49Gunp6dL8u3fvokOHDtDV1UXjxo0RExOjsv7r3Wz27t2Lli1bQl9fHzVr1sSoUaPw/Pnzt7I/iYiIiEg9vBfJ/Ks0NTWhpaWF7OxsAMCqVatga2uLmJgYTJw4scB1UlJSsHHjRuzduxd79uxBSEgIVq9eDQDYvXs3zM3NsXTpUiQnJ2P37t3SeoIgYODAgdi0aROAly3/O3bswKBBg1TKz8rKQpcuXWBvb49z584hJCQE0dHRKvEMGjQIL168QFRUFBYsWAA/P78it/PFixfw8/NDbGwstm3bhmPHjmHWLL5ekoiIiOhD8l4l89nZ2Zg3bx6ePXsGV1dXAEDz5s0xdepU2NnZFdpPPjMzE2vXroWjoyPatWuH3r17Izw8HABgYmKCKlWqwNDQEGZmZjAxMVFZd9CgQdi5cycyMzMREhICOzs71K9fX2WZbdu2wdDQEIsXL0a9evXQokULLFmyBOvXr0dOTg6uXLmCsLAwrFu3Dk5OTujcuXOhXzzy9O3bF56enqhTpw7c3Nzg7++P4ODgYvdPRkaGykBERERE6kuzogN4GxYsWIClS5ciMzMTBgYG+PXXX9G4cWMAQJMmTYpdv1q1aqhRo4Y0bmZmhitXrpSobgcHB9jb22Pv3r0ICgrK1yoPAHFxcYiNjYVCoZCmiaKIrKwsJCUlIT4+Hvr6+nBwcJDmOzs7F1nv5cuX4efnh3PnzuG///6DUqmEUqkscp2AgAC23hMRERG9R96LZN7X1xcTJkyAQqGAmZmZyjy5XF7s+lpaWirjgiAgNze3xPV7e3tjyZIluHDhAjZs2JBvflpaGtzc3LBq1ap888zNzSGKIgRBKHF9ANC9e3d89NFH2LJlC6pXr46IiAgMHz68yHX8/PwwZcoUaTwjIwOmpqalqpeIiIiIKo/3Ipk3NjaGnZ1duZWvpaWFnJycQud//vnnmDhxIrp27VrgG2ecnJywd+9eWFpaQldXN9/8evXq4enTp4iPj0e9evUAANHR0YXW9+jRI9y4cQPBwcHSHYgdO3aUaDte/+JCREREROrrveozX16sra0RERGBe/fu4cmTJ/nmV61aFffv38f27dsLXH/gwIHQ1tZGv379EB0djevXr2Pfvn2YNGkSAKBBgwZwc3ODr68vYmNjERoaisWLFxcaj7GxMYyNjbFmzRokJiZi+/btBbb6ExEREdH7jcl8CcycORNRUVGwsrJCjx49ClzG2NgYMpmswHn6+voICwuDtrY2OnXqBCcnJ0yfPh3m5ubSMps2bYKGhgacnZ0xYcKEIvu2a2hoYMuWLThy5AgaNmyIVatWYfbs2W+2kURERESkdgTx1V88og9KRkbG/3+mwA+AFkTRv6JDIiIiIlIbeblUenp6oY265Y0t80REREREaorJPBERERGRmnov3mZDbyY93a/Cbg0RERERUdmxZZ6IiIiISE0xmSciIiIiUlOlTub/++8/BAcHIzY2tjziISIiIiKiEio2mff09MTy5csBAM+fP0ezZs3g6+uLFi1aYMuWLeUeIBERERERFazYZD4yMhLt27cHAOzcuRN6enp48OABNmzYgLlz55Z7gEREREREVLBik/nnz5/D0NAQAHD48GH07t0bWlpacHV1RWJiYrkHSEREREREBSs2mXdwcEBISAiSkpJw8OBBeHh4AADu3bsHIyOjcg+QiIiIiIgKVmwyP3/+fEyfPh21atWCh4cHWrRoAQDYu3cvnJ2dyz1AIiIiIiIqmCCKoljcQjk5OXjy5AlMTEykabdu3YJcLkf16tXLNUAqPxkZGZDL5UhPT+ePRhERERGVUmXIpUr0asoqVarg6tWr2Lx5M9LS0gAAhoaGUl96IiIiIiJ69zSLW+D27dvw9PREYmIiXrx4gWvXrkGhUMDf3x9KpRIrV658F3ESEREREdFrim2ZHz16NJydnfHff/+p3D7o3bs3jhw5Uq7BERERERFR4YptmT9x4gTOnDkDLS0tlem1atVCUlJSuQVGRERERERFK7ZlXktLS+on/6pr166hatWq5RIUEREREREVr9hkvk+fPvjuu+/w5MkTAIAgCLh06RImTpyI/v37l3uARERERERUsGJfTZmRkYERI0Zgx44dyM7Oll6/4+XlhS1btkBbW/tdxUpvWd7rlAA/AFoFLiOK/u80JiIiIiJ1URleTVmi98wDL98rf/nyZaSlpcHJyQn16tUr79ionDGZJyIiIiq7ypDMF/sAbJ7atWujdu3a5RgKERERERGVRoHJ/KBBg/DLL79AX18fgwYNKrKAoKCgcgnsQzNz5kyEhobixIkTFR0KEREREamJAh+A1dDQUPm7qEGdubu7Y/r06e+8XhcXF8ycOVNl2qRJk7B37953HgsRERERqa8CW+Y3bNhQ4N9UfhQKRUWHQERERERqpthXU7Zv3x6pqan5pj99+hTt27cvl6Aqg6CgINjZ2UFHRweOjo44ePCgyvxz586hffv2kMvlMDExQc+ePaV5c+fORf369SGXy2Fvb4/ly5dL83x8fHDy5EnMmjULgiBIzyHMnDkTLi4u0nLPnz/HsGHDYGxsDIVCgV69euH+/fsq5XzxxReYPn06TExMULNmTSxevLic9gYRERERVUbFJvNhYWHIysrKNz0jIwMnT54sl6Aq2qlTpzB06FCMHTsW//zzDz777DP07NkTt27dAgA8fPgQHTp0QJ06dRAVFYXw8HC0atVKWl9HRwdr1qzBpUuXEBAQgGnTpuHAgQMAgGXLlsHZ2RkTJ05EcnIyoqOjC4xhwoQJCA8PR0hICCIiIpCUlARvb2+VZfbu3Yvs7GxERkZi5syZmDhxIv7555/y2SlEREREVOkU+jabVx9s3bFjBwwMDKTxnJwcREREwNbWtnyjqyDLly+Hl5cXxo4dCwCYPXs2jhw5gl9++QU//fQTVqxYASsrK6xZswaCIAAAHB0dpfW/+eYb6W8bGxscPXoUwcHB8PDwgKGhIbS0tKBQKGBmZlZg/c+ePcOGDRsQEhICNzc3AEBgYCDq16+PS5cuoWHDhgAAKysrzJ8/HwBQt25dLFq0CBEREfjoo48KLDc7OxtKpVIaz8jIKOsuIiIiIqJKoNBk3s/PT/p77ty5qFLl/xrxtbS0YG1tjV9//bV8o6sg8fHx+VrBW7Vqhfj4eADAxYsX0bZtWymRf92ff/6JuXPnIiEhAc+fP0dWVhbatm1b4voTExOhVCrRsmVLaZqDgwOMjIwQHx8vJfONGjVSWc/MzAwPHjwotNyAgADMmjWrxHEQERERUeVWaDJ/9+5dAEC7du2we/duGBsbv7OgKlpxv6NV1PzExER4eXlhypQpWLp0KQwNDTF//nxcv379rdWfR0tL9YeeBEFAbm5uocv7+flhypQp0nhGRgZMTU1LHBcRERERVS7F/mjUsWPH3kUclYqDgwMiIyNVpp0+fVrq8uLo6Ig9e/ZAFMV8rfMxMTGQyWSYPXu2NO3mzZsqy2hpaSEnJ6fQ+m1tbaGpqYnIyEh4eHgAAK5evYrU1FQ4ODiUebu0tLTyfQEgIiIiIvX1wf9o1P3793HhwgWVaaNGjUL79u2xYsUKdO7cGZs3b8b58+exbds2AMDo0aOxbNky+Pr6Yty4cdDQ0MCBAwcwadIk2Nra4unTpwgMDISLiwu2bduG6OhoNG3aVCrf2toakZGRSEpKglwuz3fXQ19fH0OHDsX48eOhr68PPT09jBo1Cp06dUKDBg3Kf6cQERERkVoo9kejqlSp8t7+aBQArF27Fk2aNFEZcnNzsX79eixduhSNGjXCnj178Mcff0ivkaxWrRpCQ0Nx7do1tGjRAq6urjh16hQAoEmTJggICMC3336Lpk2b4tatWxgxYoRKnZMmTUJKSgrq1KmDJk2aFBjXokWL4OrqCk9PT7i5ucHCwgKbNm0q131BREREROpFEEvaQZveOxkZGZDL5QD8ABTc/UYU/d9pTERERETqIi+XSk9Ph0wmq5AY+KNRRERERERqij8aRURERESkpvijUYT0dL8KuzVERL1nW6cAACAASURBVERERGXHH40iIiIiIlJT/NEoIiIiIiI1xR+NIiIiIiJSU8Um89nZ2Vi9ejXCw8Px4MED5ObmqsyPiPh/7d15WFRXnj7wt2QvCgUpBBEQBAEXXBFwl4hOq62SaUNMRFBnTFzGUdOtcURCaQcH98TkYdSIGyRGjLZbjI1rYlrFuCBqBBFB7Yw0gtFoU2IVnN8fGe7PUlYDVF3r/TzPfR6qzrn3nvvNwbxcTl2+a7LBERERERFRzeoM89OmTcPevXsxbtw4dO7cGQqFojnGRUREREREdagzzO/evRt79uzB4MGDm2M8RERERERUT3U+Z97JyQkuLi7NMRYiIiIiImqAOsP8ihUr8F//9V8oKSlpjvEQEREREVE9KYQQorYOnp6eKC0txdOnT+Hi4gIrKyuD9tu3bzfpAKnpaLVaKJVKlJWV8Y9GERERETWQKWSpOtfMf/jhh80xDiIiIiIiaqAaw3x6ejoiIyMRGxsLACgsLISnpycsLCwAAGVlZfj000+bZ5RERERERPSCGpfZWFhY4O7du2jTpg0AoGXLlsjKykKHDh0AAP/4xz/g7u6OioqK5hstNSpT+NUQERERkVyZQpaq8QOwz2f8OpbWExERERFRM6vzaTZERERERGSaGOaJiIiIiGSq1qfZLFu2DPb29gCAp0+fYs2aNXBycgIA/POf/2z60VGzUCoTAVjV2kcDDRK41IqIiIjIpNQY5gcNGoQLFy5Ir/v164crV6680IeIiIiIiIyjxjB/4sSJZhwGERERERE1FNfMN7EhQ4Zg0aJFxh4GEREREb2CzD7M1xS2J02ahOjo6CY//5EjR6BQKJr8PERERET06jH7ME9EREREJFcM8/WQkpKCHj16wN7eHu3bt0d8fDz0er3UfvjwYfTs2RN2dnZQq9UYNWqUwf5Pnz7Fu+++CwcHB3h7e+PLL78EABQWFmLYsGEAAIVCAYVCgS1btgAA5syZgw4dOkCpVKJLly7YsWOHwTELCwsxZMgQ2NraokePHkhPT4dCoUBhYWHTFYKIiIiITEqtj6akX1VWVmLlypXw9fVFTk4OpkyZgrZt22LGjBnQ6/UYN24clixZgsjISDx8+BDHjh0z2H/9+vXQaDS4ePEi0tLSMHnyZLz22mvw9PREeno6oqKicPfuXQBAq1atAADOzs748ssvoVarkZGRgYkTJ6Jz584ICgoCAERHR8PS0hKZmZm4d+8eZs6c2bxFISIiIiKjUwhh3g8PHzJkCE6dOgVra2uD98vLy/Hmm28iLS3thX2SkpKQkZGBY8eOobS0FGq1Grdv34anp2e1x1cqlTh48CAAQK/Xo1WrVtixYwd+//vf48iRIxg2bBjq+s/wu9/9Dv369cMHH3yAq1evomvXrsjLy4Ofnx8AYMOGDXj33XdRUFAAb2/vao+h0+kMfqOg1Wrh7OwMIA58zjwRERFRw2i1WiiVSpSVlcHOzs4oY+AyGwBTp05FVlaWwTZmzBip/dSpUxg+fDjatWsHlUoFjUaDO3fuAPj1Dvr48ePRtWtXjB8/Hps3b8bjx48Njl91Nx0ALC0toVarUVxcXOuYtm7diuDgYKjVaqhUKhw9elQ6Z15eHlq2bCkFeQAIDg6u8zoTExOhVCql7dcgT0RERERyxTAPwMnJCX5+fgabg4MDAODRo0cYNWoUfHx8sGvXLly4cAELFiyATqeT9t++fTsyMjIQEBCAlStXomvXrigtLZXarawM73orFApUVlbWOJ6TJ09i6tSpmDhxIg4fPoysrCxERERI5xRCvNQTcOLi4lBWViZtz46RiIiIiOSHa+brkJubiwcPHmDZsmVwdHQEAOkO+bNCQ0MRGhqKuLg4tGnTBkePHkVUVFSdx68K+hUVFbCwsAAAZGZmonPnzpg9ezaAX9fs5+fnw9XVFQDg7++Phw8fIj8/H76+vgCA8+fP1+tcz/9gQURERETyxTvzdfDy8oKVlRWSk5Nx8+ZNrFu3Dnv27JHaCwoKEBcXh8zMTNy6dQs7d+7E48eP0bFjx3odv3379gCAgwcPoqSkBOXl5fD19UVubi4OHDiA3NxczJo1C0VFRdI+Xbp0Qf/+/TF16lRkZ2fj6NGjWL16NQDwmfVEREREZoRhvg5t2rTBhg0bkJycjKCgIGRkZGDBggVSu1KpxJUrVzB27FgEBAQgMTERmzZtQs+ePet1fG9vb7z//vuYPHkyXFxcsH37dkRGRkrLbPr16wcHBweMHj3aYL/U1FRUVFQgJCQE7733njQmGxubxrt4IiIiIjJpZv80m1dFWloapk+fjocPH6JFi/r9jFb1CWw+zYaIiIio4UzhaTZcMy9Thw8fhl6vR2BgIH788UcsXLgQb7/9dr2DPBERERHJH8O8TD158gTz5s3DrVu34OLigtdffx1JSUnGHhYRERERNSMuszFjpvCrISIiIiK5MoUsxTUZREREREQyxTBPRERERCRTDPNERERERDLFME9EREREJFMM80REREREMsUwT0REREQkUwzzREREREQyxTBPRERERCRTDPNERERERDLFME9EREREJFMM80REREREMsUwT0REREQkUwzzREREREQyxTBPRERERCRTDPNERERERDJlaewBkPEplYkArBrteEIkNNqxiIiIiKhmvDNPRERERCRTDPNERERERDLFMF9PGo0GAwYMaLLjnzhxAgqFAnq9vsnOQURERESvFpMK87m5uYiKioJarYatrS2CgoLwySefQAhh7KHhT3/6E/bt29cox1q0aBGGDBli8F6/fv1w9+5dWFryYwxEREREVD8mE+avXr2K0NBQVFZW4tChQ8jNzcW8efOwePFizJgxo9p9dDpdswV9lUqF1q1bN9nxra2t4ebm1mTHJyIiIqJXj8mE+VmzZiEwMBA7d+5EcHAw2rdvj5iYGGzbtg3r1q3D999/Ly1FOXToELp06QI7OzuUlpbiyZMnmDx5Muzt7eHp6YnU1FR4eHhgy5YtAIDy8nLExMTA09MT9vb26N27N44dO2ZwfoVCgS1btiAiIgJKpRK9e/dGdna21P7sMpuqcTy/aTQaAMC+ffsQFhYGBwcHuLu7Y8aMGfjnP/8JANiyZQsSExPx7bffSvsVFhZWu8xmxYoV8PT0hI2NDcLCwnD27FmpbcuWLfDw8MBXX30FHx8fODo6YsqUKSgvL2+K/zxEREREZIJMIsyXlJTg+PHjmDNnDhQKhUHbyJEjERAQgPT0dOm9xYsX47PPPsPly5fRsmVLfPjhhzh8+DD27t2LAwcOYPPmzSgtLZX66/V6+Pv7Y//+/bh06RLGjBmDsWPHori42OBcS5YswaxZs5CVlQV3d3dMnjy52vFWLYmp2vbu3QsrKyv069cPAPDkyRPExcXh0qVL+PLLL3H8+HEsXrwYAPDmm29izpw56Nu3r7S/p6fnC+f44osvoNFokJSUhKysLHTr1g0jR47EL7/8IvUpLS3F1q1bsW/fPvzlL3/B3r17sWHDhgZWn4iIiIjkyiTCfH5+PgAgMDCw2vaAgADcuHFDep2UlIR+/fqhU6dOsLa2xvr166HRaBAREYHu3btj3bp1ePLkidTf3t4eixYtQo8ePeDn54eEhAS0a9cOhw4dMjjPtGnTMHbsWPj7+2PhwoW4cOECHj9+/MJ4qpbEuLm5oUWLFpg5cyYSEhIwfPhwAEBUVBRGjx6NDh06YNCgQUhISMBXX30FALCzs4O9vb3BMSwsLF44x9q1azFz5kxMmDABnTp1QnJyMuzs7JCamir1KS8vx8aNGxEUFITw8HCMGzcO3377bY111ul00Gq1BhsRERERyZdJhPmGrnvv2bOn9PWDBw9QUlKC3r17S+/5+/vDwcHBYJ+VK1eiW7duaN26NVQqFfLy8nDnzh2DPkFBQdLXVevXn797/yy9Xo833ngDffr0wcKFC6X3f/zxR7z++uvw8vKCg4MDJk+e/MK56pKbm4uwsDDptaWlJYKDg5Gbmyu95+LiAldXV4Mx1zbexMREKJVKaXN2dm7QmIiIiIjItJhEmPfz8wMAXLt2rdr2nJwcqQ8AKJVK6euqHwSeX57zrLS0NCxZsgR//OMfcfz4cWRlZaFz587Q6XQG/ays/v9fQa06XmVlZY3HnTt3LkpKSrBt2zaD848ZMwYKhQKff/45zp07h7Vr1zbJIyefHW/VmGsbb1xcHMrKyqTt2aVIRERERCQ/JhHm1Wo1Bg8ejI8//viFu/QHDx7E9evXERUVVe2+Tk5OUKvVOH/+vPReXl4eHj16JL0+c+YMXnvtNcTGxqJ79+5wc3PD7du3f9OYt23bhrS0NOzduxcqlUp6v6SkBPn5+fjggw8wcOBABAQEoKioyGBfKysrVFRU1Hr8gIAAnDlzRnqt1+tx7ty5Gpci1YeVlRXs7OwMNiIiIiKSL5MI8wDwySef4Nq1a4iKisL58+dx69YtpKamIiYmBtOmTav1Dza9++670Gg0OHbsGLKzszFjxgzY2tpKd8t9fX1x6tQpnDx5ElevXkVsbGytd7DrcvnyZUybNg2rV6+GSqVCUVERioqK8PjxYzg5OcHJyQmfffYZbt68iR07dmD9+vUG+7dv3x65ubnIyclBSUlJtWOZPXs2kpOT8cUXXyAnJwczZsyAVqtFdHT0S4+biIiIiF4tJhPmg4KCpDvRw4YNg7+/P5YtW4aEhAQkJyfXuu+iRYswdOhQjB49GiNHjkRsbCyUSiVsbGwA/PrB1qFDh2LkyJEYNmwYBg4ciO7du7/0WM+fPw+tVospU6agbdu20rZy5UpYWFjg888/R0ZGBrp06YL169djyZIlBvuPGzcOISEh6NOnD1xcXKr9LcFbb72FhIQEzJ8/H927d0d2djYOHjyIli1bvvS4iYiIiOjVohCm8OdVG9mdO3fg5eWFs2fPok+fPsYejsnSarX/9/mDOABWdXWvNyESGu1YRERERKaqKkuVlZUZbfmypVHO2sjy8/Px/fffo3///rh//z7mz5+PwMBABAcHG3toRERERERNxmSW2fwWCoUCycnJ6NGjB0aOHAlHR0dkZGTU+oQbIiIiIiK5eyWX2VD9mMKvhoiIiIjkyhSy1CtxZ56IiIiIyBwxzBMRERERyRTDPBERERGRTDHMExERERHJFMM8EREREZFMMcwTEREREckUwzwRERERkUwxzBMRERERyRTDPBERERGRTDHMExERERHJFMM8EREREZFMMcwTEREREckUwzwRERERkUwxzBMRERERyRTDPBERERGRTFkaewBkfEplIgCrZjmXBhokCNEs5yIiIiJ61fHOPBERERGRTDHMExERERHJFMO8ifL29sbGjRuNPQwiIiIiMmFmHeZzc3MRFRUFtVoNW1tbBAUF4ZNPPoFoxjXdN27cgEKhQGFhocH7P/zwAyZMmFBrHyIiIiIyb2Yb5q9evYrQ0FBUVlbi0KFDyM3Nxbx587B48WLMmDHD2MODi4sL7OzsjD0MIiIiIjJhZhvmZ82ahcDAQOzcuRPBwcFo3749YmJisG3bNqxbtw7ff/89tmzZAg8PD4P9NBoNBgwYIL1OSUlBjx49YG9vj/bt2yM+Ph56vV5qnzRpEqKjo7Fo0SK0bt0a7u7uWL16tdTesWNHAICPjw8UCgU0Gg0Aw2U21fWZNm0aoqKiDMaWn5+PFi1aoKCgoPEKRUREREQmyywfTVlSUoLjx49j+/btUCgUBm0jR45EQEAA0tPT0atXrzqPVVlZiZUrV8LX1xc5OTmYMmUK2rZta3B3f9++fZg+fTrOnDmDEydO4N1330VERAS6deuG06dPo2/fvjh79iw8PT2hUqleOEd1fa5cuYLw8HA8fPgQrVq1AgCkpqZiwIAB8PHx+Y0VIiIiIiI5MMs78/n5+QCAwMDAatsDAgJw48aNeh1r6tSpiIiIgI+PD0aMGIHZs2fjq6++Mujj6emJZcuWwd/fH++88w78/f3x3XffAQDUajWAX5fVuLm5VRvmq+sTFhYGb29vpKenS/3S0tIQExNT41h1Oh20Wq3BRkRERETyZZZhvj4fcLWyqt8fUTp16hSGDx+Odu3aQaVSQaPR4M6dOwZ9unbtavDazc0NxcXF9R9wDWJjY5GamgoA+Nvf/oaffvoJb7zxRo39ExMToVQqpc3Z2fk3j4GIiIiIjMcsw7yfnx8A4Nq1a9W25+TkoEOHDmjRosULwV+n00lfP3r0CKNGjYKPjw927dqFCxcuYMGCBQZ9gBd/MFAoFKisrPzN1xETE4PTp0+joKAA27ZtQ2RkpLTkpjpxcXEoKyuTttLS0t88BiIiIiIyHrNcM69WqxEeHo6PP/4Y48ePN1g3f/DgQVy/fh3btm3D/fv3UVpaCp1OJwXyy5cvS31zc3Px4MEDLFu2DI6OjgDwwl35ulQdt6KiosF93N3dERERgZSUFOzcuROff/55neeq728ciIiIiMj0meWdeQD45JNPkJOTg6ioKJw/fx63bt1CamoqYmJiMGvWLISGhqJPnz5o0aIFlixZghs3bmDt2rXSWncA8PLygpWVFZKTk3Hz5k2sW7cOe/bsadA43NzcYG1tjYyMDNy7dw9lZWUN6jNp0iQsX74cNjY2GD58+MsXhIiIiIhkx2zDfJcuXZCZmQmFQoHhw4fD29sbMTExmDt3LtauXQvg1zv4mzdvRlpaGnr06IFLly5h+vTp0jHatGmDDRs2IDk5GUFBQcjIyMCCBQsaNA4bGxusWLECS5YsgaurK5YvX96gPpGRkVAqlXj77bdhYWHxktUgIiIiIjlSiOb8c6cmTK/X4w9/+APy8vJw8uRJ2Xw4tLi4GO3atcP58+fRrVu3Bu2r1WqhVCoBxAFonuU3GmiQwClHREREr4CqLFVWVma0P/Zptnfmn2dpaYn09HTExsbib3/7m7GHU6fKykr89NNPiIuLQ58+fRoc5ImIiIhI/szyA7A1sbGxwfvvv2/sYdTL7du34ePjA19fX+zcudPYwyEiIiIiI+AyGzNmCr8aIiIiIpIrU8hSXGZDRERERCRTDPNERERERDLFME9EREREJFMM80REREREMsUwT0REREQkUwzzREREREQyxTBPRERERCRTDPNERERERDLFME9EREREJFMM80REREREMsUwT0REREQkUwzzREREREQyxTBPRERERCRTDPNERERERDLFME9EREREJFOWxh4AGZ9SmQjAytjDICIianYaaBr1eAlCNOrxiOrCO/NERERERDLFME9EREREJFMM80REREREMmU2Yb6wsBCTJk2Cu7s7bG1t4e/vj//8z//E3//+d2MPjYiIiIjopZhFmM/NzUVwcDBKS0uxY8cOXL9+HVu3boVer8eaNWuMPTwiIiIiopdiFmF+5syZ8PX1xb59+zBw4EB4eXmhb9++SE5ORnx8PABgxYoV8PT0hI2NDcLCwnD27Flp/y1btsDDwwNffvklfHx8oFKpMGvWLFRUVCA+Ph7Ozs7w8PBAWlqatM+JEyegUChw8OBB+Pv7w87ODv/6r/+KBw8eSH1SUlLQo0cP2Nvbo3379oiPj4der5faJ02ahOjoaCxatAitW7eGu7s7Vq9eLbV36tQJycnJBteakpICHx8fCH6anoiIiOiV98qH+ZKSEhw7dgzvvfceFArFC+2Ojo744osvoNFokJSUhKysLHTr1g0jR47EL7/8IvUrLS3FF198gf3792PHjh3YsGEDRowYgcrKSpw+fRrTp0/H1KlTce/ePYPjJyQkYOvWrTh+/DhycnIwZ84cqa2yshIrV67ElStXsG7dOmzcuBEbNmww2H/fvn3Q6XQ4c+YMNBoN/vjHPyI7OxsAEBsbi9TUVIP+qampmDhxYrXXqtPpoNVqDTYiIiIikq9XPszn5+dDCIGAgIAa+6xduxYzZ87EhAkTpLvddnZ2BkG5vLwcn332Gbp27YpRo0YhPDwc//u//4vExET4+/tjwYIFsLCwwJkzZwyO/ec//xl9+/ZFWFgY1q5di88//1y6Oz916lRERETAx8cHI0aMwOzZs/HVV18Z7O/p6Ylly5bB398f77zzDvz9/fHdd98BAGJiYvDDDz8gLy8PAHDr1i2cPHkSMTEx1V5nYmIilEqltDk7Oze8oERERERkMl75MF8fubm5CAsLk15bWloiODgYubm50nsuLi5wdXWVXru6uqJLly7SawsLCzg7O79wZz4kJMTga71ej/z8fADAqVOnMHz4cLRr1w4qlQoajQZ37twx2L9r164Gr93c3FBcXAwAcHd3R0REhPRDR1paGkJDQ+Hn51ftdcbFxaGsrEzaSktL6y4OEREREZmsVz7M+/r6QqFQGATzl2FlZfgXUhUKRbXvVVZWvvBedV8/evQIo0aNgo+PD3bt2oULFy5gwYIF0Ol0dZ732XNMmjQJaWlpEEIgNTUVsbGxtV6DnZ2dwUZERERE8vXKh3m1Wo3w8HB89NFH1X4o9OHDhwgICDBYHqPX63Hu3DkEBgb+5vM/+0Has2fPwtLSEr6+vsjNzcWDBw+wbNkyhIWFwd/f/4W78vURGRmJn3/+GatWrUJhYSHefPPN3zxmIiIiIpIHS2MPoDl8+umn6N+/PyIiIvD+++/D398f//jHP5CWlgZra2vMnj0bU6dORY8ePdCrVy+sXr0aWq0W0dHRv/nc8fHxcHR0BADMnj0bb7/9NhwdHeHl5QUrKyskJydj/PjxyMjIwJ49e+Dg4NCg49va2mL8+PFYuHAhxo4dK52LiIiIiF59r/ydeeDXRzieO3cOHh4eiI2NRWBgIKKjo6FQKPDee+/hrbfeQkJCAubPn4/u3bsjOzsbBw8eRMuWLX/zuePj4zFhwgQMHjwYfn5++OijjwAAbdq0wYYNG5CcnIygoCBkZGRgwYIFL3WO2NhY6HS6Gj/4SkRERESvJoXgA8mbxIkTJxAeHg6dTgdLy6b9Bcju3bsxffp0/PTTTw06l1arhVKpBBAHwKqu7kRERK8cDTSNerwExiqzUpWlysrKjPZZRLNYZvOqKi8vx61bt5CUlIR/+7d/a/IfGoiIiIjItJjFMptX1fbt29G5c2fY2tq+9BIdIiIiIpIvLrMxY6bwqyEiIiIiuTKFLMU780REREREMsUwT0REREQkUwzzREREREQyxTBPRERERCRTDPNERERERDLFME9EREREJFMM80REREREMsUwT0REREQkUwzzREREREQyxTBPRERERCRTDPNERERERDLFME9EREREJFMM80REREREMsUwT0REREQkUwzzREREREQyZWnsAZDxKZWJAKyMPQwiIiJ6RWmgabZzJQjRbOcyBbwzT0REREQkUwzzREREREQyxTBPRERERCRTDPP1NGTIECgUCigUCqhUKoSEhOCvf/2rsYdFRERERGaMYb4B5syZg7t37+LixYvo1asXxo4dixs3bjT4OOXl5U0wOiIiIiIyNwzzDWBvbw83Nzd07NgRn376KSwsLHDkyBFUVFQgPj4eHh4ecHBwwJAhQ5CdnS3tp9FoMGDAAKxZswbt2rVDcHAwAOCjjz6Cj48PbGxs4OHhAY1GI+2Tl5eH4cOHw87ODm3atMG8efOg1+uldm9vb6xatQpvvPEG7O3t0alTJxw7dqzZakFERERExscw/5IsLS1hZWUFnU6HxYsX4+DBg9i+fTsuXryI/v37Y9iwYfjll1+k/llZWcjMzERGRgbS09Pxww8/ICEhAevWrUNeXh7S09Ph5+cHAKioqMDYsWNhY2ODs2fPYuvWrdi2bRuWL19uMIbly5dj9OjRyMrKwsCBAxEdHY2nT5/WOGadTgetVmuwEREREZF8Mcy/BJ1Oh6SkJDx69Ah9+vTBypUrsXXrVgwcOBB+fn5ITExEq1atsG/fPmkfhUKBjRs3okuXLujUqRNu374NNzc3DB06FF5eXujXrx+io6MBAIcPH0ZBQQG2bt2KoKAgjBgxAosXL8aaNWsMxvGHP/wBMTEx6NixIxYvXoy7d+/i+vXrNY47MTERSqVS2pydnZumQERERETULBjmG2D58uVQqVRQKpVYsWIF/ud//gcODg7QarUICwuDSqWStvz8fNy8eVPat2PHjlCpVNLriIgIKBQK+Pr6Ytq0afj6668h/u+PHOTm5qJjx45o3bq11L9v374oKSnB/fv3pfeCgoKkr93c3AAAxcXFNY4/Li4OZWVl0lZaWvrbi0JERERERsO/ANsAU6dOxdy5c6FSqaTwnJmZCQA4ceIEHB0dDfo/G8aVSqVBW6tWrZCdnY0jR47g0KFDmDJlCkJDQ7Fv3z4p1NfFyur//9VWhUIBAKisrKy1/7P7EBEREZG8Mcw3gJOTk7SuvUqnTp1gbW2Nu3fvSh9srS9ra2uMHDkSI0eORHR0NEJDQ1FcXIzAwEDk5eXh/v370g8Ep0+fhouLi8EPCERERERk3hjmf6OWLVviP/7jPzB9+nQ8ffoUvXr1QlFREfbv348JEyagS5cu1e534MAB3Lp1C4MGDYK9vT127NgBtVoNZ2dnDB8+HD4+Ppg0aRKWLl2KO3fuICEhAXPmzGnmqyMiIiIiU8Yw3whWrFgBZ2dn/OlPf8JPP/0EV1dXDBkypNYPmDo6OmL58uWIi4uDXq9Hz549ceDAAVhYWAAA9u7dixkzZqBPnz5wcHBAbGws5s+f31yXREREREQyoBD1XaBNrxytVvt/a/njAHAtPRERETUNDTTNdq6EZoy2VVmqrKwMdnZ2zXbeZ/FpNkREREREMsUwT0REREQkU1xmY8ZM4VdDRERERHJlClmKd+aJiIiIiGSKYZ6IiIiISKYY5omIiIiIZIphnoiIiIhIphjmiYiIiIhkimGeiIiIiEimLI09ADKeqqeSarVaI4+EiIiISH6qMpQxn/TOzuEJlwAAC9hJREFUMG/GHj16BABwdnY28kiIiIiI5OvJkydQKpVGOTfDvBlTqVQAgJKSEqNNQFOl1Wrh7OyM0tJS/kGt57A2NWNtasba1Iy1qRlrUzPWpmbNWRshBJ48eQJHR8cmPU9tGObNWIsWv35kQqlU8h+CGtjZ2bE2NWBtasba1Iy1qRlrUzPWpmasTc2aqzbGviHKD8ASEREREckUwzwRERERkUxZaDQajbEHQcbTokULDBkyBBYWFsYeislhbWrG2tSMtakZa1Mz1qZmrE3NWJuamVNtFMKYz9IhIiIiIqKXxmU2REREREQyxTBPRERERCRTDPNERERERDLFMG+mkpKS4O7uDqVSiTFjxqCoqMjYQ2p0Go0GCoXCYIuMjJTar1+/jvDwcNjZ2cHb2xubNm0y2F+v1+O9996DWq2Gg4MDYmNj8fjxY4M+X3/9NTp37gxbW1v07t0bZ86caZZra6jdu3dj6NChaNWqFRQKBfR6vUF7c9SiqKgIkZGRUCqVaNu2LZYuXdo0F9tAddXm+TmkUCiQlZVl0Keu76fMzEwEBwfD1tYWgYGBOHDggEH748ePMXnyZLRs2RLOzs6YO3fuC+MwhqVLl6JXr15QqVRo27YtJk+ejHv37hn0Mde5U5/amOvcSUpKQmBgIJRKJZydnTFmzBhcv35dajfXOQPUXRtznTPPi4yMhEKhwJEjR6T3GuO6Nm/ejA4dOsDOzg6DBw82qD1Q99w0WYLMzqZNm4S9vb3YtWuXuHjxohg8eLAYNGiQsYfV6BISEkRISIi4e/eutP38889CCCGePn0q/Pz8xLhx48Tly5fFxo0bhaWlpThy5Ii0/wcffCBcXV3FkSNHRGZmpujcubOYOHGi1H7t2jVhbW0t/vznP4urV6+KWbNmCScnJ1FSUtLs11qX1NRU8eGHH4qlS5cKAEKn00ltzVWLQYMGiYEDB4qLFy+K3bt3C5VKJVJSUpqnALWorTZCCAFApKenG8yjZ/vU9f1UUlIinJycxMyZM8XVq1fF0qVLhbW1tbh27ZrUJyYmRgQGBoozZ86Io0ePirZt24r4+Pimv/g6jBgxQqSmpopr166JzMxMERISIsLDw6V2c547ddVGCPOdO+np6eLw4cPi5s2bIisrS0RGRgo/Pz8hhHnPGSFqr40Q5jtnnrVp0yYxfPhwAUAcPnxYCNE413X06FFhaWkpNmzYIC5fviyioqKEn5+fKC8vF0LUb26aKoZ5M9SzZ0+xcOFC6XV+fr4AIC5evGjEUTW+hIQE0b9//2rb9u7dK2xsbMQvv/wivTdx4kQxduxYIYQQFRUVQq1Wiw0bNkjtR48eFRYWFtL/MObOnSv69esntVdWVgovLy+xZs2apricRnH8+PEXAmtz1OLSpUsCgMjNzZX6xMfHi+7duzfNhb6E6mojhDD4H0p16vp++vjjj0W7du1EZWWl1GfgwIFi9uzZQggh7t+/LywsLERGRobUnpKSIpydnYVer2+Ua2ssp06dEgDEgwcPhBCcO896vjZCcO5Uyc7OFgBEUVER58xznq2NEJwzhYWFwtPTU9y5c8egFo1xXa+//rp4++23pfbHjx8LOzs78Ze//EUIUfe/Z6aMy2zMTHl5OS5duoTXXntNeq9Dhw7w9vZGZmamEUfWNC5dugQ3Nzf4+/tj5syZ+PnnnwEAZ8+eRZ8+feDg4CD1HTp0qFSDmzdvoqSkxKBOgwcPBgCcO3dOOsaz7QqFAq+99prs6tgctTh79iw8PDzg7+9vcI7Lly9Dq9U23cU1kkmTJqFNmzYYOHAgvv76a+n9+nw/nT17FuHh4VAoFFKfZ+t7/vx5CCEwZMgQg/bS0lLcuHGjia+sYUpKSmBrawt7e3sAnDvPer42Vcx97mi1WmzZsgUBAQFwcXHhnHnG87WpYq5zprKyErGxsVi8eDE8PDwM2hrjup6fN/b29ggNDTWoXW1z05QxzJuZ0tJSVFZWok2bNgbvu7i4oLi42EijahphYWHYtm0bDh8+jFWrVuHbb7/F2LFjIYRAcXFxtTWoWvNaVYtn+1hYWKB169ZSW03HkFsdm6MWNbVXVlaipKSkcS+okSUmJmLXrl345ptvMHjwYIwePVpax1mf76f61MbR0RFWVlYG7VVtpqK8vBxLlixBbGwsLC0tAXDuVKmuNoB5z50DBw5ApVLB3t4eX3/9Nb755hu0aNGCcwY11wYw7zmzZs0aqFQqTJ48+YW2xriul503z38WxhRZ1t2FXiXCjP5G2O9+9zvp66CgIHTu3Bl+fn7ST/C1qU+dXpVaNkct5FyrhQsXSl/37t0bt2/fxkcffYSIiIgmq82zd59MQUVFBaKjowEAK1eulN7n3Km5NoB5z53w8HBkZWWhqKgIq1atwltvvYWTJ09yzqDm2lhZWZntnLl27RpWrVol/fblec1xXaY+b2rDO/NmRq1WS3dHnnXv3r0XfiJ91fj6+sLR0REFBQVwdXWttgZVP8m7uroCMLxTUVFRgfv370t1qukYcqtjc9SipvYWLVpArVY37gU1sd69e6OgoABA/b6f6lObBw8eQKfTSe3V3Z00lsrKSkyaNAk5OTn461//CpVKJbWZ+9yprTbVMae5Y29vDz8/PwwYMAA7duzA5cuX8c0335j9nAFqrk11zGXOZGZmoqioCF5eXrC0tJR+w/Uv//IvmDBhQqNcV5s2bV6qds8ugTJVDPNmxsbGBt27d8fx48el9woKClBYWIjQ0FAjjqzp3b59Gw8ePIC3tzdCQkJw7tw5g8edHTt2TKpBhw4doFarDer03XffAQCCg4MBACEhIQbtAHD8+HHZ1bE5ahESEoK///3vyMvLMzhHUFAQ7OzsmubCmsilS5fg7e0NoH7fTyEhIThx4oTBXZ9n69urVy8oFAp8++23Bu3Ozs7w8/NrhiuqmRAC//7v/44zZ87g8OHDaN26tUG7Oc+dumpTHXOaO88TQsDS0tKs50xNqmpTHXOZM5GRkcjOzkZWVpa0AcD69euxbNmyRrmu5+dNWVkZMjMzDWpX29w0aU320VoyWSkpKUKlUondu3eLrKwsER4eLgYOHGjsYTW6efPmiZMnT4qCggJx7Ngx0bt3b9G3b19RUVEhysvLha+vr3jjjTfElStXREpKirCysjJ4BFV8fLxo27atOHr0qMjMzBRdu3at9vFoS5cuFT/++KOYPXu2yT6asrS0VFy8eFF89tlnAoA4d+6cuHjxonj06FGz1WLQoEFi8ODBIisrS+zZs0c4ODiYxKPiaqvN/v37xaZNm8TVq1dFbm6u+O///m/RokULcfDgQWn/ur6fqh6pNmvWLPHjjz+KpKSkFx6pNnHiRNG5c2eRmZkpjh07Jtzd3U3iUXHvvPOOUKvVIjMz0+BReVVPhzDnuVNXbcx57syfP1+cOnVKFBYWiszMTPH6668LT09P8eDBA7OeM0LUXhtznjPVQTWPpvwt13XkyBFhaWkpNm7cKK5cuSLefPNN4evrKz2asj5z01QxzJuppUuXCjc3N2Frayt+//vfi7t37xp7SI0uKipKuLm5CSsrK9G+fXvxzjvviOLiYqk9JydHDB48WNjY2AgvLy+xceNGg/11Op2YO3euaN26tVCpVGLixIni0aNHBn32798vAgMDhbW1tejZs6c4ffp0s1xbQ23evFkAeGE7fvy4EKJ5anH37l0xZswYYWdnJ1xdXcWHH37YpNdcX7XV5ptvvhHdunUT9vb2wsHBQYSEhEiPMXtWXd9Pp0+fFr179xbW1tYiICBA7Nu3z6D90aNHIjY2Vjg4OAgnJycxe/bsFx6RaQzV1QWAKCgokPqY69ypqzbmPHfGjx8v2rVrJ6ytrUW7du3E+PHjxfXr16V2c50zQtReG3OeM9V5NswL0TjXlZKSItq3by9sbGzEoEGDRE5OjkF7XXPTVCmEkPGKfyIiIiIiM8Y180REREREMsUwT0REREQkUwzzREREREQyxTBPRERERCRTDPNERERERDLFME9EREREJFMM80REREREMvX/AAyzp+4p6dGEAAAAAElFTkSuQmCC\" class=\"pd_save\"></center>\n",
       "                        \n",
       "                    \n",
       "                \n",
       "        </div>"
      ],
      "text/plain": [
       "<IPython.core.display.HTML object>"
      ]
     },
     "metadata": {},
     "output_type": "display_data"
    }
   ],
   "source": [
    "display(entities)"
   ]
  },
  {
   "cell_type": "markdown",
   "metadata": {},
   "source": [
    "#### Next we look at the keywords detected by Natural Language Understanding\n"
   ]
  },
  {
   "cell_type": "code",
   "execution_count": 46,
   "metadata": {
    "pixiedust": {
     "displayParams": {
      "aggregation": "SUM",
      "chartsize": "85",
      "charttype": "stacked",
      "clusterby": "Type",
      "handlerId": "barChart",
      "keyFields": "Keywords",
      "legend": "true",
      "mpld3": "false",
      "orientation": "horizontal",
      "rendererId": "matplotlib",
      "rowCount": "100",
      "sortby": "Values ASC",
      "timeseries": "false",
      "title": "Keyword Total Reach",
      "valueFields": "Lifetime Post Total Reach"
     }
    },
    "scrolled": false
   },
   "outputs": [
    {
     "data": {
      "text/html": [
       "<style type=\"text/css\">.pd_warning{display:none;}</style><div class=\"pd_warning\"><em>Hey, there's something awesome here! To see it, open this notebook outside GitHub, in a viewer like Jupyter</em></div>\n",
       "        <div class=\"pd_save is-viewer-good\" style=\"padding-right:10px;text-align: center;line-height:initial !important;font-size: xx-large;font-weight: 500;color: coral;\">\n",
       "            Keyword Total Reach\n",
       "        </div>\n",
       "    <div id=\"chartFigure2add9803\" class=\"pd_save is-viewer-good\" style=\"overflow-x:auto\">\n",
       "            \n",
       "                    \n",
       "                            <center><img style=\"max-width:initial !important\" src=\"data:image/png;base64,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\" class=\"pd_save\"></center>\n",
       "                        \n",
       "                    \n",
       "                \n",
       "        </div>"
      ],
      "text/plain": [
       "<IPython.core.display.HTML object>"
      ]
     },
     "metadata": {},
     "output_type": "display_data"
    }
   ],
   "source": [
    "display(keywords)"
   ]
  },
  {
   "cell_type": "markdown",
   "metadata": {},
   "source": [
    "#### Now let's take a look at what Visual Recognition can show us.\n",
    "\n",
    "See how the images influenced the metrics. We've used visual recognition to identify a class and a type hierarchy for each image. We've also captured the top recognized color for each image. Our sample data doesn't have a significant number of data points, but these three charts demonstrate how you could:\n",
    "\n",
    "1. Recognize image classes that correlate to higher total reach.\n",
    "1. Add a type hierarchy for a higher level abstraction or to add grouping/stacking to the class data.\n",
    "1. Determine if image color correlates to total reach.\n",
    "\n",
    "Visual recognition makes it surprisingly easy to do all of the above. Of course, you can easily try different metrics as you experiment. If you are not convinced that you should add ultramarine laser pictures to all of your articles, then you might want to do some research with a better data sample."
   ]
  },
  {
   "cell_type": "code",
   "execution_count": 47,
   "metadata": {
    "pixiedust": {
     "displayParams": {
      "aggregation": "SUM",
      "chartsize": "85",
      "charttype": "stacked",
      "handlerId": "barChart",
      "keyFields": "Image Class",
      "legend": "true",
      "orientation": "horizontal",
      "rendererId": "matplotlib",
      "rowCount": "100",
      "sortby": "Values ASC",
      "title": "Image Classes",
      "valueFields": "Lifetime Post Total Reach"
     }
    }
   },
   "outputs": [
    {
     "data": {
      "text/html": [
       "<style type=\"text/css\">.pd_warning{display:none;}</style><div class=\"pd_warning\"><em>Hey, there's something awesome here! To see it, open this notebook outside GitHub, in a viewer like Jupyter</em></div>"
      ],
      "text/plain": [
       "<IPython.core.display.HTML object>"
      ]
     },
     "metadata": {
      "pixieapp_metadata": null
     },
     "output_type": "display_data"
    }
   ],
   "source": [
    "display(df_pic_keywords)"
   ]
  },
  {
   "cell_type": "code",
   "execution_count": 48,
   "metadata": {
    "pixiedust": {
     "displayParams": {
      "aggregation": "SUM",
      "chartsize": "85",
      "charttype": "stacked",
      "handlerId": "barChart",
      "keyFields": "Image Subtype",
      "legend": "true",
      "mpld3": "false",
      "orientation": "horizontal",
      "rendererId": "matplotlib",
      "rowCount": "100",
      "sortby": "Values ASC",
      "stretch": "false",
      "title": "Image Type Hierarchy",
      "valueFields": "Lifetime Post Total Reach"
     }
    }
   },
   "outputs": [
    {
     "data": {
      "text/html": [
       "<style type=\"text/css\">.pd_warning{display:none;}</style><div class=\"pd_warning\"><em>Hey, there's something awesome here! To see it, open this notebook outside GitHub, in a viewer like Jupyter</em></div>\n",
       "        <div class=\"pd_save is-viewer-good\" style=\"padding-right:10px;text-align: center;line-height:initial !important;font-size: xx-large;font-weight: 500;color: coral;\">\n",
       "            Image Type Hierarchy\n",
       "        </div>\n",
       "    <div id=\"chartFigure3adc218d\" class=\"pd_save is-viewer-good\" style=\"overflow-x:auto\">\n",
       "            \n",
       "                    \n",
       "                            <center><img style=\"max-width:initial !important\" src=\"data:image/png;base64,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\" class=\"pd_save\"></center>\n",
       "                        \n",
       "                    \n",
       "                \n",
       "        </div>"
      ],
      "text/plain": [
       "<IPython.core.display.HTML object>"
      ]
     },
     "metadata": {},
     "output_type": "display_data"
    }
   ],
   "source": [
    "display(df_pic_keywords)"
   ]
  },
  {
   "cell_type": "code",
   "execution_count": 49,
   "metadata": {
    "pixiedust": {
     "displayParams": {
      "aggregation": "SUM",
      "chartsize": "85",
      "charttype": "stacked",
      "handlerId": "barChart",
      "keyFields": "Image Color",
      "legend": "true",
      "orientation": "horizontal",
      "rendererId": "matplotlib",
      "rowCount": "100",
      "sortby": "Values ASC",
      "title": "Image Color",
      "valueFields": "Lifetime Post Total Reach"
     }
    }
   },
   "outputs": [
    {
     "data": {
      "text/html": [
       "<style type=\"text/css\">.pd_warning{display:none;}</style><div class=\"pd_warning\"><em>Hey, there's something awesome here! To see it, open this notebook outside GitHub, in a viewer like Jupyter</em></div>\n",
       "        <div class=\"pd_save is-viewer-good\" style=\"padding-right:10px;text-align: center;line-height:initial !important;font-size: xx-large;font-weight: 500;color: coral;\">\n",
       "            Image Color\n",
       "        </div>\n",
       "    <div id=\"chartFigure598dd351\" class=\"pd_save is-viewer-good\" style=\"overflow-x:auto\">\n",
       "            \n",
       "                    \n",
       "                            <center><img style=\"max-width:initial !important\" src=\"data:image/png;base64,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\" class=\"pd_save\"></center>\n",
       "                        \n",
       "                    \n",
       "                \n",
       "        </div>"
      ],
      "text/plain": [
       "<IPython.core.display.HTML object>"
      ]
     },
     "metadata": {},
     "output_type": "display_data"
    }
   ],
   "source": [
    "display(df_pic_keywords)"
   ]
  },
  {
   "cell_type": "markdown",
   "metadata": {},
   "source": [
    "# More Info.\n",
    "For more information about PixieDust, check out the following:\n",
    "* PixieDust Documentation: https://pixiedust.github.io/pixiedust/\n",
    "* PixieDust GitHub Repo: https://github.com/pixiedust/pixiedust\n",
    "\n",
    "Visit the With Watson page to learn more about the work we are doing with our partners to make Watson and Watson Studio come to life for our clients\n",
    "* With Watson Page: https://www.ibm.com/watson/with-watson/\n"
   ]
  },
  {
   "cell_type": "markdown",
   "metadata": {},
   "source": [
    "### About the Authors:\n",
    "#### Tyler Andersen and Anna Quincy\n",
    "Tyler and Anna are part of the With Watson team focused on pairing Cognitive Services with Data Science Patterns and Techniques for clients around the world. They work directly with clients to determine how they can use Watson and IBM's Watson Studio with their own data to solve a wide range of business issues.\n",
    " \n",
    "#### Mark Sturdevant\n",
    "Mark is a Developer Advocate at IBM where he implements open source code patterns to guide developers as they innovate using IBM's AI and data analytics solutions with Watson and Watson Studio."
   ]
  },
  {
   "cell_type": "markdown",
   "metadata": {},
   "source": [
    "<hr>\n",
    "Copyright © IBM Corp. 2017, 2018. This notebook and its source code are released under the terms of the Apache 2.0."
   ]
  },
  {
   "cell_type": "markdown",
   "metadata": {},
   "source": [
    "Licensed under the Apache License, Version 2.0 (the \"License\"); you may\n",
    "not use this file except in compliance with the License. You may obtain\n",
    "a copy of the License at\n",
    "\n",
    "      http://www.apache.org/licenses/LICENSE-2.0\n",
    "\n",
    "Unless required by applicable law or agreed to in writing, software\n",
    "distributed under the License is distributed on an \"AS IS\" BASIS, WITHOUT\n",
    "WARRANTIES OR CONDITIONS OF ANY KIND, either express or implied. See the\n",
    "License for the specific language governing permissions and limitations\n",
    "under the License."
   ]
  }
 ],
 "metadata": {
  "kernelspec": {
   "display_name": "Python 3.6",
   "language": "python",
   "name": "python3"
  },
  "language_info": {
   "codemirror_mode": {
    "name": "ipython",
    "version": 3
   },
   "file_extension": ".py",
   "mimetype": "text/x-python",
   "name": "python",
   "nbconvert_exporter": "python",
   "pygments_lexer": "ipython3",
   "version": "3.6.8"
  }
 },
 "nbformat": 4,
 "nbformat_minor": 1
}
